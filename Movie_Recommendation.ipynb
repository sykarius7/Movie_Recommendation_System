{
  "nbformat": 4,
  "nbformat_minor": 0,
  "metadata": {
    "colab": {
      "provenance": []
    },
    "kernelspec": {
      "name": "python3",
      "display_name": "Python 3"
    },
    "language_info": {
      "name": "python"
    }
  },
  "cells": [
    {
      "cell_type": "markdown",
      "source": [
        "# **Title** **Of** **Project**"
      ],
      "metadata": {
        "id": "-Iv3sUn59eCD"
      }
    },
    {
      "cell_type": "markdown",
      "source": [
        "**MOVIE** **RECOMMENDATION** **SYSTEM**\n"
      ],
      "metadata": {
        "id": "HYHhrWeH9bqp"
      }
    },
    {
      "cell_type": "markdown",
      "source": [
        "# **Objective**"
      ],
      "metadata": {
        "id": "aKg3uFZ29v0L"
      }
    },
    {
      "cell_type": "markdown",
      "source": [
        "The movie recommendation system is designed to provide personalized movie suggestions based on a user's input of their favorite movie. The system utilizes cosine similarity to measure the similarity between movies based on their features or attributes.\n",
        "\n",
        "Here are the key steps involved:\n",
        "\n",
        "1)User Input: The user is prompted to enter the name of their favorite movie.\n",
        "2)Closest Match: The system finds the closest match to the user's input by comparing it with a list of movie titles.\n",
        "3)Movie Selection: The system identifies the movie with the closest match and retrieves its corresponding index or ID.\n",
        "4)Similarity Calculation: The system calculates the similarity scores between the selected movie and all other movies using cosine similarity. The similarity score indicates how closely related each movie is to the selected movie.\n",
        "5)Ranking Recommendations: The system ranks the movies based on their similarity scores, with higher scores indicating a stronger similarity.\n",
        "6)Top Recommendations: The system presents the top 10 movies with the highest similarity scores as recommendations to the user.\n",
        "By leveraging the concept of cosine similarity, the system can suggest movies that are similar to the user's favorite movie, based on shared characteristics or features. This allows users to discover new movies that align with their preferences and interests.\n",
        "\n"
      ],
      "metadata": {
        "id": "TdNSp84a-eQj"
      }
    },
    {
      "cell_type": "markdown",
      "source": [
        "# **Data** **Source**"
      ],
      "metadata": {
        "id": "5zZlTDFa-f5C"
      }
    },
    {
      "cell_type": "markdown",
      "source": [
        "https://github.com/YBI-Foundation/Dataset/blob/main/Movies%20Recommendation.csv"
      ],
      "metadata": {
        "id": "UEEpkalciatA"
      }
    },
    {
      "cell_type": "markdown",
      "source": [
        "# **Import Library**"
      ],
      "metadata": {
        "id": "sqhtA_DT-z8P"
      }
    },
    {
      "cell_type": "code",
      "execution_count": 1,
      "metadata": {
        "id": "I_u2nd6S9NYZ"
      },
      "outputs": [],
      "source": [
        "import pandas as pd\n",
        "import numpy as np"
      ]
    },
    {
      "cell_type": "markdown",
      "source": [
        "# **Import Data**"
      ],
      "metadata": {
        "id": "Py4rIsKaACRD"
      }
    },
    {
      "cell_type": "code",
      "source": [
        "df=pd.read_csv(\"https://github.com/YBI-Foundation/Dataset/raw/main/Movies%20Recommendation.csv\")"
      ],
      "metadata": {
        "id": "rfeX0pMA-pJm"
      },
      "execution_count": 2,
      "outputs": []
    },
    {
      "cell_type": "code",
      "source": [
        "df.head()"
      ],
      "metadata": {
        "colab": {
          "base_uri": "https://localhost:8080/",
          "height": 716
        },
        "id": "Y_7oR0hmCAaM",
        "outputId": "50789b48-9d8e-4cce-f492-b5a2d45861fd"
      },
      "execution_count": 3,
      "outputs": [
        {
          "output_type": "execute_result",
          "data": {
            "text/plain": [
              "   Movie_ID      Movie_Title                       Movie_Genre Movie_Language  \\\n",
              "0         1       Four Rooms                      Crime Comedy             en   \n",
              "1         2        Star Wars  Adventure Action Science Fiction             en   \n",
              "2         3     Finding Nemo                  Animation Family             en   \n",
              "3         4     Forrest Gump              Comedy Drama Romance             en   \n",
              "4         5  American Beauty                             Drama             en   \n",
              "\n",
              "   Movie_Budget  Movie_Popularity Movie_Release_Date  Movie_Revenue  \\\n",
              "0       4000000         22.876230         09-12-1995        4300000   \n",
              "1      11000000        126.393695         25-05-1977      775398007   \n",
              "2      94000000         85.688789         30-05-2003      940335536   \n",
              "3      55000000        138.133331         06-07-1994      677945399   \n",
              "4      15000000         80.878605         15-09-1999      356296601   \n",
              "\n",
              "   Movie_Runtime  Movie_Vote  ...  \\\n",
              "0           98.0         6.5  ...   \n",
              "1          121.0         8.1  ...   \n",
              "2          100.0         7.6  ...   \n",
              "3          142.0         8.2  ...   \n",
              "4          122.0         7.9  ...   \n",
              "\n",
              "                                      Movie_Homepage  \\\n",
              "0                                                NaN   \n",
              "1  http://www.starwars.com/films/star-wars-episod...   \n",
              "2              http://movies.disney.com/finding-nemo   \n",
              "3                                                NaN   \n",
              "4                      http://www.dreamworks.com/ab/   \n",
              "\n",
              "                                      Movie_Keywords  \\\n",
              "0          hotel new year's eve witch bet hotel room   \n",
              "1        android galaxy hermit death star lightsaber   \n",
              "2  father son relationship harbor underwater fish...   \n",
              "3  vietnam veteran hippie mentally disabled runni...   \n",
              "4  male nudity female nudity adultery midlife cri...   \n",
              "\n",
              "                                      Movie_Overview  \\\n",
              "0  It's Ted the Bellhop's first night on the job....   \n",
              "1  Princess Leia is captured and held hostage by ...   \n",
              "2  Nemo, an adventurous young clownfish, is unexp...   \n",
              "3  A man with a low IQ has accomplished great thi...   \n",
              "4  Lester Burnham, a depressed suburban father in...   \n",
              "\n",
              "                              Movie_Production_House  \\\n",
              "0  [{\"name\": \"Miramax Films\", \"id\": 14}, {\"name\":...   \n",
              "1  [{\"name\": \"Lucasfilm\", \"id\": 1}, {\"name\": \"Twe...   \n",
              "2     [{\"name\": \"Pixar Animation Studios\", \"id\": 3}]   \n",
              "3          [{\"name\": \"Paramount Pictures\", \"id\": 4}]   \n",
              "4  [{\"name\": \"DreamWorks SKG\", \"id\": 27}, {\"name\"...   \n",
              "\n",
              "                            Movie_Production_Country  \\\n",
              "0  [{\"iso_3166_1\": \"US\", \"name\": \"United States o...   \n",
              "1  [{\"iso_3166_1\": \"US\", \"name\": \"United States o...   \n",
              "2  [{\"iso_3166_1\": \"US\", \"name\": \"United States o...   \n",
              "3  [{\"iso_3166_1\": \"US\", \"name\": \"United States o...   \n",
              "4  [{\"iso_3166_1\": \"US\", \"name\": \"United States o...   \n",
              "\n",
              "                      Movie_Spoken_Language  \\\n",
              "0  [{\"iso_639_1\": \"en\", \"name\": \"English\"}]   \n",
              "1  [{\"iso_639_1\": \"en\", \"name\": \"English\"}]   \n",
              "2  [{\"iso_639_1\": \"en\", \"name\": \"English\"}]   \n",
              "3  [{\"iso_639_1\": \"en\", \"name\": \"English\"}]   \n",
              "4  [{\"iso_639_1\": \"en\", \"name\": \"English\"}]   \n",
              "\n",
              "                                       Movie_Tagline  \\\n",
              "0  Twelve outrageous guests. Four scandalous requ...   \n",
              "1       A long time ago in a galaxy far, far away...   \n",
              "2  There are 3.7 trillion fish in the ocean, they...   \n",
              "3  The world will never be the same, once you've ...   \n",
              "4                                       Look closer.   \n",
              "\n",
              "                                          Movie_Cast  \\\n",
              "0  Tim Roth Antonio Banderas Jennifer Beals Madon...   \n",
              "1  Mark Hamill Harrison Ford Carrie Fisher Peter ...   \n",
              "2  Albert Brooks Ellen DeGeneres Alexander Gould ...   \n",
              "3  Tom Hanks Robin Wright Gary Sinise Mykelti Wil...   \n",
              "4  Kevin Spacey Annette Bening Thora Birch Wes Be...   \n",
              "\n",
              "                                          Movie_Crew   Movie_Director  \n",
              "0  [{'name': 'Allison Anders', 'gender': 1, 'depa...   Allison Anders  \n",
              "1  [{'name': 'George Lucas', 'gender': 2, 'depart...     George Lucas  \n",
              "2  [{'name': 'Andrew Stanton', 'gender': 2, 'depa...   Andrew Stanton  \n",
              "3  [{'name': 'Alan Silvestri', 'gender': 2, 'depa...  Robert Zemeckis  \n",
              "4  [{'name': 'Thomas Newman', 'gender': 2, 'depar...       Sam Mendes  \n",
              "\n",
              "[5 rows x 21 columns]"
            ],
            "text/html": [
              "\n",
              "  <div id=\"df-c9a693f1-58f7-488c-a559-715e4b4ff415\">\n",
              "    <div class=\"colab-df-container\">\n",
              "      <div>\n",
              "<style scoped>\n",
              "    .dataframe tbody tr th:only-of-type {\n",
              "        vertical-align: middle;\n",
              "    }\n",
              "\n",
              "    .dataframe tbody tr th {\n",
              "        vertical-align: top;\n",
              "    }\n",
              "\n",
              "    .dataframe thead th {\n",
              "        text-align: right;\n",
              "    }\n",
              "</style>\n",
              "<table border=\"1\" class=\"dataframe\">\n",
              "  <thead>\n",
              "    <tr style=\"text-align: right;\">\n",
              "      <th></th>\n",
              "      <th>Movie_ID</th>\n",
              "      <th>Movie_Title</th>\n",
              "      <th>Movie_Genre</th>\n",
              "      <th>Movie_Language</th>\n",
              "      <th>Movie_Budget</th>\n",
              "      <th>Movie_Popularity</th>\n",
              "      <th>Movie_Release_Date</th>\n",
              "      <th>Movie_Revenue</th>\n",
              "      <th>Movie_Runtime</th>\n",
              "      <th>Movie_Vote</th>\n",
              "      <th>...</th>\n",
              "      <th>Movie_Homepage</th>\n",
              "      <th>Movie_Keywords</th>\n",
              "      <th>Movie_Overview</th>\n",
              "      <th>Movie_Production_House</th>\n",
              "      <th>Movie_Production_Country</th>\n",
              "      <th>Movie_Spoken_Language</th>\n",
              "      <th>Movie_Tagline</th>\n",
              "      <th>Movie_Cast</th>\n",
              "      <th>Movie_Crew</th>\n",
              "      <th>Movie_Director</th>\n",
              "    </tr>\n",
              "  </thead>\n",
              "  <tbody>\n",
              "    <tr>\n",
              "      <th>0</th>\n",
              "      <td>1</td>\n",
              "      <td>Four Rooms</td>\n",
              "      <td>Crime Comedy</td>\n",
              "      <td>en</td>\n",
              "      <td>4000000</td>\n",
              "      <td>22.876230</td>\n",
              "      <td>09-12-1995</td>\n",
              "      <td>4300000</td>\n",
              "      <td>98.0</td>\n",
              "      <td>6.5</td>\n",
              "      <td>...</td>\n",
              "      <td>NaN</td>\n",
              "      <td>hotel new year's eve witch bet hotel room</td>\n",
              "      <td>It's Ted the Bellhop's first night on the job....</td>\n",
              "      <td>[{\"name\": \"Miramax Films\", \"id\": 14}, {\"name\":...</td>\n",
              "      <td>[{\"iso_3166_1\": \"US\", \"name\": \"United States o...</td>\n",
              "      <td>[{\"iso_639_1\": \"en\", \"name\": \"English\"}]</td>\n",
              "      <td>Twelve outrageous guests. Four scandalous requ...</td>\n",
              "      <td>Tim Roth Antonio Banderas Jennifer Beals Madon...</td>\n",
              "      <td>[{'name': 'Allison Anders', 'gender': 1, 'depa...</td>\n",
              "      <td>Allison Anders</td>\n",
              "    </tr>\n",
              "    <tr>\n",
              "      <th>1</th>\n",
              "      <td>2</td>\n",
              "      <td>Star Wars</td>\n",
              "      <td>Adventure Action Science Fiction</td>\n",
              "      <td>en</td>\n",
              "      <td>11000000</td>\n",
              "      <td>126.393695</td>\n",
              "      <td>25-05-1977</td>\n",
              "      <td>775398007</td>\n",
              "      <td>121.0</td>\n",
              "      <td>8.1</td>\n",
              "      <td>...</td>\n",
              "      <td>http://www.starwars.com/films/star-wars-episod...</td>\n",
              "      <td>android galaxy hermit death star lightsaber</td>\n",
              "      <td>Princess Leia is captured and held hostage by ...</td>\n",
              "      <td>[{\"name\": \"Lucasfilm\", \"id\": 1}, {\"name\": \"Twe...</td>\n",
              "      <td>[{\"iso_3166_1\": \"US\", \"name\": \"United States o...</td>\n",
              "      <td>[{\"iso_639_1\": \"en\", \"name\": \"English\"}]</td>\n",
              "      <td>A long time ago in a galaxy far, far away...</td>\n",
              "      <td>Mark Hamill Harrison Ford Carrie Fisher Peter ...</td>\n",
              "      <td>[{'name': 'George Lucas', 'gender': 2, 'depart...</td>\n",
              "      <td>George Lucas</td>\n",
              "    </tr>\n",
              "    <tr>\n",
              "      <th>2</th>\n",
              "      <td>3</td>\n",
              "      <td>Finding Nemo</td>\n",
              "      <td>Animation Family</td>\n",
              "      <td>en</td>\n",
              "      <td>94000000</td>\n",
              "      <td>85.688789</td>\n",
              "      <td>30-05-2003</td>\n",
              "      <td>940335536</td>\n",
              "      <td>100.0</td>\n",
              "      <td>7.6</td>\n",
              "      <td>...</td>\n",
              "      <td>http://movies.disney.com/finding-nemo</td>\n",
              "      <td>father son relationship harbor underwater fish...</td>\n",
              "      <td>Nemo, an adventurous young clownfish, is unexp...</td>\n",
              "      <td>[{\"name\": \"Pixar Animation Studios\", \"id\": 3}]</td>\n",
              "      <td>[{\"iso_3166_1\": \"US\", \"name\": \"United States o...</td>\n",
              "      <td>[{\"iso_639_1\": \"en\", \"name\": \"English\"}]</td>\n",
              "      <td>There are 3.7 trillion fish in the ocean, they...</td>\n",
              "      <td>Albert Brooks Ellen DeGeneres Alexander Gould ...</td>\n",
              "      <td>[{'name': 'Andrew Stanton', 'gender': 2, 'depa...</td>\n",
              "      <td>Andrew Stanton</td>\n",
              "    </tr>\n",
              "    <tr>\n",
              "      <th>3</th>\n",
              "      <td>4</td>\n",
              "      <td>Forrest Gump</td>\n",
              "      <td>Comedy Drama Romance</td>\n",
              "      <td>en</td>\n",
              "      <td>55000000</td>\n",
              "      <td>138.133331</td>\n",
              "      <td>06-07-1994</td>\n",
              "      <td>677945399</td>\n",
              "      <td>142.0</td>\n",
              "      <td>8.2</td>\n",
              "      <td>...</td>\n",
              "      <td>NaN</td>\n",
              "      <td>vietnam veteran hippie mentally disabled runni...</td>\n",
              "      <td>A man with a low IQ has accomplished great thi...</td>\n",
              "      <td>[{\"name\": \"Paramount Pictures\", \"id\": 4}]</td>\n",
              "      <td>[{\"iso_3166_1\": \"US\", \"name\": \"United States o...</td>\n",
              "      <td>[{\"iso_639_1\": \"en\", \"name\": \"English\"}]</td>\n",
              "      <td>The world will never be the same, once you've ...</td>\n",
              "      <td>Tom Hanks Robin Wright Gary Sinise Mykelti Wil...</td>\n",
              "      <td>[{'name': 'Alan Silvestri', 'gender': 2, 'depa...</td>\n",
              "      <td>Robert Zemeckis</td>\n",
              "    </tr>\n",
              "    <tr>\n",
              "      <th>4</th>\n",
              "      <td>5</td>\n",
              "      <td>American Beauty</td>\n",
              "      <td>Drama</td>\n",
              "      <td>en</td>\n",
              "      <td>15000000</td>\n",
              "      <td>80.878605</td>\n",
              "      <td>15-09-1999</td>\n",
              "      <td>356296601</td>\n",
              "      <td>122.0</td>\n",
              "      <td>7.9</td>\n",
              "      <td>...</td>\n",
              "      <td>http://www.dreamworks.com/ab/</td>\n",
              "      <td>male nudity female nudity adultery midlife cri...</td>\n",
              "      <td>Lester Burnham, a depressed suburban father in...</td>\n",
              "      <td>[{\"name\": \"DreamWorks SKG\", \"id\": 27}, {\"name\"...</td>\n",
              "      <td>[{\"iso_3166_1\": \"US\", \"name\": \"United States o...</td>\n",
              "      <td>[{\"iso_639_1\": \"en\", \"name\": \"English\"}]</td>\n",
              "      <td>Look closer.</td>\n",
              "      <td>Kevin Spacey Annette Bening Thora Birch Wes Be...</td>\n",
              "      <td>[{'name': 'Thomas Newman', 'gender': 2, 'depar...</td>\n",
              "      <td>Sam Mendes</td>\n",
              "    </tr>\n",
              "  </tbody>\n",
              "</table>\n",
              "<p>5 rows × 21 columns</p>\n",
              "</div>\n",
              "      <button class=\"colab-df-convert\" onclick=\"convertToInteractive('df-c9a693f1-58f7-488c-a559-715e4b4ff415')\"\n",
              "              title=\"Convert this dataframe to an interactive table.\"\n",
              "              style=\"display:none;\">\n",
              "        \n",
              "  <svg xmlns=\"http://www.w3.org/2000/svg\" height=\"24px\"viewBox=\"0 0 24 24\"\n",
              "       width=\"24px\">\n",
              "    <path d=\"M0 0h24v24H0V0z\" fill=\"none\"/>\n",
              "    <path d=\"M18.56 5.44l.94 2.06.94-2.06 2.06-.94-2.06-.94-.94-2.06-.94 2.06-2.06.94zm-11 1L8.5 8.5l.94-2.06 2.06-.94-2.06-.94L8.5 2.5l-.94 2.06-2.06.94zm10 10l.94 2.06.94-2.06 2.06-.94-2.06-.94-.94-2.06-.94 2.06-2.06.94z\"/><path d=\"M17.41 7.96l-1.37-1.37c-.4-.4-.92-.59-1.43-.59-.52 0-1.04.2-1.43.59L10.3 9.45l-7.72 7.72c-.78.78-.78 2.05 0 2.83L4 21.41c.39.39.9.59 1.41.59.51 0 1.02-.2 1.41-.59l7.78-7.78 2.81-2.81c.8-.78.8-2.07 0-2.86zM5.41 20L4 18.59l7.72-7.72 1.47 1.35L5.41 20z\"/>\n",
              "  </svg>\n",
              "      </button>\n",
              "      \n",
              "  <style>\n",
              "    .colab-df-container {\n",
              "      display:flex;\n",
              "      flex-wrap:wrap;\n",
              "      gap: 12px;\n",
              "    }\n",
              "\n",
              "    .colab-df-convert {\n",
              "      background-color: #E8F0FE;\n",
              "      border: none;\n",
              "      border-radius: 50%;\n",
              "      cursor: pointer;\n",
              "      display: none;\n",
              "      fill: #1967D2;\n",
              "      height: 32px;\n",
              "      padding: 0 0 0 0;\n",
              "      width: 32px;\n",
              "    }\n",
              "\n",
              "    .colab-df-convert:hover {\n",
              "      background-color: #E2EBFA;\n",
              "      box-shadow: 0px 1px 2px rgba(60, 64, 67, 0.3), 0px 1px 3px 1px rgba(60, 64, 67, 0.15);\n",
              "      fill: #174EA6;\n",
              "    }\n",
              "\n",
              "    [theme=dark] .colab-df-convert {\n",
              "      background-color: #3B4455;\n",
              "      fill: #D2E3FC;\n",
              "    }\n",
              "\n",
              "    [theme=dark] .colab-df-convert:hover {\n",
              "      background-color: #434B5C;\n",
              "      box-shadow: 0px 1px 3px 1px rgba(0, 0, 0, 0.15);\n",
              "      filter: drop-shadow(0px 1px 2px rgba(0, 0, 0, 0.3));\n",
              "      fill: #FFFFFF;\n",
              "    }\n",
              "  </style>\n",
              "\n",
              "      <script>\n",
              "        const buttonEl =\n",
              "          document.querySelector('#df-c9a693f1-58f7-488c-a559-715e4b4ff415 button.colab-df-convert');\n",
              "        buttonEl.style.display =\n",
              "          google.colab.kernel.accessAllowed ? 'block' : 'none';\n",
              "\n",
              "        async function convertToInteractive(key) {\n",
              "          const element = document.querySelector('#df-c9a693f1-58f7-488c-a559-715e4b4ff415');\n",
              "          const dataTable =\n",
              "            await google.colab.kernel.invokeFunction('convertToInteractive',\n",
              "                                                     [key], {});\n",
              "          if (!dataTable) return;\n",
              "\n",
              "          const docLinkHtml = 'Like what you see? Visit the ' +\n",
              "            '<a target=\"_blank\" href=https://colab.research.google.com/notebooks/data_table.ipynb>data table notebook</a>'\n",
              "            + ' to learn more about interactive tables.';\n",
              "          element.innerHTML = '';\n",
              "          dataTable['output_type'] = 'display_data';\n",
              "          await google.colab.output.renderOutput(dataTable, element);\n",
              "          const docLink = document.createElement('div');\n",
              "          docLink.innerHTML = docLinkHtml;\n",
              "          element.appendChild(docLink);\n",
              "        }\n",
              "      </script>\n",
              "    </div>\n",
              "  </div>\n",
              "  "
            ]
          },
          "metadata": {},
          "execution_count": 3
        }
      ]
    },
    {
      "cell_type": "code",
      "source": [
        "df.info()"
      ],
      "metadata": {
        "colab": {
          "base_uri": "https://localhost:8080/"
        },
        "id": "k7I_xsaRCVvs",
        "outputId": "5cd06913-ee98-4e89-c1e6-c356d53da7cb"
      },
      "execution_count": 4,
      "outputs": [
        {
          "output_type": "stream",
          "name": "stdout",
          "text": [
            "<class 'pandas.core.frame.DataFrame'>\n",
            "RangeIndex: 4760 entries, 0 to 4759\n",
            "Data columns (total 21 columns):\n",
            " #   Column                    Non-Null Count  Dtype  \n",
            "---  ------                    --------------  -----  \n",
            " 0   Movie_ID                  4760 non-null   int64  \n",
            " 1   Movie_Title               4760 non-null   object \n",
            " 2   Movie_Genre               4760 non-null   object \n",
            " 3   Movie_Language            4760 non-null   object \n",
            " 4   Movie_Budget              4760 non-null   int64  \n",
            " 5   Movie_Popularity          4760 non-null   float64\n",
            " 6   Movie_Release_Date        4760 non-null   object \n",
            " 7   Movie_Revenue             4760 non-null   int64  \n",
            " 8   Movie_Runtime             4758 non-null   float64\n",
            " 9   Movie_Vote                4760 non-null   float64\n",
            " 10  Movie_Vote_Count          4760 non-null   int64  \n",
            " 11  Movie_Homepage            1699 non-null   object \n",
            " 12  Movie_Keywords            4373 non-null   object \n",
            " 13  Movie_Overview            4757 non-null   object \n",
            " 14  Movie_Production_House    4760 non-null   object \n",
            " 15  Movie_Production_Country  4760 non-null   object \n",
            " 16  Movie_Spoken_Language     4760 non-null   object \n",
            " 17  Movie_Tagline             3942 non-null   object \n",
            " 18  Movie_Cast                4733 non-null   object \n",
            " 19  Movie_Crew                4760 non-null   object \n",
            " 20  Movie_Director            4738 non-null   object \n",
            "dtypes: float64(3), int64(4), object(14)\n",
            "memory usage: 781.1+ KB\n"
          ]
        }
      ]
    },
    {
      "cell_type": "code",
      "source": [
        "df.shape"
      ],
      "metadata": {
        "colab": {
          "base_uri": "https://localhost:8080/"
        },
        "id": "VIUuMLgsCYOu",
        "outputId": "86c8a770-2c0b-41d6-d6a4-e4f10053bd9a"
      },
      "execution_count": 5,
      "outputs": [
        {
          "output_type": "execute_result",
          "data": {
            "text/plain": [
              "(4760, 21)"
            ]
          },
          "metadata": {},
          "execution_count": 5
        }
      ]
    },
    {
      "cell_type": "code",
      "source": [
        "df.columns"
      ],
      "metadata": {
        "colab": {
          "base_uri": "https://localhost:8080/"
        },
        "id": "fHlqBj5gCc36",
        "outputId": "c8a80499-7718-4dde-e9ac-528a3e6e98e9"
      },
      "execution_count": 6,
      "outputs": [
        {
          "output_type": "execute_result",
          "data": {
            "text/plain": [
              "Index(['Movie_ID', 'Movie_Title', 'Movie_Genre', 'Movie_Language',\n",
              "       'Movie_Budget', 'Movie_Popularity', 'Movie_Release_Date',\n",
              "       'Movie_Revenue', 'Movie_Runtime', 'Movie_Vote', 'Movie_Vote_Count',\n",
              "       'Movie_Homepage', 'Movie_Keywords', 'Movie_Overview',\n",
              "       'Movie_Production_House', 'Movie_Production_Country',\n",
              "       'Movie_Spoken_Language', 'Movie_Tagline', 'Movie_Cast', 'Movie_Crew',\n",
              "       'Movie_Director'],\n",
              "      dtype='object')"
            ]
          },
          "metadata": {},
          "execution_count": 6
        }
      ]
    },
    {
      "cell_type": "markdown",
      "source": [
        "# **Get Feature Selection**"
      ],
      "metadata": {
        "id": "eiRklVdYCt3a"
      }
    },
    {
      "cell_type": "code",
      "source": [
        "df_features=df[[ 'Movie_Genre','Movie_Keywords','Movie_Tagline', 'Movie_Cast','Movie_Director']].fillna('')"
      ],
      "metadata": {
        "id": "79_77V2nCzIm"
      },
      "execution_count": 7,
      "outputs": []
    },
    {
      "cell_type": "code",
      "source": [
        "df_features.shape"
      ],
      "metadata": {
        "colab": {
          "base_uri": "https://localhost:8080/"
        },
        "id": "cgT3CLqgDaU3",
        "outputId": "6c4b30df-2687-4505-94db-a560997ca6a6"
      },
      "execution_count": 8,
      "outputs": [
        {
          "output_type": "execute_result",
          "data": {
            "text/plain": [
              "(4760, 5)"
            ]
          },
          "metadata": {},
          "execution_count": 8
        }
      ]
    },
    {
      "cell_type": "code",
      "source": [
        "df_features"
      ],
      "metadata": {
        "colab": {
          "base_uri": "https://localhost:8080/",
          "height": 467
        },
        "id": "I0zOHTn-DeP5",
        "outputId": "e2abfb88-0415-41a3-d947-cd7bcc725d91"
      },
      "execution_count": 9,
      "outputs": [
        {
          "output_type": "execute_result",
          "data": {
            "text/plain": [
              "                           Movie_Genre  \\\n",
              "0                         Crime Comedy   \n",
              "1     Adventure Action Science Fiction   \n",
              "2                     Animation Family   \n",
              "3                 Comedy Drama Romance   \n",
              "4                                Drama   \n",
              "...                                ...   \n",
              "4755                            Horror   \n",
              "4756               Comedy Family Drama   \n",
              "4757                    Thriller Drama   \n",
              "4758                            Family   \n",
              "4759                       Documentary   \n",
              "\n",
              "                                         Movie_Keywords  \\\n",
              "0             hotel new year's eve witch bet hotel room   \n",
              "1           android galaxy hermit death star lightsaber   \n",
              "2     father son relationship harbor underwater fish...   \n",
              "3     vietnam veteran hippie mentally disabled runni...   \n",
              "4     male nudity female nudity adultery midlife cri...   \n",
              "...                                                 ...   \n",
              "4755                                                      \n",
              "4756                                                      \n",
              "4757                     christian film sex trafficking   \n",
              "4758                                                      \n",
              "4759  music actors legendary perfomer classic hollyw...   \n",
              "\n",
              "                                          Movie_Tagline  \\\n",
              "0     Twelve outrageous guests. Four scandalous requ...   \n",
              "1          A long time ago in a galaxy far, far away...   \n",
              "2     There are 3.7 trillion fish in the ocean, they...   \n",
              "3     The world will never be the same, once you've ...   \n",
              "4                                          Look closer.   \n",
              "...                                                 ...   \n",
              "4755                The hot spot where Satan's waitin'.   \n",
              "4756           It’s better to stand out than to fit in.   \n",
              "4757           She never knew it could happen to her...   \n",
              "4758                                                      \n",
              "4759                                                      \n",
              "\n",
              "                                             Movie_Cast     Movie_Director  \n",
              "0     Tim Roth Antonio Banderas Jennifer Beals Madon...     Allison Anders  \n",
              "1     Mark Hamill Harrison Ford Carrie Fisher Peter ...       George Lucas  \n",
              "2     Albert Brooks Ellen DeGeneres Alexander Gould ...     Andrew Stanton  \n",
              "3     Tom Hanks Robin Wright Gary Sinise Mykelti Wil...    Robert Zemeckis  \n",
              "4     Kevin Spacey Annette Bening Thora Birch Wes Be...         Sam Mendes  \n",
              "...                                                 ...                ...  \n",
              "4755  Lisa Hart Carroll Michael Des Barres Paul Drak...         Pece Dingo  \n",
              "4756  Roni Akurati Brighton Sharbino Jason Lee Anjul...       Frank Lotito  \n",
              "4757  Nicole Smolen Kim Baldwin Ariana Stephens Brys...       Jaco Booyens  \n",
              "4758                                                                        \n",
              "4759                                    Tony Oppedisano  Simon Napier-Bell  \n",
              "\n",
              "[4760 rows x 5 columns]"
            ],
            "text/html": [
              "\n",
              "  <div id=\"df-fe5e8d17-cc6c-43dc-bb5b-78c6f7766280\">\n",
              "    <div class=\"colab-df-container\">\n",
              "      <div>\n",
              "<style scoped>\n",
              "    .dataframe tbody tr th:only-of-type {\n",
              "        vertical-align: middle;\n",
              "    }\n",
              "\n",
              "    .dataframe tbody tr th {\n",
              "        vertical-align: top;\n",
              "    }\n",
              "\n",
              "    .dataframe thead th {\n",
              "        text-align: right;\n",
              "    }\n",
              "</style>\n",
              "<table border=\"1\" class=\"dataframe\">\n",
              "  <thead>\n",
              "    <tr style=\"text-align: right;\">\n",
              "      <th></th>\n",
              "      <th>Movie_Genre</th>\n",
              "      <th>Movie_Keywords</th>\n",
              "      <th>Movie_Tagline</th>\n",
              "      <th>Movie_Cast</th>\n",
              "      <th>Movie_Director</th>\n",
              "    </tr>\n",
              "  </thead>\n",
              "  <tbody>\n",
              "    <tr>\n",
              "      <th>0</th>\n",
              "      <td>Crime Comedy</td>\n",
              "      <td>hotel new year's eve witch bet hotel room</td>\n",
              "      <td>Twelve outrageous guests. Four scandalous requ...</td>\n",
              "      <td>Tim Roth Antonio Banderas Jennifer Beals Madon...</td>\n",
              "      <td>Allison Anders</td>\n",
              "    </tr>\n",
              "    <tr>\n",
              "      <th>1</th>\n",
              "      <td>Adventure Action Science Fiction</td>\n",
              "      <td>android galaxy hermit death star lightsaber</td>\n",
              "      <td>A long time ago in a galaxy far, far away...</td>\n",
              "      <td>Mark Hamill Harrison Ford Carrie Fisher Peter ...</td>\n",
              "      <td>George Lucas</td>\n",
              "    </tr>\n",
              "    <tr>\n",
              "      <th>2</th>\n",
              "      <td>Animation Family</td>\n",
              "      <td>father son relationship harbor underwater fish...</td>\n",
              "      <td>There are 3.7 trillion fish in the ocean, they...</td>\n",
              "      <td>Albert Brooks Ellen DeGeneres Alexander Gould ...</td>\n",
              "      <td>Andrew Stanton</td>\n",
              "    </tr>\n",
              "    <tr>\n",
              "      <th>3</th>\n",
              "      <td>Comedy Drama Romance</td>\n",
              "      <td>vietnam veteran hippie mentally disabled runni...</td>\n",
              "      <td>The world will never be the same, once you've ...</td>\n",
              "      <td>Tom Hanks Robin Wright Gary Sinise Mykelti Wil...</td>\n",
              "      <td>Robert Zemeckis</td>\n",
              "    </tr>\n",
              "    <tr>\n",
              "      <th>4</th>\n",
              "      <td>Drama</td>\n",
              "      <td>male nudity female nudity adultery midlife cri...</td>\n",
              "      <td>Look closer.</td>\n",
              "      <td>Kevin Spacey Annette Bening Thora Birch Wes Be...</td>\n",
              "      <td>Sam Mendes</td>\n",
              "    </tr>\n",
              "    <tr>\n",
              "      <th>...</th>\n",
              "      <td>...</td>\n",
              "      <td>...</td>\n",
              "      <td>...</td>\n",
              "      <td>...</td>\n",
              "      <td>...</td>\n",
              "    </tr>\n",
              "    <tr>\n",
              "      <th>4755</th>\n",
              "      <td>Horror</td>\n",
              "      <td></td>\n",
              "      <td>The hot spot where Satan's waitin'.</td>\n",
              "      <td>Lisa Hart Carroll Michael Des Barres Paul Drak...</td>\n",
              "      <td>Pece Dingo</td>\n",
              "    </tr>\n",
              "    <tr>\n",
              "      <th>4756</th>\n",
              "      <td>Comedy Family Drama</td>\n",
              "      <td></td>\n",
              "      <td>It’s better to stand out than to fit in.</td>\n",
              "      <td>Roni Akurati Brighton Sharbino Jason Lee Anjul...</td>\n",
              "      <td>Frank Lotito</td>\n",
              "    </tr>\n",
              "    <tr>\n",
              "      <th>4757</th>\n",
              "      <td>Thriller Drama</td>\n",
              "      <td>christian film sex trafficking</td>\n",
              "      <td>She never knew it could happen to her...</td>\n",
              "      <td>Nicole Smolen Kim Baldwin Ariana Stephens Brys...</td>\n",
              "      <td>Jaco Booyens</td>\n",
              "    </tr>\n",
              "    <tr>\n",
              "      <th>4758</th>\n",
              "      <td>Family</td>\n",
              "      <td></td>\n",
              "      <td></td>\n",
              "      <td></td>\n",
              "      <td></td>\n",
              "    </tr>\n",
              "    <tr>\n",
              "      <th>4759</th>\n",
              "      <td>Documentary</td>\n",
              "      <td>music actors legendary perfomer classic hollyw...</td>\n",
              "      <td></td>\n",
              "      <td>Tony Oppedisano</td>\n",
              "      <td>Simon Napier-Bell</td>\n",
              "    </tr>\n",
              "  </tbody>\n",
              "</table>\n",
              "<p>4760 rows × 5 columns</p>\n",
              "</div>\n",
              "      <button class=\"colab-df-convert\" onclick=\"convertToInteractive('df-fe5e8d17-cc6c-43dc-bb5b-78c6f7766280')\"\n",
              "              title=\"Convert this dataframe to an interactive table.\"\n",
              "              style=\"display:none;\">\n",
              "        \n",
              "  <svg xmlns=\"http://www.w3.org/2000/svg\" height=\"24px\"viewBox=\"0 0 24 24\"\n",
              "       width=\"24px\">\n",
              "    <path d=\"M0 0h24v24H0V0z\" fill=\"none\"/>\n",
              "    <path d=\"M18.56 5.44l.94 2.06.94-2.06 2.06-.94-2.06-.94-.94-2.06-.94 2.06-2.06.94zm-11 1L8.5 8.5l.94-2.06 2.06-.94-2.06-.94L8.5 2.5l-.94 2.06-2.06.94zm10 10l.94 2.06.94-2.06 2.06-.94-2.06-.94-.94-2.06-.94 2.06-2.06.94z\"/><path d=\"M17.41 7.96l-1.37-1.37c-.4-.4-.92-.59-1.43-.59-.52 0-1.04.2-1.43.59L10.3 9.45l-7.72 7.72c-.78.78-.78 2.05 0 2.83L4 21.41c.39.39.9.59 1.41.59.51 0 1.02-.2 1.41-.59l7.78-7.78 2.81-2.81c.8-.78.8-2.07 0-2.86zM5.41 20L4 18.59l7.72-7.72 1.47 1.35L5.41 20z\"/>\n",
              "  </svg>\n",
              "      </button>\n",
              "      \n",
              "  <style>\n",
              "    .colab-df-container {\n",
              "      display:flex;\n",
              "      flex-wrap:wrap;\n",
              "      gap: 12px;\n",
              "    }\n",
              "\n",
              "    .colab-df-convert {\n",
              "      background-color: #E8F0FE;\n",
              "      border: none;\n",
              "      border-radius: 50%;\n",
              "      cursor: pointer;\n",
              "      display: none;\n",
              "      fill: #1967D2;\n",
              "      height: 32px;\n",
              "      padding: 0 0 0 0;\n",
              "      width: 32px;\n",
              "    }\n",
              "\n",
              "    .colab-df-convert:hover {\n",
              "      background-color: #E2EBFA;\n",
              "      box-shadow: 0px 1px 2px rgba(60, 64, 67, 0.3), 0px 1px 3px 1px rgba(60, 64, 67, 0.15);\n",
              "      fill: #174EA6;\n",
              "    }\n",
              "\n",
              "    [theme=dark] .colab-df-convert {\n",
              "      background-color: #3B4455;\n",
              "      fill: #D2E3FC;\n",
              "    }\n",
              "\n",
              "    [theme=dark] .colab-df-convert:hover {\n",
              "      background-color: #434B5C;\n",
              "      box-shadow: 0px 1px 3px 1px rgba(0, 0, 0, 0.15);\n",
              "      filter: drop-shadow(0px 1px 2px rgba(0, 0, 0, 0.3));\n",
              "      fill: #FFFFFF;\n",
              "    }\n",
              "  </style>\n",
              "\n",
              "      <script>\n",
              "        const buttonEl =\n",
              "          document.querySelector('#df-fe5e8d17-cc6c-43dc-bb5b-78c6f7766280 button.colab-df-convert');\n",
              "        buttonEl.style.display =\n",
              "          google.colab.kernel.accessAllowed ? 'block' : 'none';\n",
              "\n",
              "        async function convertToInteractive(key) {\n",
              "          const element = document.querySelector('#df-fe5e8d17-cc6c-43dc-bb5b-78c6f7766280');\n",
              "          const dataTable =\n",
              "            await google.colab.kernel.invokeFunction('convertToInteractive',\n",
              "                                                     [key], {});\n",
              "          if (!dataTable) return;\n",
              "\n",
              "          const docLinkHtml = 'Like what you see? Visit the ' +\n",
              "            '<a target=\"_blank\" href=https://colab.research.google.com/notebooks/data_table.ipynb>data table notebook</a>'\n",
              "            + ' to learn more about interactive tables.';\n",
              "          element.innerHTML = '';\n",
              "          dataTable['output_type'] = 'display_data';\n",
              "          await google.colab.output.renderOutput(dataTable, element);\n",
              "          const docLink = document.createElement('div');\n",
              "          docLink.innerHTML = docLinkHtml;\n",
              "          element.appendChild(docLink);\n",
              "        }\n",
              "      </script>\n",
              "    </div>\n",
              "  </div>\n",
              "  "
            ]
          },
          "metadata": {},
          "execution_count": 9
        }
      ]
    },
    {
      "cell_type": "code",
      "source": [
        "X=df_features['Movie_Genre'] +' '+ df_features['Movie_Keywords'] +' '+ df_features['Movie_Tagline'] +' '+ df_features['Movie_Cast'] +' '+ df_features['Movie_Director']"
      ],
      "metadata": {
        "id": "jOvLCBuvFvQJ"
      },
      "execution_count": 14,
      "outputs": []
    },
    {
      "cell_type": "code",
      "source": [
        "X"
      ],
      "metadata": {
        "colab": {
          "base_uri": "https://localhost:8080/"
        },
        "id": "r3Rvx7ocGZ4S",
        "outputId": "eaf90c9a-b274-4661-bf67-c1735d1f80ff"
      },
      "execution_count": 15,
      "outputs": [
        {
          "output_type": "execute_result",
          "data": {
            "text/plain": [
              "0       Crime Comedy hotel new year's eve witch bet ho...\n",
              "1       Adventure Action Science Fiction android galax...\n",
              "2       Animation Family father son relationship harbo...\n",
              "3       Comedy Drama Romance vietnam veteran hippie me...\n",
              "4       Drama male nudity female nudity adultery midli...\n",
              "                              ...                        \n",
              "4755    Horror  The hot spot where Satan's waitin'. Li...\n",
              "4756    Comedy Family Drama  It’s better to stand out ...\n",
              "4757    Thriller Drama christian film sex trafficking ...\n",
              "4758                                           Family    \n",
              "4759    Documentary music actors legendary perfomer cl...\n",
              "Length: 4760, dtype: object"
            ]
          },
          "metadata": {},
          "execution_count": 15
        }
      ]
    },
    {
      "cell_type": "code",
      "source": [
        "X.shape"
      ],
      "metadata": {
        "colab": {
          "base_uri": "https://localhost:8080/"
        },
        "id": "2hjozvDHIP9T",
        "outputId": "eb0be63e-5640-4116-9d81-d7b8361dd146"
      },
      "execution_count": 16,
      "outputs": [
        {
          "output_type": "execute_result",
          "data": {
            "text/plain": [
              "(4760,)"
            ]
          },
          "metadata": {},
          "execution_count": 16
        }
      ]
    },
    {
      "cell_type": "markdown",
      "source": [
        "# **Get Feature Text Conversion to Tokens**"
      ],
      "metadata": {
        "id": "T3k_n2U3AHlW"
      }
    },
    {
      "cell_type": "code",
      "source": [
        "from sklearn.feature_extraction.text import TfidfVectorizer"
      ],
      "metadata": {
        "id": "yeMYgEdX-KGH"
      },
      "execution_count": 17,
      "outputs": []
    },
    {
      "cell_type": "markdown",
      "source": [
        "TfidfVectorizer class from the sklearn.feature_extraction.text module is being used to convert the text data in the variable X into numerical features. TF-IDF stands for Term Frequency-Inverse Document Frequency, which is a commonly used technique to represent text data numerically."
      ],
      "metadata": {
        "id": "2drwMUSUKu7g"
      }
    },
    {
      "cell_type": "markdown",
      "source": [
        "This line imports the TfidfVectorizer class from the scikit-learn library, which provides methods for converting text data into numerical features using the TF-IDF approach."
      ],
      "metadata": {
        "id": "mVo-beMNK_2T"
      }
    },
    {
      "cell_type": "code",
      "source": [
        "tfidf=TfidfVectorizer()"
      ],
      "metadata": {
        "id": "LjQunDwjIkPh"
      },
      "execution_count": 18,
      "outputs": []
    },
    {
      "cell_type": "markdown",
      "source": [
        " This line creates an instance of the TfidfVectorizer class. The tfidf variable is used to store this instance, which will be used to transform the text data."
      ],
      "metadata": {
        "id": "4-AUXlfSLKez"
      }
    },
    {
      "cell_type": "code",
      "source": [
        "X=tfidf.fit_transform(X)"
      ],
      "metadata": {
        "id": "TcIsWiv9IpAp"
      },
      "execution_count": 19,
      "outputs": []
    },
    {
      "cell_type": "markdown",
      "source": [
        "This line applies the fit_transform method of the TfidfVectorizer class to convert the text data in X into numerical features. The fit_transform method fits the vectorizer to the data and then transforms it. It learns the vocabulary from the input data (X) and computes the TF-IDF values for each term in the vocabulary. The resulting transformed data is assigned back to the X variable."
      ],
      "metadata": {
        "id": "e2-l5WqOLTK4"
      }
    },
    {
      "cell_type": "code",
      "source": [
        "X.shape"
      ],
      "metadata": {
        "colab": {
          "base_uri": "https://localhost:8080/"
        },
        "id": "-iYVjl1TIyAj",
        "outputId": "54b727f0-9db4-4552-d6b4-d48c0a6398ee"
      },
      "execution_count": 20,
      "outputs": [
        {
          "output_type": "execute_result",
          "data": {
            "text/plain": [
              "(4760, 17258)"
            ]
          },
          "metadata": {},
          "execution_count": 20
        }
      ]
    },
    {
      "cell_type": "code",
      "source": [
        "print(X)"
      ],
      "metadata": {
        "colab": {
          "base_uri": "https://localhost:8080/"
        },
        "id": "lRsIlOb5I2Gd",
        "outputId": "b5d23937-11ea-4a1c-dffd-d9afda8a0d03"
      },
      "execution_count": 21,
      "outputs": [
        {
          "output_type": "stream",
          "name": "stdout",
          "text": [
            "  (0, 617)\t0.1633382144407513\n",
            "  (0, 492)\t0.1432591540388685\n",
            "  (0, 15413)\t0.1465525095337543\n",
            "  (0, 9675)\t0.14226057295252661\n",
            "  (0, 9465)\t0.1659841367820977\n",
            "  (0, 1390)\t0.16898383612799558\n",
            "  (0, 7825)\t0.09799561597509843\n",
            "  (0, 1214)\t0.13865857545144072\n",
            "  (0, 729)\t0.13415063359531618\n",
            "  (0, 13093)\t0.1432591540388685\n",
            "  (0, 15355)\t0.10477815972666779\n",
            "  (0, 9048)\t0.0866842116160778\n",
            "  (0, 11161)\t0.06250380151644369\n",
            "  (0, 16773)\t0.17654247479915475\n",
            "  (0, 5612)\t0.08603537588547631\n",
            "  (0, 16735)\t0.10690083751525419\n",
            "  (0, 7904)\t0.13348000542112332\n",
            "  (0, 15219)\t0.09800472886453934\n",
            "  (0, 11242)\t0.07277788238484746\n",
            "  (0, 3878)\t0.11998399582562203\n",
            "  (0, 5499)\t0.11454057510303811\n",
            "  (0, 7071)\t0.19822417598406614\n",
            "  (0, 7454)\t0.14745635785412262\n",
            "  (0, 1495)\t0.19712637387361423\n",
            "  (0, 9206)\t0.15186283580984414\n",
            "  :\t:\n",
            "  (4757, 5455)\t0.12491480594769522\n",
            "  (4757, 2967)\t0.16273475835631626\n",
            "  (4757, 8464)\t0.23522565554066333\n",
            "  (4757, 6938)\t0.17088173678136628\n",
            "  (4757, 8379)\t0.17480603856721913\n",
            "  (4757, 15303)\t0.07654356007668191\n",
            "  (4757, 15384)\t0.09754322497537371\n",
            "  (4757, 7649)\t0.11479421494340192\n",
            "  (4757, 10896)\t0.14546473055066447\n",
            "  (4757, 4494)\t0.05675298448720501\n",
            "  (4758, 5238)\t1.0\n",
            "  (4759, 11264)\t0.33947721804318337\n",
            "  (4759, 11708)\t0.33947721804318337\n",
            "  (4759, 205)\t0.3237911628497312\n",
            "  (4759, 8902)\t0.3040290704566037\n",
            "  (4759, 14062)\t0.3237911628497312\n",
            "  (4759, 3058)\t0.2812896191863103\n",
            "  (4759, 7130)\t0.26419662449963793\n",
            "  (4759, 10761)\t0.3126617295732147\n",
            "  (4759, 4358)\t0.18306542312175342\n",
            "  (4759, 14051)\t0.20084315377640435\n",
            "  (4759, 5690)\t0.19534291014627303\n",
            "  (4759, 15431)\t0.19628653185946862\n",
            "  (4759, 1490)\t0.21197258705292082\n",
            "  (4759, 10666)\t0.15888268987343043\n"
          ]
        }
      ]
    },
    {
      "cell_type": "markdown",
      "source": [
        "The printed output represents the transformed X variable after applying the TF-IDF vectorization. The output format indicates the nonzero elements in the sparse matrix representation of X.\n",
        "\n",
        "Each line in the printed output represents a nonzero element in the matrix. Let's take a specific line as an example:(0, 617)    0.1633382144407513(0, 617) represents the row and column indices of the nonzero element. In this case, the element is located at row 0 and column 617.\n",
        "0.1633382144407513 is the TF-IDF value for the term at row 0 and column 617.\n",
        "Each line in the output corresponds to a specific term (word) in the vocabulary that was learned during the TF-IDF vectorization process. The row index corresponds to the document (in this case, a movie) in the original dataset, and the column index corresponds to a unique term.\n",
        "\n",
        "The TF-IDF values represent the importance of each term within each document. A higher value indicates that the term is more significant within that document.\n",
        "\n",
        "In the given example, the transformed X variable is a sparse matrix where most elements are zero, and only the nonzero elements are displayed in the printed output. The sparse matrix format is used to efficiently store and manipulate matrices with a large number of zeros.\n",
        "\n",
        "Note that without the full context of the original dataset and vocabulary, it's challenging to interpret the specific meaning of each term and its corresponding TF-IDF value.\n"
      ],
      "metadata": {
        "id": "DhsHZZFwL1pC"
      }
    },
    {
      "cell_type": "markdown",
      "source": [
        "# **Get Similarity Score using Cosine Similarity**"
      ],
      "metadata": {
        "id": "IYk_htDaALc7"
      }
    },
    {
      "cell_type": "markdown",
      "source": [
        "cosine_similarity function from sklearn.metrics.pairwise module is being used to calculate the cosine similarity between the rows of matrix X.\n",
        "\n",
        "Cosine similarity is a metric used to measure the similarity between two vectors, in this case, the rows of X. It calculates the cosine of the angle between two vectors, which ranges from -1 to 1. A value of 1 indicates that the vectors are identical, 0 indicates that the vectors are orthogonal (no similarity), and -1 indicates that the vectors are diametrically opposed.\n",
        "\n",
        "By applying cosine_similarity(X), you are calculating the pairwise cosine similarity between all rows of matrix X. The resulting Similarity_Score matrix will have dimensions (n, n), where n is the number of rows in X. Each element Similarity_Score[i, j] represents the cosine similarity between the i-th and j-th rows of X.\n",
        "\n",
        "This matrix can be useful for tasks such as finding similar items, clustering, or recommendation systems, where you want to measure the similarity between different samples or documents based on their feature vectors."
      ],
      "metadata": {
        "id": "NRAspy9-cOGU"
      }
    },
    {
      "cell_type": "code",
      "source": [
        "from sklearn.metrics.pairwise import cosine_similarity"
      ],
      "metadata": {
        "id": "FA57ctmSAPmJ"
      },
      "execution_count": 48,
      "outputs": []
    },
    {
      "cell_type": "code",
      "source": [
        "Similarity_Score=cosine_similarity(X)"
      ],
      "metadata": {
        "id": "B9jCCALKa2VW"
      },
      "execution_count": 47,
      "outputs": []
    },
    {
      "cell_type": "markdown",
      "source": [
        "The similarity_score is an array that represents the cosine similarity between pairs of documents in your dataset. Each element in the array corresponds to the similarity score between two documents.\n",
        "\n",
        "In your example, the similarity_score array has a shape of (4760, 4760), indicating that it contains similarity scores for 4760 documents in your dataset. The value at (i, j) in the array represents the similarity score between document i and document j.\n",
        "\n",
        "For example:\n",
        "\n",
        "similarity_score[0, 0] represents the similarity score of document 0 with itself, which is 1.0 (maximum similarity as it is the same document).\n",
        "similarity_score[0, 1] represents the similarity score between document 0 and document 1, which is 0.01351235.\n",
        "similarity_score[2, 617] represents the similarity score between document 2 and document 617.\n",
        "The values in the array range from 0 to 1, where 1 indicates maximum similarity (same document) and 0 indicates no similarity (completely different documents).\n",
        "\n",
        "The similarity_score array provides a pairwise measure of similarity between documents based on the cosine similarity metric. It can be useful for tasks such as document clustering, recommendation systems, or identifying similar documents in a large corpus."
      ],
      "metadata": {
        "id": "6VMOig8fefpd"
      }
    },
    {
      "cell_type": "code",
      "source": [
        "Similarity_Score"
      ],
      "metadata": {
        "colab": {
          "base_uri": "https://localhost:8080/"
        },
        "id": "mwYTiHEca_LZ",
        "outputId": "8d918fb8-d3c6-4176-eaa2-211d7dbc96dd"
      },
      "execution_count": 49,
      "outputs": [
        {
          "output_type": "execute_result",
          "data": {
            "text/plain": [
              "array([[1.        , 0.01351235, 0.03570468, ..., 0.        , 0.        ,\n",
              "        0.        ],\n",
              "       [0.01351235, 1.        , 0.00806674, ..., 0.        , 0.        ,\n",
              "        0.        ],\n",
              "       [0.03570468, 0.00806674, 1.        , ..., 0.        , 0.08014876,\n",
              "        0.        ],\n",
              "       ...,\n",
              "       [0.        , 0.        , 0.        , ..., 1.        , 0.        ,\n",
              "        0.        ],\n",
              "       [0.        , 0.        , 0.08014876, ..., 0.        , 1.        ,\n",
              "        0.        ],\n",
              "       [0.        , 0.        , 0.        , ..., 0.        , 0.        ,\n",
              "        1.        ]])"
            ]
          },
          "metadata": {},
          "execution_count": 49
        }
      ]
    },
    {
      "cell_type": "code",
      "source": [
        "Similarity_Score.shape"
      ],
      "metadata": {
        "colab": {
          "base_uri": "https://localhost:8080/"
        },
        "id": "vTJ0YBRDbEqs",
        "outputId": "4854a04e-3bb9-4cd3-8712-3c2b4aadee5b"
      },
      "execution_count": 50,
      "outputs": [
        {
          "output_type": "execute_result",
          "data": {
            "text/plain": [
              "(4760, 4760)"
            ]
          },
          "metadata": {},
          "execution_count": 50
        }
      ]
    },
    {
      "cell_type": "markdown",
      "source": [
        "# **Get Movie Name as Input from User and Validate for Closest Spelling**"
      ],
      "metadata": {
        "id": "N-DuEThjAQJ7"
      }
    },
    {
      "cell_type": "code",
      "source": [
        "Favourite_Movie_Name=input('Enter your favourite movie name:')"
      ],
      "metadata": {
        "colab": {
          "base_uri": "https://localhost:8080/"
        },
        "id": "jImIRvr6AT0l",
        "outputId": "7eb73869-d3c0-4b41-8ead-62f39be50fa9"
      },
      "execution_count": 62,
      "outputs": [
        {
          "name": "stdout",
          "output_type": "stream",
          "text": [
            "Enter your favourite movie name:gattace\n"
          ]
        }
      ]
    },
    {
      "cell_type": "code",
      "source": [
        "All_Movies_Title_List=df['Movie_Title'].tolist()"
      ],
      "metadata": {
        "id": "QOk_r6Lqb0Sr"
      },
      "execution_count": 63,
      "outputs": []
    },
    {
      "cell_type": "code",
      "source": [
        "import difflib"
      ],
      "metadata": {
        "id": "1-KtLPk6b_FM"
      },
      "execution_count": 64,
      "outputs": []
    },
    {
      "cell_type": "code",
      "source": [
        "Movie_Recommendation=difflib.get_close_matches(Favourite_Movie_Name,All_Movies_Title_List)\n",
        "print(Movie_Recommendation)"
      ],
      "metadata": {
        "colab": {
          "base_uri": "https://localhost:8080/"
        },
        "id": "Ejj3pCBqAewP",
        "outputId": "12183fe8-c18f-4029-8879-d2c02b0d2a7c"
      },
      "execution_count": 65,
      "outputs": [
        {
          "output_type": "stream",
          "name": "stdout",
          "text": [
            "['Gattaca', 'Rat Race']\n"
          ]
        }
      ]
    },
    {
      "cell_type": "code",
      "source": [
        "Close_Match=Movie_Recommendation[0]\n",
        "print(Close_Match)"
      ],
      "metadata": {
        "colab": {
          "base_uri": "https://localhost:8080/"
        },
        "id": "Pa_hAcPGgkL_",
        "outputId": "ac8278e4-353e-40d1-9a67-47574f0ac3d7"
      },
      "execution_count": 67,
      "outputs": [
        {
          "output_type": "stream",
          "name": "stdout",
          "text": [
            "Gattaca\n"
          ]
        }
      ]
    },
    {
      "cell_type": "code",
      "source": [
        "Index_of_Close_Match_Movie=df[df.Movie_Title==Close_Match]['Movie_ID'].values[0]\n",
        "print(Index_of_Close_Match_Movie)"
      ],
      "metadata": {
        "colab": {
          "base_uri": "https://localhost:8080/"
        },
        "id": "ZtsNNWLhgt0x",
        "outputId": "10bb4078-9748-46c4-d85b-1c7ee89dead5"
      },
      "execution_count": 68,
      "outputs": [
        {
          "output_type": "stream",
          "name": "stdout",
          "text": [
            "348\n"
          ]
        }
      ]
    },
    {
      "cell_type": "code",
      "source": [
        "Recommendation_Score=list(enumerate(Similarity_Score[Index_of_Close_Match_Movie]))\n",
        "print(Recommendation_Score)"
      ],
      "metadata": {
        "colab": {
          "base_uri": "https://localhost:8080/"
        },
        "id": "RxkmkXoShK5a",
        "outputId": "b9ed979f-f621-4d3f-eea2-b1c512acf5a3"
      },
      "execution_count": 69,
      "outputs": [
        {
          "output_type": "stream",
          "name": "stdout",
          "text": [
            "[(0, 0.03367776818551606), (1, 0.0), (2, 0.003949261104395081), (3, 0.04122590225297962), (4, 0.003050537600736829), (5, 0.0028997880939131268), (6, 0.0), (7, 0.03368769083486511), (8, 0.003139874045042835), (9, 0.0042592819869340616), (10, 0.03606379216974619), (11, 0.037703534938098554), (12, 0.023441778497374215), (13, 0.013039714229005125), (14, 0.004211656234842127), (15, 0.0026667320421110167), (16, 0.0024097673038898787), (17, 0.0), (18, 0.0071857166755995745), (19, 0.0027894879278700375), (20, 0.003024079329292719), (21, 0.0030917925190035362), (22, 0.0), (23, 0.003012862109508887), (24, 0.014185945706689549), (25, 0.006198865891592865), (26, 0.05527090857608063), (27, 0.0), (28, 0.03533141859350345), (29, 0.021906847616644312), (30, 0.0), (31, 0.0633383789460176), (32, 0.01631282891103817), (33, 0.020330077670622518), (34, 0.0030084781027295143), (35, 0.04934570347514729), (36, 0.0), (37, 0.066007916085901), (38, 0.016087086865033292), (39, 0.05886211682250396), (40, 0.010627704067408105), (41, 0.020476113374840482), (42, 0.0), (43, 0.002653748963055132), (44, 0.0024067044584126203), (45, 0.032117779716982854), (46, 0.008805759350853258), (47, 0.0), (48, 0.04152861974418884), (49, 0.015034322368448703), (50, 0.009356268934019798), (51, 0.003041866767078203), (52, 0.01778619276552327), (53, 0.0), (54, 0.0), (55, 0.0), (56, 0.009372228472962305), (57, 0.03629133526682121), (58, 0.003859237225908589), (59, 0.019522382762131807), (60, 0.022517120572786684), (61, 0.018167805137326284), (62, 0.0031920284021963383), (63, 0.002300998359366728), (64, 0.029145313660558236), (65, 0.004564225274130372), (66, 0.0028855460788880277), (67, 0.012520852563217801), (68, 0.003066250888074533), (69, 0.0), (70, 0.0), (71, 0.022251460268211842), (72, 0.0044637592449894075), (73, 0.025313410892846604), (74, 0.04497962885794027), (75, 0.040825282362474714), (76, 0.011796840213512037), (77, 0.028381549144496074), (78, 0.0038688911688208156), (79, 0.022932730808920613), (80, 0.004217238368151256), (81, 0.0), (82, 0.009179408171440891), (83, 0.0046640789713939534), (84, 0.0045065189729238), (85, 0.030598638251618432), (86, 0.00395828615226205), (87, 0.059320273092405985), (88, 0.0037962020396704295), (89, 0.0), (90, 0.0), (91, 0.06701180082284826), (92, 0.02909396081144587), (93, 0.0), (94, 0.004226692388779122), (95, 0.0), (96, 0.02129119798554182), (97, 0.07607412890851373), (98, 0.0028310270081328965), (99, 0.0), (100, 0.0), (101, 0.04368718663399945), (102, 0.05858882212955502), (103, 0.002504181698155401), (104, 0.007541111409070124), (105, 0.0074320978802426855), (106, 0.005768616176894703), (107, 0.003279078415627325), (108, 0.015155496736858754), (109, 0.01834609162378313), (110, 0.0047039819053541045), (111, 0.011486753852681825), (112, 0.007214540432492053), (113, 0.010168408406408548), (114, 0.0028939354997461015), (115, 0.002956299900448654), (116, 0.03464682137931985), (117, 0.0), (118, 0.0), (119, 0.04149278892641532), (120, 0.09101282026096333), (121, 0.01691285009070432), (122, 0.008479680003566588), (123, 0.008198795369202785), (124, 0.011045396533150764), (125, 0.0), (126, 0.002727853535903779), (127, 0.018112601586392385), (128, 0.029729562440425007), (129, 0.0020189140603301555), (130, 0.039948464683448384), (131, 0.004663094657676833), (132, 0.0025632400524149813), (133, 0.0), (134, 0.0), (135, 0.03936744018377934), (136, 0.0026698848867540603), (137, 0.004738643540215251), (138, 0.004419311979893403), (139, 0.01062983261080357), (140, 0.0027082572963069667), (141, 0.0), (142, 0.0023920487352299814), (143, 0.0), (144, 0.0), (145, 0.0), (146, 0.0), (147, 0.002501343985228047), (148, 0.0041767099862108), (149, 0.014326611352531177), (150, 0.06974803919747281), (151, 0.06884830875638384), (152, 0.055753178086687755), (153, 0.005409532128166216), (154, 0.011606879892003498), (155, 0.0), (156, 0.006087642565486733), (157, 0.002753542960736335), (158, 0.0025934084844098427), (159, 0.009467264169307682), (160, 0.00868400269990731), (161, 0.029740593803513977), (162, 0.015165677942977537), (163, 0.007690228578946187), (164, 0.002751079509822679), (165, 0.036536540155176794), (166, 0.006618189901193774), (167, 0.01194568584379388), (168, 0.02977831386062882), (169, 0.037030109591530816), (170, 0.00834048181563634), (171, 0.03303215201202296), (172, 0.0029003532558886623), (173, 0.003030111736864045), (174, 0.0028557676946208877), (175, 0.006327799601495933), (176, 0.01890865865228382), (177, 0.007847297061271224), (178, 0.09598266105667953), (179, 0.03344857791587236), (180, 0.0), (181, 0.0), (182, 0.012192876263250475), (183, 0.09052223383447344), (184, 0.17638933361183268), (185, 0.008956904414022557), (186, 0.015939621898542936), (187, 0.0), (188, 0.0), (189, 0.036035499243473476), (190, 0.01055214042825057), (191, 0.016666236874421432), (192, 0.024880921610017582), (193, 0.03155286443509752), (194, 0.009921045647345382), (195, 0.077270350516116), (196, 0.0024284244400968164), (197, 0.0027298868833504817), (198, 0.00293345036051749), (199, 0.0026362274293463142), (200, 0.019537734514287187), (201, 0.014686778702652316), (202, 0.02775118325951898), (203, 0.020921667256975876), (204, 0.022816385968364224), (205, 0.0), (206, 0.003066920091840544), (207, 0.021267496210024987), (208, 0.019536558107654138), (209, 0.007561686574648644), (210, 0.003115972061458113), (211, 0.024045415629385107), (212, 0.048193977679943927), (213, 0.0026908906148542145), (214, 0.012451013095683262), (215, 0.022796807427363678), (216, 0.04283004501724243), (217, 0.01846871936762401), (218, 0.025449537346005063), (219, 0.0), (220, 0.07015021817588796), (221, 0.011501086264096596), (222, 0.03960905391062579), (223, 0.00443208871361292), (224, 0.03479262563553499), (225, 0.02739790327164921), (226, 0.002890789350790261), (227, 0.0030898525713801157), (228, 0.05582766037984237), (229, 0.027679586900030754), (230, 0.0), (231, 0.0), (232, 0.004955523592583636), (233, 0.009350700367198143), (234, 0.0039612374161875005), (235, 0.03368412759792532), (236, 0.0027157361659604132), (237, 0.0037340040491862774), (238, 0.002948805237497134), (239, 0.021334099999481874), (240, 0.004260191247006512), (241, 0.0), (242, 0.0025031996972927624), (243, 0.00851624801252796), (244, 0.00926830633019094), (245, 0.009718057991484456), (246, 0.018450274266654944), (247, 0.0028586599497455456), (248, 0.0), (249, 0.01464497021791162), (250, 0.035309292948866866), (251, 0.018488215874472844), (252, 0.0025609655170093885), (253, 0.0031609959285807203), (254, 0.003186679662278737), (255, 0.0030275511146046347), (256, 0.00215996465004779), (257, 0.0), (258, 0.0), (259, 0.06919891661458019), (260, 0.03300626558427677), (261, 0.033574090837153805), (262, 0.0030372789537624614), (263, 0.013066724621585101), (264, 0.03484660555329691), (265, 0.0), (266, 0.04817102640694916), (267, 0.028016325573677055), (268, 0.019372145182151582), (269, 0.0756165018448228), (270, 0.012932196070245552), (271, 0.0022157451637152847), (272, 0.023543968642947385), (273, 0.0), (274, 0.003319664652104536), (275, 0.035762917890373926), (276, 0.0027260665836131574), (277, 0.008091563954724695), (278, 0.002490072597729595), (279, 0.007015388770103373), (280, 0.007474209099330288), (281, 0.0032638544857649296), (282, 0.018325869869509633), (283, 0.01589477722758251), (284, 0.004389421676118811), (285, 0.024293204858131297), (286, 0.027294124532814972), (287, 0.015669015440372063), (288, 0.03346114982800484), (289, 0.0), (290, 0.0), (291, 0.004195322278436522), (292, 0.007270602956781252), (293, 0.005328295514773513), (294, 0.0036647048577340443), (295, 0.0), (296, 0.04318921394002103), (297, 0.02614818925284392), (298, 0.0210105194991853), (299, 0.004601874108375924), (300, 0.0), (301, 0.004868697796940042), (302, 0.12632828732643214), (303, 0.015688792584833213), (304, 0.008734701908404634), (305, 0.014063151244730898), (306, 0.008481302767798814), (307, 0.011598664390546371), (308, 0.0032330167864762743), (309, 0.009621157585865545), (310, 0.023746576736181968), (311, 0.008892575973245748), (312, 0.019353164007133206), (313, 0.0), (314, 0.013002161082400834), (315, 0.009503334713178012), (316, 0.008780640549887609), (317, 0.0025315891922857822), (318, 0.003159581781075109), (319, 0.028014266410184518), (320, 0.02967163402121418), (321, 0.018391452990357143), (322, 0.027870381210944706), (323, 0.0), (324, 0.024261162695622018), (325, 0.011684875360447605), (326, 0.003540695554022745), (327, 0.01822230160190504), (328, 0.02298194288813355), (329, 0.002804674690915939), (330, 0.06748850813818873), (331, 0.0), (332, 0.00709396252419937), (333, 0.016854226889635893), (334, 0.0), (335, 0.004255039896903606), (336, 0.013396646004413733), (337, 0.01825519247397218), (338, 0.008398394477161052), (339, 0.015009858888130318), (340, 0.0), (341, 0.009911589523241981), (342, 0.008163452012579547), (343, 0.06384198486226397), (344, 0.014805223686389115), (345, 0.0318918483300175), (346, 0.007446329655891626), (347, 0.004618201466905337), (348, 1.0000000000000002), (349, 0.0028040844969114383), (350, 0.003147519411600532), (351, 0.0022057962787180897), (352, 0.021405052342482266), (353, 0.06128451776322479), (354, 0.018406256754571797), (355, 0.0026659483191662915), (356, 0.007148009079459022), (357, 0.03539093255043704), (358, 0.002811881977507486), (359, 0.01134778184780819), (360, 0.008989813525429323), (361, 0.014942768604680263), (362, 0.0), (363, 0.0), (364, 0.002487302118710838), (365, 0.0), (366, 0.0), (367, 0.0), (368, 0.041770263251525816), (369, 0.02663231777592056), (370, 0.002886502482037961), (371, 0.041443401845817296), (372, 0.13734520376244974), (373, 0.026418726803300114), (374, 0.07667449597152297), (375, 0.0), (376, 0.0), (377, 0.046729916272880985), (378, 0.018480657068471667), (379, 0.027808391183876967), (380, 0.01617150642597229), (381, 0.011497305723088018), (382, 0.027773357701350476), (383, 0.0), (384, 0.09375424702154245), (385, 0.0), (386, 0.046468777909587075), (387, 0.14611596726892584), (388, 0.016018120491783104), (389, 0.033257835263667934), (390, 0.01812226698805386), (391, 0.012133972223830319), (392, 0.014952933033022218), (393, 0.008390004033584772), (394, 0.013255443369995935), (395, 0.003101948943244733), (396, 0.031795750213488724), (397, 0.0), (398, 0.0), (399, 0.0026789862751766605), (400, 0.01843119452138765), (401, 0.0), (402, 0.0035245300590781067), (403, 0.09845412979042996), (404, 0.009194239691313291), (405, 0.0), (406, 0.002949779368575396), (407, 0.0759357488498491), (408, 0.03421423090347251), (409, 0.012959989464759259), (410, 0.0747553965687427), (411, 0.004224594212982167), (412, 0.022554265904276803), (413, 0.0), (414, 0.0), (415, 0.010006954746236474), (416, 0.03336472522916323), (417, 0.01868262770164247), (418, 0.02614332001317006), (419, 0.08752621738948624), (420, 0.015136833420320524), (421, 0.010886838701651008), (422, 0.014655032969495291), (423, 0.019076473063142675), (424, 0.005225966104856611), (425, 0.03356546582393551), (426, 0.0043050066523108495), (427, 0.013502234072418802), (428, 0.06936674244943747), (429, 0.0030300404565824536), (430, 0.003111862602197657), (431, 0.0034096463366128935), (432, 0.00245958175878906), (433, 0.002364972306663398), (434, 0.03130223290685337), (435, 0.0), (436, 0.003234740609457741), (437, 0.0027433380245290334), (438, 0.0), (439, 0.029413346975150554), (440, 0.019388751073365483), (441, 0.046873855059619995), (442, 0.006213658369630962), (443, 0.0033440463923503465), (444, 0.0032214110855212992), (445, 0.002475056143078958), (446, 0.002820373793027147), (447, 0.003002122689992729), (448, 0.042398248447088976), (449, 0.0026148211801407203), (450, 0.0031724644221563757), (451, 0.03032652637530071), (452, 0.07911993951693802), (453, 0.0022107949853549724), (454, 0.004271648913276574), (455, 0.013057986618515217), (456, 0.0030631712973800827), (457, 0.0026535594612172226), (458, 0.0032260016490459143), (459, 0.0), (460, 0.039218183135879714), (461, 0.0), (462, 0.0), (463, 0.0026794671930036288), (464, 0.0028577955193415895), (465, 0.002639517305631915), (466, 0.030840055115465004), (467, 0.04810233469768932), (468, 0.04157260864236584), (469, 0.06349457533165373), (470, 0.03131334035486067), (471, 0.0115474814343494), (472, 0.007714892099952695), (473, 0.011187061722108479), (474, 0.0), (475, 0.0010107285594989084), (476, 0.003173673657899572), (477, 0.00734277741229785), (478, 0.0032720833363705255), (479, 0.0028877717919187818), (480, 0.015223759981635313), (481, 0.003144186093818438), (482, 0.003017735235620332), (483, 0.044582199456946574), (484, 0.00613572130844883), (485, 0.03181707684843101), (486, 0.00441999160436176), (487, 0.0027676696638415897), (488, 0.03197719433526069), (489, 0.0034585818028947013), (490, 0.0028629408867446612), (491, 0.04068190957998066), (492, 0.013142667470540641), (493, 0.03152285726366508), (494, 0.1269426105868352), (495, 0.006627984653121928), (496, 0.04001329347467175), (497, 0.004095819699280333), (498, 0.004387887762880368), (499, 0.003146382673941657), (500, 0.023072928048008604), (501, 0.017259221520313926), (502, 0.003026749654496524), (503, 0.0), (504, 0.0075390904833667755), (505, 0.0027465705448543884), (506, 0.0), (507, 0.007036470879672556), (508, 0.008616593212420913), (509, 0.002964968119162186), (510, 0.00599008522101804), (511, 0.0041917778404909865), (512, 0.00547046567725234), (513, 0.010299011758739918), (514, 0.0), (515, 0.016587191255867082), (516, 0.0), (517, 0.0), (518, 0.0033894224171197424), (519, 0.002552763916372275), (520, 0.0), (521, 0.03749350972866872), (522, 0.00280647400010441), (523, 0.019635823054402226), (524, 0.011096948809323142), (525, 0.004577975017174884), (526, 0.0036356181453761917), (527, 0.06078698872236255), (528, 0.03556751975392696), (529, 0.02397003156309254), (530, 0.009061429045851265), (531, 0.0), (532, 0.0), (533, 0.0032518571054540144), (534, 0.0028555180756393446), (535, 0.009348234353178995), (536, 0.0), (537, 0.0), (538, 0.007593343196788761), (539, 0.0), (540, 0.008495823079767695), (541, 0.0027965049716727006), (542, 0.02092738084073867), (543, 0.003011208384777649), (544, 0.04931674881967721), (545, 0.017844609063082266), (546, 0.03031688939850857), (547, 0.006318095025333781), (548, 0.0043160779081515875), (549, 0.004270326239955197), (550, 0.02643412795556071), (551, 0.007782638707923228), (552, 0.0), (553, 0.006546328197645467), (554, 0.0), (555, 0.015142812281791113), (556, 0.0), (557, 0.015114750913461742), (558, 0.0026660142123108173), (559, 0.0), (560, 0.023622233424391688), (561, 0.016969937817203858), (562, 0.01760417255923067), (563, 0.002607042924604774), (564, 0.0393396188316695), (565, 0.025030076918171787), (566, 0.04020342754192517), (567, 0.026282464956724347), (568, 0.00853758156259438), (569, 0.017115367279924305), (570, 0.012940413355262836), (571, 0.06807566294064446), (572, 0.07575105070891922), (573, 0.031228250784655114), (574, 0.018268306295561754), (575, 0.0038611764927153707), (576, 0.013939309383798889), (577, 0.004122190684789414), (578, 0.0027286868791043173), (579, 0.002930795481095654), (580, 0.003021172397492329), (581, 0.0026054212658695166), (582, 0.0), (583, 0.004172524453544863), (584, 0.01795144994581937), (585, 0.013541731406163996), (586, 0.020021147883541583), (587, 0.0031796736504916623), (588, 0.007787010696994303), (589, 0.0026794674641615153), (590, 0.04921748097892212), (591, 0.08114833157392559), (592, 0.034348474342875746), (593, 0.01897343536952101), (594, 0.010811986594178825), (595, 0.010419639213135367), (596, 0.020842620496396923), (597, 0.02352769188147849), (598, 0.017331889428476896), (599, 0.0048421425902181745), (600, 0.021164007252824774), (601, 0.0), (602, 0.0), (603, 0.004895444837465817), (604, 0.015955770235990277), (605, 0.002544006361242146), (606, 0.0029855062610998203), (607, 0.0945409938386001), (608, 0.0026207787204901222), (609, 0.04451198529658021), (610, 0.013995927617164235), (611, 0.004645107056565319), (612, 0.02306074376136351), (613, 0.049588695170688035), (614, 0.008598044828854125), (615, 0.004767774599959611), (616, 0.018100268041232725), (617, 0.027935268444288796), (618, 0.0290801364178633), (619, 0.0), (620, 0.0027768822927600662), (621, 0.0), (622, 0.0030721306045293196), (623, 0.0030706685647331994), (624, 0.027296728860334456), (625, 0.0), (626, 0.0824496526800607), (627, 0.003914905441431647), (628, 0.0029149583237288402), (629, 0.0), (630, 0.04953542318829919), (631, 0.03872413599745498), (632, 0.0), (633, 0.0), (634, 0.0), (635, 0.010050070162338446), (636, 0.0029198675168640425), (637, 0.0029939496029722616), (638, 0.00266469447925897), (639, 0.0038865326099991456), (640, 0.0077062023038191345), (641, 0.002070372702986783), (642, 0.002497301602067604), (643, 0.007261695435504079), (644, 0.007118791680210763), (645, 0.00236135196835711), (646, 0.0166837627861564), (647, 0.0025367293441008855), (648, 0.017596639350800407), (649, 0.008978988543243046), (650, 0.0), (651, 0.0319176826940419), (652, 0.022616525905568015), (653, 0.027108172861175416), (654, 0.0048510098819415015), (655, 0.002699871028977687), (656, 0.0), (657, 0.12095331977427747), (658, 0.0), (659, 0.002693115157793126), (660, 0.0030200746171645835), (661, 0.019055821134668322), (662, 0.0), (663, 0.0), (664, 0.004125743170029665), (665, 0.019263076397442055), (666, 0.0051792406190615155), (667, 0.02020722822714656), (668, 0.0036413070173966964), (669, 0.006895141980875174), (670, 0.00356305824945678), (671, 0.0), (672, 0.0025780733337542965), (673, 0.003155040112179825), (674, 0.0), (675, 0.018504214016321893), (676, 0.002802937094608503), (677, 0.005044097180806774), (678, 0.029382136325463135), (679, 0.017875678643227987), (680, 0.01804517624761958), (681, 0.005210856320243507), (682, 0.0), (683, 0.008459952587066904), (684, 0.023635028449704516), (685, 0.03893265342267423), (686, 0.0), (687, 0.005106436836903988), (688, 0.003202769455444598), (689, 0.007452700817590705), (690, 0.05025951557700175), (691, 0.009776580625862676), (692, 0.03763550722541101), (693, 0.018105177245429815), (694, 0.01730458309659953), (695, 0.0), (696, 0.03327659263037566), (697, 0.022203791149809596), (698, 0.0027354233574101387), (699, 0.00827813087902782), (700, 0.005049724065760069), (701, 0.018940980491158214), (702, 0.0), (703, 0.010983879619314345), (704, 0.004976709594123735), (705, 0.002559568607945593), (706, 0.013263471495531556), (707, 0.015646160471240962), (708, 0.0), (709, 0.016094418176183043), (710, 0.017855581578335424), (711, 0.0), (712, 0.0025543434590326285), (713, 0.0), (714, 0.009586264790087399), (715, 0.013645098445883637), (716, 0.01296679511207301), (717, 0.007814784793463186), (718, 0.0), (719, 0.025030793435928587), (720, 0.0), (721, 0.021313929135852505), (722, 0.047982701976266175), (723, 0.01168899429262559), (724, 0.019087636846344118), (725, 0.029602540655731997), (726, 0.007697001236503177), (727, 0.011884501722736538), (728, 0.0031183334996246264), (729, 0.003223997963306366), (730, 0.0), (731, 0.02503660049019332), (732, 0.027847094181084), (733, 0.010466150198464409), (734, 0.01624789746241185), (735, 0.00394791874843279), (736, 0.04130385950765423), (737, 0.008452211918914047), (738, 0.023094451862771183), (739, 0.020998170405399433), (740, 0.014570691750276506), (741, 0.0), (742, 0.007044155988960304), (743, 0.0029709576958852324), (744, 0.024342820567151206), (745, 0.0), (746, 0.0), (747, 0.05608991306172185), (748, 0.004883944382900997), (749, 0.08389481313328072), (750, 0.002945468829513923), (751, 0.011432625623659324), (752, 0.01982869833145716), (753, 0.03106500400195796), (754, 0.0), (755, 0.0028097349459591313), (756, 0.004041623246395161), (757, 0.02847463495281182), (758, 0.0), (759, 0.0026323389157202237), (760, 0.0), (761, 0.0028916150901289934), (762, 0.007978902916330886), (763, 0.008690347280761531), (764, 0.0), (765, 0.024890155249783625), (766, 0.0026751412476053752), (767, 0.024969773304090306), (768, 0.00939070361337779), (769, 0.007395701027008741), (770, 0.0), (771, 0.0), (772, 0.009088976425608094), (773, 0.042828639691739015), (774, 0.002995692083540809), (775, 0.007042323571941174), (776, 0.0042008495049229416), (777, 0.0034748821914004097), (778, 0.00473665022643961), (779, 0.003934356036693359), (780, 0.008758086361661192), (781, 0.021181923322919016), (782, 0.007190916076291496), (783, 0.07529534967403645), (784, 0.0), (785, 0.009210688268778062), (786, 0.022445270135209524), (787, 0.03738616462392321), (788, 0.03414062000894611), (789, 0.036824993735951564), (790, 0.00446100415674418), (791, 0.023461651621649537), (792, 0.040062614393825295), (793, 0.0), (794, 0.0031244995600941865), (795, 0.0), (796, 0.03003568198472472), (797, 0.01618758100775409), (798, 0.026536446189395407), (799, 0.0028184652016241497), (800, 0.09052665865666713), (801, 0.01724763343935659), (802, 0.0169715518682056), (803, 0.012341069901665815), (804, 0.08206470929728982), (805, 0.006929714191294623), (806, 0.012760778772247279), (807, 0.003654348355277056), (808, 0.0025488176961563835), (809, 0.027669725103039076), (810, 0.004300179133049886), (811, 0.0), (812, 0.0), (813, 0.013585999558234852), (814, 0.0), (815, 0.11247907657889152), (816, 0.002353166602215199), (817, 0.0027978506619976066), (818, 0.029839078719580487), (819, 0.0), (820, 0.004065669217582586), (821, 0.004215246750675298), (822, 0.0), (823, 0.08850488648756229), (824, 0.03158289515396702), (825, 0.02745018774357944), (826, 0.01983885714421531), (827, 0.0), (828, 0.0163887408436656), (829, 0.006884022407540306), (830, 0.0030391963672719295), (831, 0.0020410541498897235), (832, 0.007619574965817871), (833, 0.0), (834, 0.0), (835, 0.0), (836, 0.0), (837, 0.0), (838, 0.002688397373504971), (839, 0.0), (840, 0.013368265384370357), (841, 0.0), (842, 0.011584572922228135), (843, 0.014267327760724492), (844, 0.00623255055994252), (845, 0.0030268041017407835), (846, 0.0), (847, 0.026379965255636528), (848, 0.0029157671746799763), (849, 0.0), (850, 0.023623121837148996), (851, 0.0025327834994084055), (852, 0.12703855954824872), (853, 0.016972528505485314), (854, 0.0071517353547330435), (855, 0.021945926909203786), (856, 0.029509742033109406), (857, 0.05282946520346688), (858, 0.057561247616199594), (859, 0.0), (860, 0.003349840995439801), (861, 0.0024896728400374897), (862, 0.01627314154047972), (863, 0.011302987313663937), (864, 0.0075722413729628815), (865, 0.002968665336948695), (866, 0.006966557452846177), (867, 0.04194625730161276), (868, 0.033953105778963745), (869, 0.0), (870, 0.042945731884357845), (871, 0.00297063955341279), (872, 0.019700234281080472), (873, 0.016609456723660716), (874, 0.010431658587087066), (875, 0.03289186884887563), (876, 0.0033000385095696264), (877, 0.0), (878, 0.0207336372377606), (879, 0.0030163280819535693), (880, 0.002849668931306124), (881, 0.029684588022285092), (882, 0.004079920062282702), (883, 0.016208693539901682), (884, 0.01286502356623378), (885, 0.006721590500218307), (886, 0.0027105046842309105), (887, 0.05169743437257882), (888, 0.0032043059924713574), (889, 0.0037208611930573086), (890, 0.007815545263289363), (891, 0.004848255842750787), (892, 0.06308316279237684), (893, 0.008543124308081324), (894, 0.007423406423761586), (895, 0.024384527312517296), (896, 0.0031584092032304616), (897, 0.0075507941862097945), (898, 0.00829244167712849), (899, 0.03175260144669554), (900, 0.0027032145678400855), (901, 0.010241944029835798), (902, 0.014830926687526594), (903, 0.002710105059783467), (904, 0.00541797415680396), (905, 0.0), (906, 0.0), (907, 0.03466004899829283), (908, 0.00470198738431433), (909, 0.0), (910, 0.002646583897402199), (911, 0.12238445426196431), (912, 0.0), (913, 0.030267638388615684), (914, 0.0), (915, 0.004428893361951856), (916, 0.004264771556252175), (917, 0.002587878806051588), (918, 0.02437228413290219), (919, 0.004677326513272936), (920, 0.0), (921, 0.002690779478266892), (922, 0.0032437239872919487), (923, 0.011908138247446064), (924, 0.014779920926443287), (925, 0.0033243789731384407), (926, 0.012253701115662957), (927, 0.014181640468224807), (928, 0.004803070588785553), (929, 0.015560280279605019), (930, 0.041446407845378966), (931, 0.004599439221588163), (932, 0.0), (933, 0.0029527001061582367), (934, 0.2308538803727682), (935, 0.015532213577712645), (936, 0.09823948014223645), (937, 0.0033778464636559694), (938, 0.033375920643139156), (939, 0.002727004617702838), (940, 0.002023415521650658), (941, 0.0027078827607917412), (942, 0.002350437182835619), (943, 0.0), (944, 0.0346871035545577), (945, 0.04703916193191363), (946, 0.0), (947, 0.003900008579620537), (948, 0.00579525603041782), (949, 0.03190520178463071), (950, 0.018121784504713405), (951, 0.0024407042950495145), (952, 0.0031253380138197735), (953, 0.009956058645774361), (954, 0.0), (955, 0.011170768945036299), (956, 0.015840364993950556), (957, 0.006842730783167069), (958, 0.0), (959, 0.002808220092477793), (960, 0.0), (961, 0.0), (962, 0.020453605759699123), (963, 0.039533189799242904), (964, 0.0), (965, 0.0), (966, 0.03986752124163076), (967, 0.003192030644298659), (968, 0.0026189854428903254), (969, 0.018986723296120576), (970, 0.044500328106559774), (971, 0.03232152958987215), (972, 0.0072568924558486375), (973, 0.011917569620712706), (974, 0.03257602733664687), (975, 0.002706593049752471), (976, 0.0), (977, 0.0), (978, 0.004257195419623487), (979, 0.02369688821700718), (980, 0.03084364712550764), (981, 0.038074976137153375), (982, 0.010126137358968836), (983, 0.0), (984, 0.0206602335385761), (985, 0.0033073021929197308), (986, 0.01858778806717367), (987, 0.07964118537947992), (988, 0.037408533825491856), (989, 0.002843698609276464), (990, 0.010407580833258054), (991, 0.0031034755204674166), (992, 0.0), (993, 0.007548916485131101), (994, 0.012566212670619036), (995, 0.013526675940545917), (996, 0.027121477981602398), (997, 0.0), (998, 0.0032775410348969414), (999, 0.0032748585959918772), (1000, 0.006740222893736528), (1001, 0.020558454255460726), (1002, 0.011525415774601979), (1003, 0.0), (1004, 0.0025914226713221414), (1005, 0.020296701251698555), (1006, 0.00782911037045535), (1007, 0.0030436993842351606), (1008, 0.0), (1009, 0.028216758443163233), (1010, 0.03640533091112755), (1011, 0.015897596507847098), (1012, 0.014322457923542182), (1013, 0.010010762121663921), (1014, 0.03387479844460433), (1015, 0.034731394751205596), (1016, 0.0), (1017, 0.00281017528244055), (1018, 0.012275356115055595), (1019, 0.019206671332758933), (1020, 0.011863210482985396), (1021, 0.0028798618531784797), (1022, 0.004581565814136012), (1023, 0.00324989129497209), (1024, 0.0), (1025, 0.004101537445475563), (1026, 0.002837046139549702), (1027, 0.011824177777836885), (1028, 0.015308197136921263), (1029, 0.008710955399294071), (1030, 0.0027986416983729117), (1031, 0.004893605588829856), (1032, 0.0027307441978221786), (1033, 0.01159472865800027), (1034, 0.06851332246745782), (1035, 0.007280043492930711), (1036, 0.02942079800506355), (1037, 0.014112824060166116), (1038, 0.0), (1039, 0.025486287426904522), (1040, 0.002258140164040438), (1041, 0.011354603933294417), (1042, 0.014489652211113093), (1043, 0.008189178161994166), (1044, 0.07646972893520838), (1045, 0.0), (1046, 0.003909289942511804), (1047, 0.014666419832704794), (1048, 0.02776021184321138), (1049, 0.0034282823300855188), (1050, 0.0024630728085455363), (1051, 0.0), (1052, 0.020322381151609656), (1053, 0.003400596432503917), (1054, 0.004346092913835806), (1055, 0.008650931059706327), (1056, 0.06455950180102409), (1057, 0.0), (1058, 0.07177468833833865), (1059, 0.007417926894336505), (1060, 0.07092852601175283), (1061, 0.061247615146058046), (1062, 0.0), (1063, 0.009153973872530597), (1064, 0.014981080690787405), (1065, 0.002642530609009312), (1066, 0.03628874367769599), (1067, 0.028799901937582948), (1068, 0.004256498271884784), (1069, 0.0), (1070, 0.0), (1071, 0.022732144018025063), (1072, 0.0028635844157134287), (1073, 0.03215189196574056), (1074, 0.0), (1075, 0.01302606027663534), (1076, 0.035112680228643424), (1077, 0.007655767299309576), (1078, 0.002407729728991154), (1079, 0.002658715746351511), (1080, 0.0026027396354182603), (1081, 0.0), (1082, 0.009304839007954042), (1083, 0.003008158428659654), (1084, 0.012116462011694192), (1085, 0.00965851671218741), (1086, 0.03705250603097729), (1087, 0.06213917015822252), (1088, 0.018567155881624088), (1089, 0.0), (1090, 0.012113732984866824), (1091, 0.032009703143227174), (1092, 0.0), (1093, 0.0), (1094, 0.0), (1095, 0.035211871086064), (1096, 0.0028127270153534847), (1097, 0.01521143184800471), (1098, 0.0023575921601075777), (1099, 0.0), (1100, 0.0028433365344093563), (1101, 0.0), (1102, 0.0028694440962050947), (1103, 0.0), (1104, 0.0048444692991807675), (1105, 0.009341914730971736), (1106, 0.03989528295503624), (1107, 0.002689981552219491), (1108, 0.0), (1109, 0.013413157604659127), (1110, 0.0028418501387406096), (1111, 0.07535467347603024), (1112, 0.002879625476362756), (1113, 0.008886382262853302), (1114, 0.006902263802660383), (1115, 0.01512936276500428), (1116, 0.0), (1117, 0.017870089883456414), (1118, 0.013266972283502595), (1119, 0.0030868220148111926), (1120, 0.012001421472991203), (1121, 0.01549188239071696), (1122, 0.0029434871879205904), (1123, 0.026683339149310415), (1124, 0.002997428862843207), (1125, 0.0), (1126, 0.0), (1127, 0.01853223474229092), (1128, 0.009283437891373012), (1129, 0.03941620295846028), (1130, 0.004510071315021294), (1131, 0.15999147392172172), (1132, 0.007121846529772323), (1133, 0.0), (1134, 0.0), (1135, 0.0312522006529536), (1136, 0.024378167606485583), (1137, 0.04322521995119821), (1138, 0.01861475257917001), (1139, 0.0), (1140, 0.008023797706253132), (1141, 0.003089729566614817), (1142, 0.0), (1143, 0.0), (1144, 0.005974560262528548), (1145, 0.003997957870813042), (1146, 0.004450276326570486), (1147, 0.0), (1148, 0.0032643399392782), (1149, 0.0), (1150, 0.0151830800281126), (1151, 0.015552815370480562), (1152, 0.0), (1153, 0.0), (1154, 0.0), (1155, 0.032727089610191176), (1156, 0.0), (1157, 0.004223048785479416), (1158, 0.0), (1159, 0.015350092614531836), (1160, 0.10151553924888836), (1161, 0.03301073983981683), (1162, 0.0), (1163, 0.0028860899887360445), (1164, 0.0), (1165, 0.01950389905032041), (1166, 0.0), (1167, 0.0), (1168, 0.02037566561868098), (1169, 0.003383731921780721), (1170, 0.007502222140152407), (1171, 0.004169213118382907), (1172, 0.0), (1173, 0.004165202528663792), (1174, 0.00295566033744816), (1175, 0.0370474890224848), (1176, 0.0029512308529470056), (1177, 0.002723505303631995), (1178, 0.011958199183619608), (1179, 0.0698061218367487), (1180, 0.0), (1181, 0.0), (1182, 0.002949793097670902), (1183, 0.002683596470278315), (1184, 0.0032983505374749264), (1185, 0.014830593148862505), (1186, 0.031969790866020795), (1187, 0.0033968669717648575), (1188, 0.0030345940362554564), (1189, 0.0), (1190, 0.018273307591260522), (1191, 0.012144125859999738), (1192, 0.02260009858718021), (1193, 0.0), (1194, 0.012298939976640812), (1195, 0.004770951288807804), (1196, 0.0), (1197, 0.0), (1198, 0.0), (1199, 0.016409648752523202), (1200, 0.0767474539509214), (1201, 0.0), (1202, 0.002452369068154278), (1203, 0.0027145794780845905), (1204, 0.037245685527274364), (1205, 0.0), (1206, 0.007005312191781802), (1207, 0.0), (1208, 0.009553922764465794), (1209, 0.015501504019920849), (1210, 0.013387335444703661), (1211, 0.0), (1212, 0.0), (1213, 0.008322498102423392), (1214, 0.007718760198446622), (1215, 0.08203914970080879), (1216, 0.06903798607567325), (1217, 0.0025100197257631454), (1218, 0.004390804037129273), (1219, 0.0324553621680815), (1220, 0.015314736295525343), (1221, 0.02735699144589554), (1222, 0.012120098727470403), (1223, 0.007522787412768538), (1224, 0.0332022561653617), (1225, 0.023039504849325123), (1226, 0.0), (1227, 0.0), (1228, 0.010166803227087217), (1229, 0.0030183829927142025), (1230, 0.0), (1231, 0.0), (1232, 0.029918811085871702), (1233, 0.0), (1234, 0.0030615696362300496), (1235, 0.0), (1236, 0.0), (1237, 0.002624498793546973), (1238, 0.004571241339089239), (1239, 0.004560806232457603), (1240, 0.0), (1241, 0.1809875085588574), (1242, 0.0), (1243, 0.003153485376670513), (1244, 0.0354205762304932), (1245, 0.011986204189613473), (1246, 0.004972215018115209), (1247, 0.002792490381408611), (1248, 0.04089255127062489), (1249, 0.0), (1250, 0.0143474866158433), (1251, 0.002558396500450082), (1252, 0.018231869152345166), (1253, 0.02977469213096348), (1254, 0.022107392628004215), (1255, 0.002747068391496517), (1256, 0.0), (1257, 0.08237588216572922), (1258, 0.0), (1259, 0.02583491508700585), (1260, 0.0), (1261, 0.0027992443210849618), (1262, 0.004590348658531822), (1263, 0.018567791513252763), (1264, 0.0034826499217985455), (1265, 0.06364428823901457), (1266, 0.01436141690972814), (1267, 0.004449347501731688), (1268, 0.0), (1269, 0.0), (1270, 0.008439013961383988), (1271, 0.0), (1272, 0.0), (1273, 0.07567628257418565), (1274, 0.004371031269437646), (1275, 0.0033360033716735554), (1276, 0.0), (1277, 0.005603903426418588), (1278, 0.010293005262252049), (1279, 0.0038751173557356414), (1280, 0.0), (1281, 0.0), (1282, 0.025468450260623055), (1283, 0.008331742602404638), (1284, 0.0028144287924716767), (1285, 0.03237753510774939), (1286, 0.00283437289090772), (1287, 0.0), (1288, 0.04890246771541472), (1289, 0.03158147500455494), (1290, 0.028464743438142363), (1291, 0.036497400469254884), (1292, 0.015252775537903744), (1293, 0.0), (1294, 0.012693932340103659), (1295, 0.0), (1296, 0.01188294298977135), (1297, 0.0046064713010337925), (1298, 0.021988859639559072), (1299, 0.009945489623955897), (1300, 0.0), (1301, 0.006546954213191474), (1302, 0.009609105687275655), (1303, 0.0023310421265590113), (1304, 0.0215777828022155), (1305, 0.010000252325180798), (1306, 0.05629478177923121), (1307, 0.017578482866089214), (1308, 0.006875268515746564), (1309, 0.0), (1310, 0.008550942609786465), (1311, 0.0), (1312, 0.00632400267064798), (1313, 0.0028489939241269162), (1314, 0.018750131079191157), (1315, 0.0), (1316, 0.014136937199120557), (1317, 0.01791519905272628), (1318, 0.0025784773310944136), (1319, 0.016383415370602925), (1320, 0.0), (1321, 0.005297128183673406), (1322, 0.02425091491557065), (1323, 0.0), (1324, 0.0030840433663477064), (1325, 0.0031337023439222474), (1326, 0.0234241560731302), (1327, 0.0), (1328, 0.0), (1329, 0.009083854793834724), (1330, 0.0), (1331, 0.0), (1332, 0.03767965735272109), (1333, 0.0), (1334, 0.0029679571505341028), (1335, 0.0219363141455715), (1336, 0.004832743699922677), (1337, 0.018779195068885528), (1338, 0.0073704980705832975), (1339, 0.003073095259745998), (1340, 0.002455320284324012), (1341, 0.08258229818660509), (1342, 0.0), (1343, 0.03732864481983038), (1344, 0.030450821171007652), (1345, 0.019177565638201645), (1346, 0.06352191716702363), (1347, 0.004445665107561355), (1348, 0.0), (1349, 0.042435982760541405), (1350, 0.002816267221853317), (1351, 0.005526469939698464), (1352, 0.019710871382760217), (1353, 0.027186022213567237), (1354, 0.03613742473814482), (1355, 0.002960721787764644), (1356, 0.010465912830801971), (1357, 0.015987972967818485), (1358, 0.0), (1359, 0.01977372458786848), (1360, 0.006820257293644004), (1361, 0.0), (1362, 0.0), (1363, 0.0), (1364, 0.007781244849701569), (1365, 0.014101377288788974), (1366, 0.053561347492426165), (1367, 0.0024144041352365266), (1368, 0.01358186579030277), (1369, 0.006133454655229022), (1370, 0.0024929148671266853), (1371, 0.029938962801827253), (1372, 0.002712108024919017), (1373, 0.042891523753669045), (1374, 0.02012781555991254), (1375, 0.01612715417152771), (1376, 0.01825061597613164), (1377, 0.006045021129348513), (1378, 0.0028887302244016274), (1379, 0.012531425636219373), (1380, 0.004854071536772016), (1381, 0.038210233361369535), (1382, 0.0029842367862158298), (1383, 0.0032636528429488085), (1384, 0.029286413254187883), (1385, 0.012380933227453332), (1386, 0.015769047643793624), (1387, 0.01116275493579197), (1388, 0.0), (1389, 0.0), (1390, 0.004951788113871341), (1391, 0.0), (1392, 0.028876754616691997), (1393, 0.028138791883375196), (1394, 0.00663934810617748), (1395, 0.0037048483376322487), (1396, 0.009626636798392133), (1397, 0.0025001955835211036), (1398, 0.0732261672404682), (1399, 0.04997417155432355), (1400, 0.013034482018561442), (1401, 0.0), (1402, 0.00785808122586805), (1403, 0.002221339274020115), (1404, 0.02193452870113422), (1405, 0.0), (1406, 0.0), (1407, 0.0), (1408, 0.012043009239873451), (1409, 0.003093055931253955), (1410, 0.0029220837070675154), (1411, 0.007405134849788825), (1412, 0.023524997392591937), (1413, 0.01227640689675697), (1414, 0.002579294064225048), (1415, 0.015076786805448349), (1416, 0.017776304334625338), (1417, 0.002256844692093453), (1418, 0.08641126017832704), (1419, 0.00948548522042784), (1420, 0.023187276405719423), (1421, 0.0072242815643182145), (1422, 0.007296371609035825), (1423, 0.002565901850605749), (1424, 0.030595306606771896), (1425, 0.014320214257918039), (1426, 0.014913892810072937), (1427, 0.0023700170782319447), (1428, 0.0), (1429, 0.003475714070275375), (1430, 0.029340705617282463), (1431, 0.03999852750022346), (1432, 0.0), (1433, 0.01150401624020316), (1434, 0.002639645546574961), (1435, 0.01585755850803514), (1436, 0.004869887658469158), (1437, 0.0), (1438, 0.0028632589551521705), (1439, 0.0030271860552239203), (1440, 0.0029358188995482785), (1441, 0.0), (1442, 0.019660862749477204), (1443, 0.009497268613919618), (1444, 0.0), (1445, 0.00989895288163403), (1446, 0.007181302071241654), (1447, 0.03097234650401508), (1448, 0.002671476162332045), (1449, 0.0), (1450, 0.010655987411911708), (1451, 0.008646598939589032), (1452, 0.0), (1453, 0.007406534194352328), (1454, 0.003175590392195595), (1455, 0.0), (1456, 0.02443239009142289), (1457, 0.0), (1458, 0.008018709081291021), (1459, 0.009060917087763692), (1460, 0.0), (1461, 0.004654116251464571), (1462, 0.0026518555870978827), (1463, 0.007225213313884129), (1464, 0.0099086900426906), (1465, 0.010487351097427258), (1466, 0.0), (1467, 0.03845000219677388), (1468, 0.021116232514787114), (1469, 0.0), (1470, 0.0), (1471, 0.03134213742465035), (1472, 0.016893182142252983), (1473, 0.0), (1474, 0.008357176330511775), (1475, 0.018086077085055427), (1476, 0.002929159843260079), (1477, 0.011157242061750911), (1478, 0.04879780782385902), (1479, 0.0031710162713797815), (1480, 0.0), (1481, 0.0027982714903566634), (1482, 0.004023073005734641), (1483, 0.09433021218626268), (1484, 0.013080095693953159), (1485, 0.0), (1486, 0.005068802567544438), (1487, 0.008727621791441481), (1488, 0.022166952388151803), (1489, 0.003248722607917435), (1490, 0.0), (1491, 0.0), (1492, 0.0), (1493, 0.004437338824005624), (1494, 0.028440559538842836), (1495, 0.01900408776717788), (1496, 0.00865009612128917), (1497, 0.003299621406195143), (1498, 0.01374721370374888), (1499, 0.003236466776719797), (1500, 0.09198866418938596), (1501, 0.004596790376770933), (1502, 0.02012813716568284), (1503, 0.010967431605825488), (1504, 0.0), (1505, 0.0), (1506, 0.02432996549691171), (1507, 0.0), (1508, 0.0), (1509, 0.011591670288049395), (1510, 0.017129812427702243), (1511, 0.004997904277596647), (1512, 0.0), (1513, 0.019169253311342678), (1514, 0.029436284211082204), (1515, 0.0046326069395597165), (1516, 0.0029775225041318108), (1517, 0.009164762965530537), (1518, 0.013317533289877795), (1519, 0.002673566609241762), (1520, 0.015111189764192628), (1521, 0.003975122572685376), (1522, 0.03978784450412856), (1523, 0.03638021756508861), (1524, 0.03187053969534738), (1525, 0.014432968521160099), (1526, 0.01821433930502893), (1527, 0.018009371810507144), (1528, 0.0026260121988961604), (1529, 0.0), (1530, 0.0037692829643593178), (1531, 0.0), (1532, 0.0), (1533, 0.0029327677916688357), (1534, 0.0), (1535, 0.011836928683186247), (1536, 0.0), (1537, 0.008023096555951643), (1538, 0.0026243006446356352), (1539, 0.044653324091979425), (1540, 0.0), (1541, 0.0), (1542, 0.0), (1543, 0.03735829468536427), (1544, 0.0), (1545, 0.009085140882088744), (1546, 0.003959528298649633), (1547, 0.049539043635261557), (1548, 0.025459535407838175), (1549, 0.018959112512051273), (1550, 0.036198266422313614), (1551, 0.004523634047180633), (1552, 0.0), (1553, 0.03446250078300925), (1554, 0.010431114128818583), (1555, 0.0069761818507890275), (1556, 0.0), (1557, 0.0), (1558, 0.002687585056845683), (1559, 0.003983379702826563), (1560, 0.010676263870555034), (1561, 0.0), (1562, 0.008775509360506641), (1563, 0.0), (1564, 0.004713850528224891), (1565, 0.006405420603363771), (1566, 0.02682011502824149), (1567, 0.03482119178937664), (1568, 0.00420015924489805), (1569, 0.0), (1570, 0.11247890413931969), (1571, 0.031160618204795258), (1572, 0.0030763500573679583), (1573, 0.0), (1574, 0.017122962558402892), (1575, 0.0), (1576, 0.015394856627988491), (1577, 0.004642796031805482), (1578, 0.035642388929023744), (1579, 0.012978949928790262), (1580, 0.02052658615639292), (1581, 0.0), (1582, 0.011871281451696223), (1583, 0.005042483899433908), (1584, 0.012609942557488978), (1585, 0.029919968946378682), (1586, 0.014708416141272364), (1587, 0.004685070585307825), (1588, 0.0), (1589, 0.0), (1590, 0.0), (1591, 0.0), (1592, 0.02321054830805894), (1593, 0.01498530436323511), (1594, 0.0350627918074247), (1595, 0.006781667580557232), (1596, 0.0), (1597, 0.03538393786711968), (1598, 0.0028540187638076654), (1599, 0.0), (1600, 0.0), (1601, 0.0), (1602, 0.0), (1603, 0.0), (1604, 0.014334614503936076), (1605, 0.002611971352590952), (1606, 0.0), (1607, 0.0), (1608, 0.019040019433189045), (1609, 0.0), (1610, 0.0), (1611, 0.0), (1612, 0.012313338579645405), (1613, 0.004787439878618413), (1614, 0.0), (1615, 0.031916905229004214), (1616, 0.01919241715590035), (1617, 0.007315909542590329), (1618, 0.0), (1619, 0.02339359647311671), (1620, 0.04978318290709337), (1621, 0.0028501946497855772), (1622, 0.0), (1623, 0.0), (1624, 0.029872484163062027), (1625, 0.002599790094548806), (1626, 0.00417044551283955), (1627, 0.028283267101727332), (1628, 0.0026454210081953496), (1629, 0.01276412927300482), (1630, 0.01772397007383307), (1631, 0.008988686979004836), (1632, 0.004412929009081795), (1633, 0.00905276626928871), (1634, 0.0028655147663940992), (1635, 0.0), (1636, 0.004742210370272961), (1637, 0.0031012631846229106), (1638, 0.014401794799912996), (1639, 0.0), (1640, 0.03655072244960029), (1641, 0.0026810560880931615), (1642, 0.006935618431655247), (1643, 0.007867419699401329), (1644, 0.0), (1645, 0.007239457965914154), (1646, 0.0), (1647, 0.0), (1648, 0.009033464327843476), (1649, 0.008829596968653656), (1650, 0.03438477807048354), (1651, 0.0), (1652, 0.0), (1653, 0.007307725640587321), (1654, 0.0), (1655, 0.003516893971426625), (1656, 0.12239047474878872), (1657, 0.0), (1658, 0.10101676847210278), (1659, 0.0), (1660, 0.00782976123912121), (1661, 0.030899886252891553), (1662, 0.0042897177916438566), (1663, 0.002723707385527879), (1664, 0.013692950600419295), (1665, 0.002707042489211408), (1666, 0.02127166605890575), (1667, 0.0026645381658224787), (1668, 0.03481300127725795), (1669, 0.005663150587026884), (1670, 0.0030430018493331403), (1671, 0.002799159090767477), (1672, 0.02855646297372978), (1673, 0.0), (1674, 0.02747326449209904), (1675, 0.015212772067837395), (1676, 0.0), (1677, 0.03935510718962078), (1678, 0.03559233852938514), (1679, 0.020239288676434552), (1680, 0.0026257645996191673), (1681, 0.015454561246502378), (1682, 0.035368782997888475), (1683, 0.00309383135071602), (1684, 0.0), (1685, 0.083598400159567), (1686, 0.0), (1687, 0.007945434968589855), (1688, 0.012334849538969368), (1689, 0.03476673022344337), (1690, 0.002604857941975966), (1691, 0.033318343964586127), (1692, 0.004553946069888715), (1693, 0.002714577187744984), (1694, 0.0), (1695, 0.0037253571745288886), (1696, 0.0), (1697, 0.0), (1698, 0.01590239865688507), (1699, 0.0), (1700, 0.03431278597790922), (1701, 0.02694371066659719), (1702, 0.004783777194881372), (1703, 0.01924669825154401), (1704, 0.02428406059537685), (1705, 0.0), (1706, 0.012478002946194104), (1707, 0.045192087032641944), (1708, 0.013281034304186522), (1709, 0.012944347624025266), (1710, 0.007098571229365009), (1711, 0.00362561230095176), (1712, 0.01966971328356029), (1713, 0.0), (1714, 0.0042080651959759035), (1715, 0.04448262795487569), (1716, 0.00840423941226276), (1717, 0.0029776024439351935), (1718, 0.019978932312942805), (1719, 0.0067631178569221035), (1720, 0.0), (1721, 0.0), (1722, 0.0029195868204735516), (1723, 0.004320739374571672), (1724, 0.0), (1725, 0.015562304985033366), (1726, 0.004723043497960585), (1727, 0.003006042220624145), (1728, 0.03447338670344998), (1729, 0.017149261922549536), (1730, 0.1341177988048019), (1731, 0.026786659169513893), (1732, 0.010125934585183646), (1733, 0.00821664983156169), (1734, 0.0), (1735, 0.0159956206206705), (1736, 0.0030266648191805104), (1737, 0.03221032115338066), (1738, 0.00436938565504251), (1739, 0.0025996076019949035), (1740, 0.027362437601874547), (1741, 0.009550850985825986), (1742, 0.02194066067337986), (1743, 0.048367189161256284), (1744, 0.002758133828254315), (1745, 0.0), (1746, 0.008591122388922895), (1747, 0.0022499966681431348), (1748, 0.05563348539205924), (1749, 0.014547667600297012), (1750, 0.0), (1751, 0.044793226827578955), (1752, 0.015567408134157782), (1753, 0.0), (1754, 0.013621587239473126), (1755, 0.00875957526716762), (1756, 0.00434029442139177), (1757, 0.0), (1758, 0.03850316489779551), (1759, 0.002731764079812987), (1760, 0.0541845894144689), (1761, 0.0), (1762, 0.015137191448004135), (1763, 0.02555604101841841), (1764, 0.04916813233151328), (1765, 0.0029902482945421255), (1766, 0.0), (1767, 0.054638280265274036), (1768, 0.007704682052468843), (1769, 0.0), (1770, 0.0), (1771, 0.0), (1772, 0.020332987807646967), (1773, 0.0), (1774, 0.0022075436498631526), (1775, 0.041365369935297644), (1776, 0.0025462142644972372), (1777, 0.0), (1778, 0.004287042969088936), (1779, 0.003078145321683782), (1780, 0.021566167963895995), (1781, 0.03063437204094828), (1782, 0.006853915527047349), (1783, 0.0), (1784, 0.004179392162953348), (1785, 0.0), (1786, 0.02964259682887181), (1787, 0.008718587575641618), (1788, 0.01731216713820113), (1789, 0.0), (1790, 0.03212921682204476), (1791, 0.0), (1792, 0.09023425460263407), (1793, 0.032284805491693956), (1794, 0.004211540609862289), (1795, 0.0), (1796, 0.019926586941715282), (1797, 0.00830598348102685), (1798, 0.05799862693754664), (1799, 0.010081971638195748), (1800, 0.02701987512825536), (1801, 0.0024280487582217835), (1802, 0.04285016344936454), (1803, 0.0), (1804, 0.004616586543880119), (1805, 0.0031500000356727573), (1806, 0.0), (1807, 0.007350503794508163), (1808, 0.0860816823960302), (1809, 0.021529805761686033), (1810, 0.03701149334236251), (1811, 0.012265942557698232), (1812, 0.009833407755258197), (1813, 0.012004891295441094), (1814, 0.0026620669885971723), (1815, 0.0), (1816, 0.004148938693227997), (1817, 0.008260990118457337), (1818, 0.03733764451232671), (1819, 0.002693542962851125), (1820, 0.01787389110970125), (1821, 0.003033915833352902), (1822, 0.0472328761658287), (1823, 0.03645507162804007), (1824, 0.013231973423427733), (1825, 0.008805466184997578), (1826, 0.0026143897258190645), (1827, 0.0026144465692882523), (1828, 0.028197307374239394), (1829, 0.0), (1830, 0.0025617747944308273), (1831, 0.018194826847496987), (1832, 0.009676096868767898), (1833, 0.0024756873059556318), (1834, 0.0), (1835, 0.0), (1836, 0.0), (1837, 0.0), (1838, 0.0), (1839, 0.0), (1840, 0.0), (1841, 0.0047870720548559105), (1842, 0.0), (1843, 0.0032792138670889527), (1844, 0.032100711552819884), (1845, 0.02225965511948877), (1846, 0.0), (1847, 0.0), (1848, 0.0031123340450781327), (1849, 0.0), (1850, 0.061301191420742265), (1851, 0.0078016826439392655), (1852, 0.004538781292083875), (1853, 0.0030602810171480505), (1854, 0.0027604070325579952), (1855, 0.0), (1856, 0.0), (1857, 0.004531097410411025), (1858, 0.01898637679459925), (1859, 0.004853252192093219), (1860, 0.0029733373220288996), (1861, 0.002191492876169301), (1862, 0.003238009999492408), (1863, 0.0), (1864, 0.0027807979081940163), (1865, 0.024333860445239535), (1866, 0.0031569520952240892), (1867, 0.0), (1868, 0.0), (1869, 0.0026176790861977195), (1870, 0.008467840318233468), (1871, 0.002301140162549446), (1872, 0.06215143158366662), (1873, 0.009483573078389302), (1874, 0.019887094262568128), (1875, 0.006881549639909019), (1876, 0.012436416961936056), (1877, 0.01619157559705342), (1878, 0.011740822518513144), (1879, 0.029580066248224263), (1880, 0.04724627494651993), (1881, 0.004814054464478558), (1882, 0.002832744456860848), (1883, 0.01552334697746472), (1884, 0.01738669781070542), (1885, 0.0033875999260840873), (1886, 0.100994561620373), (1887, 0.04162653209601753), (1888, 0.00452129367083328), (1889, 0.0157471425666144), (1890, 0.0032080897236108933), (1891, 0.012258091244285944), (1892, 0.0026253289430495604), (1893, 0.007903920025622178), (1894, 0.016807929698282716), (1895, 0.013260624787489118), (1896, 0.11834371511732862), (1897, 0.0031347506963199903), (1898, 0.0), (1899, 0.0), (1900, 0.009121425573645307), (1901, 0.0), (1902, 0.0030389361101053696), (1903, 0.004305516349794169), (1904, 0.0), (1905, 0.0031520594662797752), (1906, 0.0), (1907, 0.008066328628724067), (1908, 0.044508195052767506), (1909, 0.0032816005389032167), (1910, 0.003888290756324492), (1911, 0.03135776643671805), (1912, 0.009070692463380287), (1913, 0.0), (1914, 0.004325646541673542), (1915, 0.07902678954210716), (1916, 0.00304671705047625), (1917, 0.0), (1918, 0.003053900056136423), (1919, 0.03277685919274566), (1920, 0.017014593916722803), (1921, 0.0025838544500252723), (1922, 0.01877824315565313), (1923, 0.003210934818393736), (1924, 0.0702026942056646), (1925, 0.04492746933820891), (1926, 0.016481551313304667), (1927, 0.0), (1928, 0.005203433584538377), (1929, 0.002756232443448984), (1930, 0.0), (1931, 0.0029539744486137827), (1932, 0.04746094462037572), (1933, 0.0), (1934, 0.016431008307102778), (1935, 0.06142788011568419), (1936, 0.002954915909008541), (1937, 0.026323136439010256), (1938, 0.022471184372742814), (1939, 0.0), (1940, 0.0), (1941, 0.011339466449622835), (1942, 0.002941476864230403), (1943, 0.010762895131786254), (1944, 0.0), (1945, 0.0), (1946, 0.1286544318234798), (1947, 0.0033562811531856964), (1948, 0.030152334830496924), (1949, 0.0), (1950, 0.017930489066920192), (1951, 0.007950747388150211), (1952, 0.020524880796800263), (1953, 0.0), (1954, 0.026435847268651544), (1955, 0.0), (1956, 0.0), (1957, 0.007733451271352521), (1958, 0.028889527978432236), (1959, 0.003127451119122034), (1960, 0.00320109611805155), (1961, 0.03584905022392745), (1962, 0.0), (1963, 0.007665341295785134), (1964, 0.024003935249698516), (1965, 0.0), (1966, 0.0), (1967, 0.0028087036953079944), (1968, 0.008800479957572842), (1969, 0.0633722096186838), (1970, 0.0), (1971, 0.006351733138894821), (1972, 0.0), (1973, 0.004329749367971463), (1974, 0.11548002659248391), (1975, 0.0), (1976, 0.010583655897125392), (1977, 0.011009538284426), (1978, 0.0), (1979, 0.0), (1980, 0.0025931884271759202), (1981, 0.015917614523439434), (1982, 0.01264725048870847), (1983, 0.003011119984316819), (1984, 0.012938122826963739), (1985, 0.03711703402232469), (1986, 0.013921603474530612), (1987, 0.008449775797996424), (1988, 0.019060078719033504), (1989, 0.01494087081207272), (1990, 0.026955873570263203), (1991, 0.01910087548262533), (1992, 0.008851116698239713), (1993, 0.0), (1994, 0.012524971342860751), (1995, 0.03420142127817637), (1996, 0.0), (1997, 0.013142345371601864), (1998, 0.0), (1999, 0.0), (2000, 0.04988993426956687), (2001, 0.0), (2002, 0.009916033955249058), (2003, 0.004446569295253006), (2004, 0.002717343063819327), (2005, 0.008277242070938018), (2006, 0.016057614317406408), (2007, 0.03437283291722908), (2008, 0.021238865959994687), (2009, 0.011221117556185472), (2010, 0.037525435825521425), (2011, 0.0849512092638285), (2012, 0.040019267543882416), (2013, 0.03139284394076247), (2014, 0.018578503892785606), (2015, 0.0048060251623106435), (2016, 0.007779507662681141), (2017, 0.019063294659942095), (2018, 0.0), (2019, 0.00940921316795767), (2020, 0.003926002597952355), (2021, 0.0), (2022, 0.037355181314169345), (2023, 0.0070568758598321315), (2024, 0.0027685856181561986), (2025, 0.0), (2026, 0.04227562424749657), (2027, 0.039452545237363586), (2028, 0.020456266369246842), (2029, 0.00731615844766639), (2030, 0.0), (2031, 0.015068904752670366), (2032, 0.0053935041112119), (2033, 0.0), (2034, 0.014293419839856306), (2035, 0.04133949350573413), (2036, 0.022499061037677136), (2037, 0.10384765658833338), (2038, 0.008819562667004118), (2039, 0.015647373559412772), (2040, 0.013660831790987416), (2041, 0.0), (2042, 0.0), (2043, 0.025596079472374505), (2044, 0.01647550693000996), (2045, 0.017244220187758313), (2046, 0.0045968791997431785), (2047, 0.01906119352189692), (2048, 0.017856604093302218), (2049, 0.003187373607400714), (2050, 0.0), (2051, 0.02090745677129745), (2052, 0.0), (2053, 0.027580041986519286), (2054, 0.0), (2055, 0.006791828160542071), (2056, 0.004435256961594323), (2057, 0.0), (2058, 0.0083069654509991), (2059, 0.0), (2060, 0.012239821207321765), (2061, 0.012251859759514792), (2062, 0.008913312410135812), (2063, 0.0), (2064, 0.0), (2065, 0.01086767123069475), (2066, 0.010658006396963814), (2067, 0.018713828071672246), (2068, 0.017486058795648626), (2069, 0.01214919549873319), (2070, 0.022514985654210694), (2071, 0.008563700070530391), (2072, 0.024044835213209683), (2073, 0.002946599548579618), (2074, 0.03478405034890139), (2075, 0.0037883206488693766), (2076, 0.014310795393720925), (2077, 0.0), (2078, 0.003660492964210548), (2079, 0.005254163607615673), (2080, 0.002793404896312008), (2081, 0.0), (2082, 0.020426593115992063), (2083, 0.12184217398183013), (2084, 0.0), (2085, 0.0), (2086, 0.03151230703144283), (2087, 0.0028277831117223626), (2088, 0.003029114249037329), (2089, 0.0033972712325467556), (2090, 0.016188011952581557), (2091, 0.002931426858983957), (2092, 0.025666166216709575), (2093, 0.0), (2094, 0.004355447790208212), (2095, 0.0), (2096, 0.0030816284211244533), (2097, 0.013455996169556459), (2098, 0.0), (2099, 0.08230610126746998), (2100, 0.0), (2101, 0.010367746136842581), (2102, 0.011825581552041848), (2103, 0.0072969170569759404), (2104, 0.018528246252012562), (2105, 0.003078685465170605), (2106, 0.019464605697374585), (2107, 0.0), (2108, 0.0032089960501705123), (2109, 0.007553961055041943), (2110, 0.0), (2111, 0.03971932372906399), (2112, 0.008271066541695352), (2113, 0.0), (2114, 0.007749707012239666), (2115, 0.010585600893994827), (2116, 0.0031204067685094944), (2117, 0.002773263906751631), (2118, 0.02526720286636909), (2119, 0.008788875318307913), (2120, 0.014639839277321032), (2121, 0.0027524534069667626), (2122, 0.03340244236514998), (2123, 0.002992562570200435), (2124, 0.0), (2125, 0.0), (2126, 0.06218899966223761), (2127, 0.027433651974111153), (2128, 0.013842566357446098), (2129, 0.002678990677258936), (2130, 0.0), (2131, 0.02209900194370942), (2132, 0.07295631639809173), (2133, 0.002734642133831941), (2134, 0.1126547645685942), (2135, 0.027536450811768948), (2136, 0.015669248823238866), (2137, 0.004097749127078759), (2138, 0.0), (2139, 0.004319718620897746), (2140, 0.0), (2141, 0.011819024466510569), (2142, 0.09215330159262418), (2143, 0.007164776972146502), (2144, 0.002916311544130595), (2145, 0.00817537327649264), (2146, 0.00247079049808153), (2147, 0.025286316973521), (2148, 0.019073402854329097), (2149, 0.03429965851086606), (2150, 0.009174645778802863), (2151, 0.013183813280963134), (2152, 0.013360032908611288), (2153, 0.0), (2154, 0.015838763426714524), (2155, 0.03366567223256795), (2156, 0.004098395386168344), (2157, 0.0024310881602395734), (2158, 0.0), (2159, 0.003188105256977514), (2160, 0.008662010059960487), (2161, 0.012294760415880304), (2162, 0.0031047823553875336), (2163, 0.002579761693338616), (2164, 0.0), (2165, 0.010450321279698157), (2166, 0.011645502210959375), (2167, 0.008845547447741454), (2168, 0.0), (2169, 0.023354600221790728), (2170, 0.0), (2171, 0.020763801193873492), (2172, 0.0), (2173, 0.002846990487300956), (2174, 0.002865788764896132), (2175, 0.012750450892560583), (2176, 0.013650379609942438), (2177, 0.024437419012579627), (2178, 0.004476866643241895), (2179, 0.04665824407847326), (2180, 0.005261229675712462), (2181, 0.0), (2182, 0.0106433096100597), (2183, 0.0087855807047248), (2184, 0.0), (2185, 0.0), (2186, 0.0), (2187, 0.0033181864634203384), (2188, 0.0035284587950244056), (2189, 0.004058459649774845), (2190, 0.003116429343687227), (2191, 0.032922118301347766), (2192, 0.002911580133764353), (2193, 0.05606667399323801), (2194, 0.009826170450428433), (2195, 0.007474043247603351), (2196, 0.03139684160333434), (2197, 0.0), (2198, 0.004611385915052668), (2199, 0.003763512244763311), (2200, 0.0), (2201, 0.002689514334553303), (2202, 0.0), (2203, 0.017229183757554913), (2204, 0.0039016677422308156), (2205, 0.0), (2206, 0.0), (2207, 0.0), (2208, 0.02536507925718272), (2209, 0.0032187381264251066), (2210, 0.0076191652918037), (2211, 0.006279165775836939), (2212, 0.0028849180559103217), (2213, 0.01547121459679955), (2214, 0.0031435208053289324), (2215, 0.0086403067331151), (2216, 0.002833517208098792), (2217, 0.0), (2218, 0.01564961406615328), (2219, 0.0), (2220, 0.013518226421801064), (2221, 0.03082713049546918), (2222, 0.014540021352518608), (2223, 0.0032873005163194515), (2224, 0.011478381343583427), (2225, 0.017355413376676353), (2226, 0.031101570514854356), (2227, 0.0), (2228, 0.012262075740764046), (2229, 0.003159582412170802), (2230, 0.017817225369292127), (2231, 0.02978366547482687), (2232, 0.0), (2233, 0.005050932131315371), (2234, 0.0), (2235, 0.027694849166835518), (2236, 0.010976647037499655), (2237, 0.02330096856435062), (2238, 0.0), (2239, 0.013468873303657666), (2240, 0.002537159745329425), (2241, 0.0047861393507038505), (2242, 0.002748063354552892), (2243, 0.0), (2244, 0.0), (2245, 0.0044455180916329615), (2246, 0.0045939682959450735), (2247, 0.0), (2248, 0.016543650080039645), (2249, 0.0), (2250, 0.00747762663382267), (2251, 0.025882240119544313), (2252, 0.009918132637559397), (2253, 0.0), (2254, 0.0031025189600291866), (2255, 0.003730115594745181), (2256, 0.0), (2257, 0.003722350914585197), (2258, 0.029225727380089706), (2259, 0.03617579728038379), (2260, 0.0030928256708268277), (2261, 0.0), (2262, 0.021109647887845244), (2263, 0.015108141030571554), (2264, 0.002568559651592174), (2265, 0.0300373062512556), (2266, 0.003559973086304879), (2267, 0.0), (2268, 0.036400123632530396), (2269, 0.04260587251886192), (2270, 0.0024980360860270574), (2271, 0.0), (2272, 0.0), (2273, 0.0), (2274, 0.0), (2275, 0.0), (2276, 0.0), (2277, 0.057689028757345315), (2278, 0.014280916158751975), (2279, 0.029077546903500576), (2280, 0.0), (2281, 0.0), (2282, 0.0), (2283, 0.0049048938885301345), (2284, 0.002906785009659972), (2285, 0.019409696725785124), (2286, 0.00369481535486453), (2287, 0.010091918404064884), (2288, 0.0030581187428803066), (2289, 0.0028711648661000912), (2290, 0.0), (2291, 0.05287736150884762), (2292, 0.03369915752001496), (2293, 0.0236753071967026), (2294, 0.11454962939994544), (2295, 0.012561978522194685), (2296, 0.035500064980373655), (2297, 0.0), (2298, 0.0), (2299, 0.00462331816665662), (2300, 0.015575230050725208), (2301, 0.011065151660509052), (2302, 0.0032838787034535424), (2303, 0.007067662292976314), (2304, 0.0), (2305, 0.0), (2306, 0.07774569002220563), (2307, 0.0), (2308, 0.011856659839591806), (2309, 0.002761818108354822), (2310, 0.0038655909469163144), (2311, 0.004329604233804482), (2312, 0.04466141033409696), (2313, 0.00293533717206872), (2314, 0.0), (2315, 0.0087325741148313), (2316, 0.0), (2317, 0.006933785267798), (2318, 0.020572460325504065), (2319, 0.0030034901669067035), (2320, 0.014062362071673128), (2321, 0.0029704197157338938), (2322, 0.03389745183113739), (2323, 0.002609074430647263), (2324, 0.0074605973995425295), (2325, 0.0), (2326, 0.003614111633219963), (2327, 0.018752499934631045), (2328, 0.0), (2329, 0.004514502520652214), (2330, 0.004866336070900209), (2331, 0.0), (2332, 0.016190145950105837), (2333, 0.0), (2334, 0.04727875422012075), (2335, 0.0), (2336, 0.043049779346490576), (2337, 0.0), (2338, 0.043700722433179746), (2339, 0.005227532350887455), (2340, 0.0028983479834070983), (2341, 0.0), (2342, 0.0), (2343, 0.0), (2344, 0.002897195258363386), (2345, 0.0), (2346, 0.0032872520371612837), (2347, 0.01710022678436677), (2348, 0.0027232605442640864), (2349, 0.0040031051058675325), (2350, 0.02390346269662489), (2351, 0.0054937707145250245), (2352, 0.0), (2353, 0.0), (2354, 0.04552001409271444), (2355, 0.0024103684797473816), (2356, 0.03591750906948204), (2357, 0.0), (2358, 0.0), (2359, 0.01032083013394068), (2360, 0.0), (2361, 0.019731133886913936), (2362, 0.0026502496608371154), (2363, 0.00568788481066241), (2364, 0.0), (2365, 0.0), (2366, 0.0), (2367, 0.020647980011633368), (2368, 0.031940449038950484), (2369, 0.0), (2370, 0.0030121194325855288), (2371, 0.03167323271582057), (2372, 0.0), (2373, 0.0), (2374, 0.017582623451853487), (2375, 0.003176249625706098), (2376, 0.010777584391692884), (2377, 0.0036536405536432086), (2378, 0.021891731083633043), (2379, 0.004172524747790984), (2380, 0.0), (2381, 0.0), (2382, 0.07815962895287983), (2383, 0.0), (2384, 0.03001737959377449), (2385, 0.019381767629714483), (2386, 0.03379982141938834), (2387, 0.0028848985266990866), (2388, 0.018730648998829143), (2389, 0.0), (2390, 0.0031694672917670476), (2391, 0.013206890344956344), (2392, 0.0037749645376820113), (2393, 0.013196048473547155), (2394, 0.0030464515931652183), (2395, 0.0), (2396, 0.0029174626662682437), (2397, 0.0029404251867141667), (2398, 0.03813456492183742), (2399, 0.0026687901379217325), (2400, 0.003270084328049525), (2401, 0.002809846202830312), (2402, 0.002618321977861442), (2403, 0.019995755071008956), (2404, 0.01681866707038717), (2405, 0.0030070126441632873), (2406, 0.0033960491467190652), (2407, 0.003996511693369833), (2408, 0.02990081192997065), (2409, 0.033143064324469215), (2410, 0.023827539658013822), (2411, 0.003273797624630882), (2412, 0.014499838482250879), (2413, 0.0), (2414, 0.014189628499672159), (2415, 0.02257220817468477), (2416, 0.007385710322561828), (2417, 0.0033851496703665904), (2418, 0.017985966315824737), (2419, 0.019333020148128793), (2420, 0.0), (2421, 0.004689519768426252), (2422, 0.02699251937970693), (2423, 0.0036436095781210275), (2424, 0.0), (2425, 0.0037470817224412494), (2426, 0.0), (2427, 0.01405083623243147), (2428, 0.0031906709571518166), (2429, 0.0), (2430, 0.13361550473082068), (2431, 0.004737022031830216), (2432, 0.004436447415402723), (2433, 0.0), (2434, 0.003456359111232109), (2435, 0.0), (2436, 0.00837557397581612), (2437, 0.00328163605158678), (2438, 0.0035811603401529756), (2439, 0.0), (2440, 0.03556610818213169), (2441, 0.017905229448946944), (2442, 0.0), (2443, 0.017365744058335658), (2444, 0.004694841235953213), (2445, 0.0), (2446, 0.0318506290498538), (2447, 0.0278561020706039), (2448, 0.0037758063103909803), (2449, 0.0), (2450, 0.0), (2451, 0.0), (2452, 0.0), (2453, 0.0026572532187357774), (2454, 0.003491191304252859), (2455, 0.0), (2456, 0.009778459263569208), (2457, 0.002600741302320002), (2458, 0.00501580075171984), (2459, 0.0035190451663698647), (2460, 0.0), (2461, 0.021438841991718645), (2462, 0.010151178549648407), (2463, 0.033858706906938686), (2464, 0.003170859038931398), (2465, 0.0), (2466, 0.002969205333644125), (2467, 0.0027894209130233222), (2468, 0.0), (2469, 0.002263622292130382), (2470, 0.005198300537088854), (2471, 0.0), (2472, 0.019008518968469966), (2473, 0.002753474794004128), (2474, 0.047297722653440136), (2475, 0.034552734239359416), (2476, 0.017636779682585545), (2477, 0.0031237047727991707), (2478, 0.03795173957180935), (2479, 0.0), (2480, 0.004563058092936555), (2481, 0.028557540845183693), (2482, 0.06136861456432671), (2483, 0.0), (2484, 0.0038657128671116584), (2485, 0.015453027738717236), (2486, 0.06167527371141894), (2487, 0.04486854643570415), (2488, 0.022489079072298173), (2489, 0.012601533342860244), (2490, 0.043013322842512115), (2491, 0.004243540834193195), (2492, 0.012172127004926092), (2493, 0.09055202587359443), (2494, 0.008079366791953287), (2495, 0.0028909301181928738), (2496, 0.0027037643708047437), (2497, 0.0042508516400909845), (2498, 0.00906729788182628), (2499, 0.0), (2500, 0.0), (2501, 0.004624753755662735), (2502, 0.0025508661196341842), (2503, 0.00456406255475251), (2504, 0.01374395207253711), (2505, 0.019267324123893027), (2506, 0.0), (2507, 0.003140691761478834), (2508, 0.0), (2509, 0.05398548681787643), (2510, 0.03360836508394455), (2511, 0.004770740212509992), (2512, 0.0028704395134173757), (2513, 0.0215930736309769), (2514, 0.004135074903606167), (2515, 0.0), (2516, 0.0), (2517, 0.0), (2518, 0.015891353184694583), (2519, 0.0), (2520, 0.09271511166328111), (2521, 0.0), (2522, 0.013178684101907128), (2523, 0.0), (2524, 0.0), (2525, 0.0070564922618773325), (2526, 0.006131369160560106), (2527, 0.002486640051643592), (2528, 0.017088933339190808), (2529, 0.04309799516804505), (2530, 0.0036746734064034723), (2531, 0.007809889564799309), (2532, 0.005196056445635335), (2533, 0.08783184696892771), (2534, 0.00744927168241969), (2535, 0.0032044397235773923), (2536, 0.0), (2537, 0.0039661425976547145), (2538, 0.013229903979771805), (2539, 0.0), (2540, 0.016534991532885155), (2541, 0.0), (2542, 0.008575264025822558), (2543, 0.02411684246052005), (2544, 0.0), (2545, 0.003012167341411759), (2546, 0.039235785350436994), (2547, 0.031370883409554566), (2548, 0.0), (2549, 0.028666017816454864), (2550, 0.05202908372939635), (2551, 0.0), (2552, 0.007006229166022643), (2553, 0.011792905303938915), (2554, 0.03703309898995063), (2555, 0.017349207154086808), (2556, 0.01724886480735513), (2557, 0.039848250585456296), (2558, 0.012367010066813849), (2559, 0.0038006589449087313), (2560, 0.039357918889155706), (2561, 0.003016307952948346), (2562, 0.0069308676060652425), (2563, 0.019191296897281804), (2564, 0.0), (2565, 0.0030669901878014614), (2566, 0.0892674347427899), (2567, 0.08365428740942432), (2568, 0.009165171293556434), (2569, 0.0028568369622712373), (2570, 0.0034028356982385584), (2571, 0.007240107018796902), (2572, 0.034774157385561964), (2573, 0.0), (2574, 0.0), (2575, 0.0), (2576, 0.06624721068835422), (2577, 0.0), (2578, 0.0), (2579, 0.020626618123685967), (2580, 0.002581928154784934), (2581, 0.005751523526333614), (2582, 0.009390984263544249), (2583, 0.0), (2584, 0.012731664123597325), (2585, 0.013765347317683996), (2586, 0.015715402781789473), (2587, 0.015057872504675624), (2588, 0.0), (2589, 0.026642195216836435), (2590, 0.0), (2591, 0.0025938380809234), (2592, 0.0032007287019323693), (2593, 0.0026674648689843424), (2594, 0.0), (2595, 0.0031358657571101166), (2596, 0.0), (2597, 0.044505939542750665), (2598, 0.0027353772456033573), (2599, 0.031601450821774346), (2600, 0.0), (2601, 0.0030152107903101354), (2602, 0.002398959972728395), (2603, 0.006293882931863214), (2604, 0.0), (2605, 0.0), (2606, 0.0029111532737020893), (2607, 0.0025915009627362692), (2608, 0.004031265873564067), (2609, 0.007993052452597318), (2610, 0.007919595465589948), (2611, 0.04289825885062491), (2612, 0.0072374276583390875), (2613, 0.0034060585113857697), (2614, 0.023337660074873527), (2615, 0.0042755143737066275), (2616, 0.02779301731838315), (2617, 0.002549033390579375), (2618, 0.0), (2619, 0.0034817089397506155), (2620, 0.014800728449021425), (2621, 0.01900076590635482), (2622, 0.05034237497563659), (2623, 0.01964041689057931), (2624, 0.003163581812587107), (2625, 0.019185670275615876), (2626, 0.01039796258305441), (2627, 0.016926426835575464), (2628, 0.0037848057314776805), (2629, 0.0032819711849829945), (2630, 0.0), (2631, 0.004370880108640712), (2632, 0.011812086527380236), (2633, 0.00786726863042726), (2634, 0.04859563304264334), (2635, 0.011101147019281376), (2636, 0.005626072177868872), (2637, 0.0049415749548097935), (2638, 0.00851448118337692), (2639, 0.0), (2640, 0.01775379741392629), (2641, 0.0), (2642, 0.007219955893953043), (2643, 0.02405802152835816), (2644, 0.0), (2645, 0.04413268797698183), (2646, 0.023493275339716912), (2647, 0.031829010886194505), (2648, 0.0), (2649, 0.03937602172834362), (2650, 0.003003862817409616), (2651, 0.00273540321266828), (2652, 0.0029228866573853853), (2653, 0.017757533476443012), (2654, 0.004194616704549788), (2655, 0.0038314677885238667), (2656, 0.011622472494815732), (2657, 0.022719887643936672), (2658, 0.0), (2659, 0.0), (2660, 0.02121348232330711), (2661, 0.013274267424967448), (2662, 0.0), (2663, 0.0), (2664, 0.003082297730158499), (2665, 0.007579762287202728), (2666, 0.031989431531615306), (2667, 0.0), (2668, 0.031819819774307805), (2669, 0.014011074999156797), (2670, 0.03229182635925458), (2671, 0.052616427979257335), (2672, 0.03900380530538545), (2673, 0.009968795121211347), (2674, 0.01712359740663774), (2675, 0.004824890753754232), (2676, 0.0), (2677, 0.0), (2678, 0.004708608377130898), (2679, 0.0027358362567458305), (2680, 0.05619207465004461), (2681, 0.0), (2682, 0.004294192428740878), (2683, 0.0), (2684, 0.0), (2685, 0.0), (2686, 0.0), (2687, 0.0028444696963672), (2688, 0.0), (2689, 0.004879025896741523), (2690, 0.02776482366534435), (2691, 0.051245721163211466), (2692, 0.0025106049309844727), (2693, 0.0), (2694, 0.003851219505098665), (2695, 0.0028947522064195486), (2696, 0.06566554260443674), (2697, 0.017781323070385244), (2698, 0.03672139275572651), (2699, 0.0), (2700, 0.0), (2701, 0.025103259300549057), (2702, 0.0033044201057529092), (2703, 0.0), (2704, 0.0), (2705, 0.0031305199423283265), (2706, 0.007124333660230267), (2707, 0.0033932632685283425), (2708, 0.0), (2709, 0.0), (2710, 0.0), (2711, 0.0), (2712, 0.008006752798740944), (2713, 0.046225682510847334), (2714, 0.04403096825844166), (2715, 0.0), (2716, 0.048183265714063825), (2717, 0.0), (2718, 0.0), (2719, 0.004884430868394169), (2720, 0.008782911893254223), (2721, 0.0025121939254736016), (2722, 0.004058729781314164), (2723, 0.029896431949387348), (2724, 0.01074884944369888), (2725, 0.13214978067479055), (2726, 0.0), (2727, 0.0), (2728, 0.002631634876569791), (2729, 0.019928333295833538), (2730, 0.017295733867357905), (2731, 0.0038808647102611333), (2732, 0.009388006937159788), (2733, 0.010524250611887805), (2734, 0.0335886758999611), (2735, 0.0026694296622950917), (2736, 0.0), (2737, 0.0), (2738, 0.008843476489848033), (2739, 0.008223787407792674), (2740, 0.008437538101034656), (2741, 0.002603190841707491), (2742, 0.017481734735160463), (2743, 0.07365406454023152), (2744, 0.0029964059706845147), (2745, 0.0029182491002863915), (2746, 0.017639958856766332), (2747, 0.002505185553897297), (2748, 0.003143921952620385), (2749, 0.0041888363615158585), (2750, 0.022212157149755295), (2751, 0.0), (2752, 0.002765277765328942), (2753, 0.0025470264916927212), (2754, 0.0), (2755, 0.007924041371290862), (2756, 0.01140530150363931), (2757, 0.004425175753457432), (2758, 0.010501813005726284), (2759, 0.0), (2760, 0.014124152537223345), (2761, 0.006448724009408253), (2762, 0.0), (2763, 0.00898982093017212), (2764, 0.004119045449639721), (2765, 0.02939570548295801), (2766, 0.03254228611215984), (2767, 0.09276429074402673), (2768, 0.004109797154394423), (2769, 0.0034125466904642056), (2770, 0.012991803477411494), (2771, 0.0024532560110437753), (2772, 0.0034248282178545087), (2773, 0.0), (2774, 0.0036778609641400666), (2775, 0.0039249629779775546), (2776, 0.023814443108352002), (2777, 0.006933969564975488), (2778, 0.014951904059314576), (2779, 0.01656169486346766), (2780, 0.0), (2781, 0.0), (2782, 0.003218365031190896), (2783, 0.002909606363686249), (2784, 0.007659525956849277), (2785, 0.0052697432191014), (2786, 0.0030961367460183636), (2787, 0.0), (2788, 0.004685750452598883), (2789, 0.0038257694323646308), (2790, 0.021147469521882244), (2791, 0.008442163373491688), (2792, 0.017976678621052237), (2793, 0.009232425862699548), (2794, 0.00980839495107085), (2795, 0.015615867719038888), (2796, 0.0033086912946249103), (2797, 0.0035387799384329916), (2798, 0.012283539165480677), (2799, 0.010603926090229615), (2800, 0.0353639677805773), (2801, 0.003948240388256323), (2802, 0.032130978903830446), (2803, 0.015788353728803436), (2804, 0.00947709378754223), (2805, 0.017588158053105256), (2806, 0.0), (2807, 0.034138785955047865), (2808, 0.04450934145884113), (2809, 0.010931076133894964), (2810, 0.0), (2811, 0.0), (2812, 0.007062317535107823), (2813, 0.004612432349221504), (2814, 0.04039252711183102), (2815, 0.0), (2816, 0.004762323192529093), (2817, 0.00490780196512404), (2818, 0.006445325708609693), (2819, 0.0), (2820, 0.0), (2821, 0.0030693053095031484), (2822, 0.03423649263865172), (2823, 0.0), (2824, 0.00923019890160485), (2825, 0.0), (2826, 0.04905864822520112), (2827, 0.0), (2828, 0.0), (2829, 0.01946187751860226), (2830, 0.0032177131702297466), (2831, 0.0028945074148362788), (2832, 0.0037942485485310995), (2833, 0.0), (2834, 0.009297041781140858), (2835, 0.014174483884032505), (2836, 0.0), (2837, 0.0), (2838, 0.0036948693873569633), (2839, 0.033550102139839756), (2840, 0.008357964720533446), (2841, 0.019844346409693528), (2842, 0.00397935999124684), (2843, 0.01052076451684183), (2844, 0.042532498479202485), (2845, 0.011381241304316168), (2846, 0.003382986570591918), (2847, 0.009354015167084404), (2848, 0.036427325737927986), (2849, 0.00305653689152276), (2850, 0.0), (2851, 0.0), (2852, 0.0), (2853, 0.0028767000336606036), (2854, 0.02554866933246306), (2855, 0.0039031215643209414), (2856, 0.0), (2857, 0.003568842230782292), (2858, 0.00409797788461252), (2859, 0.007104660132988226), (2860, 0.0), (2861, 0.003832205432124854), (2862, 0.011273224976511762), (2863, 0.0029810346193010775), (2864, 0.0), (2865, 0.0), (2866, 0.0), (2867, 0.014357597983604612), (2868, 0.03463046352315844), (2869, 0.0), (2870, 0.0039193528194274374), (2871, 0.0), (2872, 0.0033280289370230328), (2873, 0.005227549411794448), (2874, 0.004271740414707348), (2875, 0.0), (2876, 0.0024146725247728255), (2877, 0.007954000539655594), (2878, 0.022454774347508553), (2879, 0.0035210151289884702), (2880, 0.05793136954666672), (2881, 0.0032744548988562585), (2882, 0.0031417418484310155), (2883, 0.003912469284860616), (2884, 0.0033375348774930514), (2885, 0.0), (2886, 0.002758352656557468), (2887, 0.0029295261365131775), (2888, 0.018793106400822802), (2889, 0.003980015808536502), (2890, 0.003190291888374383), (2891, 0.04141609235044055), (2892, 0.007113432791831608), (2893, 0.003278665303625915), (2894, 0.002966932974709026), (2895, 0.003460664251535942), (2896, 0.0), (2897, 0.004396276535313476), (2898, 0.01575545332349976), (2899, 0.007044477225632212), (2900, 0.0074699722462360325), (2901, 0.003712021103850211), (2902, 0.002126388841699054), (2903, 0.003242268181655735), (2904, 0.003007148503341879), (2905, 0.0), (2906, 0.004052094899130765), (2907, 0.04874436397586755), (2908, 0.07959552128752491), (2909, 0.002819723598016803), (2910, 0.007332071567290539), (2911, 0.00779916189803496), (2912, 0.021031355416967403), (2913, 0.0), (2914, 0.0032697387446991885), (2915, 0.003144081985068746), (2916, 0.003238449233053683), (2917, 0.0022772636020527365), (2918, 0.024070965401307418), (2919, 0.03394581003918178), (2920, 0.131993067972903), (2921, 0.0), (2922, 0.0), (2923, 0.0038954881905216786), (2924, 0.003353027185183024), (2925, 0.002321321625670419), (2926, 0.0030236450904079677), (2927, 0.01879607677300576), (2928, 0.0), (2929, 0.004104968213276217), (2930, 0.0), (2931, 0.028082564842837193), (2932, 0.04483779040782657), (2933, 0.03200752766266935), (2934, 0.002912250094336149), (2935, 0.10526024373452701), (2936, 0.020831035248052653), (2937, 0.004151622967054671), (2938, 0.004308761384448789), (2939, 0.0), (2940, 0.008009676885390697), (2941, 0.01217536611082236), (2942, 0.006484554348597862), (2943, 0.0028807947199640726), (2944, 0.009528028236793287), (2945, 0.00283010372296356), (2946, 0.032535152193816815), (2947, 0.0), (2948, 0.0), (2949, 0.0030891663793988157), (2950, 0.0), (2951, 0.010141238175614155), (2952, 0.0), (2953, 0.003060255094109268), (2954, 0.006842477863634276), (2955, 0.0), (2956, 0.017360839409225063), (2957, 0.0035370691925093725), (2958, 0.0), (2959, 0.015220146065308748), (2960, 0.0), (2961, 0.002845848351238235), (2962, 0.008759732587870338), (2963, 0.025436186584483725), (2964, 0.018131954049436613), (2965, 0.002746415516785931), (2966, 0.003514671535268578), (2967, 0.0), (2968, 0.0), (2969, 0.01924563402983839), (2970, 0.00308169127243314), (2971, 0.0), (2972, 0.0027252257581373476), (2973, 0.009292268259761307), (2974, 0.020885024448442903), (2975, 0.010627174307394509), (2976, 0.002589939289364924), (2977, 0.107673030795816), (2978, 0.0), (2979, 0.010293144826057992), (2980, 0.018047522881120402), (2981, 0.010333310047125416), (2982, 0.06009802654656823), (2983, 0.0), (2984, 0.0), (2985, 0.03257069290719747), (2986, 0.0034198225573165565), (2987, 0.003337761263307043), (2988, 0.002981927096050652), (2989, 0.004028616014155064), (2990, 0.0), (2991, 0.0), (2992, 0.004291515191904604), (2993, 0.003487227854369815), (2994, 0.0), (2995, 0.002740122587682227), (2996, 0.03446377134109127), (2997, 0.0027327049073450457), (2998, 0.00434042323090471), (2999, 0.0028747913428576297), (3000, 0.0029601938306136745), (3001, 0.017188530414987656), (3002, 0.0), (3003, 0.03569208569173125), (3004, 0.0035610541834671288), (3005, 0.0), (3006, 0.0), (3007, 0.0030886825447878573), (3008, 0.049666277198837254), (3009, 0.02171878722083501), (3010, 0.04157844397578382), (3011, 0.004444490679826106), (3012, 0.003241455776819673), (3013, 0.05792687643350907), (3014, 0.031209429152384834), (3015, 0.003663687650137885), (3016, 0.002968067584579232), (3017, 0.0), (3018, 0.004806635702814436), (3019, 0.003365702301192357), (3020, 0.0035098711017800513), (3021, 0.008941533020657482), (3022, 0.010709057428177578), (3023, 0.0), (3024, 0.015388131354705941), (3025, 0.0), (3026, 0.08483347299184907), (3027, 0.010885082283768992), (3028, 0.05160362783201072), (3029, 0.016260882242788374), (3030, 0.003916686916147899), (3031, 0.003531737128419977), (3032, 0.0032361780301231225), (3033, 0.004600008419229081), (3034, 0.0), (3035, 0.0027523860382018908), (3036, 0.031241114359190202), (3037, 0.003051807955946763), (3038, 0.0), (3039, 0.00520828970846222), (3040, 0.004037594209309886), (3041, 0.0), (3042, 0.003917374763259333), (3043, 0.0032729402703611486), (3044, 0.10082321544554348), (3045, 0.0), (3046, 0.022759005924204066), (3047, 0.0), (3048, 0.026466312795632385), (3049, 0.0), (3050, 0.0800085080179728), (3051, 0.004124092941503378), (3052, 0.016889825846196672), (3053, 0.004416864385502144), (3054, 0.0372751163683564), (3055, 0.003934167286110454), (3056, 0.017993423659024184), (3057, 0.007029955205761594), (3058, 0.0), (3059, 0.0), (3060, 0.0), (3061, 0.0), (3062, 0.0032053452777599627), (3063, 0.0), (3064, 0.02024119781055973), (3065, 0.0024557588454526564), (3066, 0.004496837637192313), (3067, 0.0028561780148353916), (3068, 0.0), (3069, 0.012075414513837038), (3070, 0.012914868208694115), (3071, 0.0070191016142697165), (3072, 0.014371879756748657), (3073, 0.027777331042569835), (3074, 0.0035471719026939344), (3075, 0.002807933068248515), (3076, 0.0037837551024168647), (3077, 0.0), (3078, 0.0), (3079, 0.0), (3080, 0.0), (3081, 0.014552366045376483), (3082, 0.016746454053958068), (3083, 0.029190583356733954), (3084, 0.0030664215104907414), (3085, 0.0), (3086, 0.013357916640687171), (3087, 0.0), (3088, 0.0), (3089, 0.08244187353112431), (3090, 0.0), (3091, 0.02769452990126319), (3092, 0.0), (3093, 0.002845331994792597), (3094, 0.0033829255476938587), (3095, 0.003103966973732845), (3096, 0.002513220891125071), (3097, 0.0031880411938935926), (3098, 0.0), (3099, 0.0), (3100, 0.0), (3101, 0.0031941844444266093), (3102, 0.0), (3103, 0.004862907749422791), (3104, 0.0), (3105, 0.0), (3106, 0.0), (3107, 0.0), (3108, 0.04063180204218889), (3109, 0.0), (3110, 0.0), (3111, 0.04482011669462009), (3112, 0.0031089233410183056), (3113, 0.03277072390739513), (3114, 0.0), (3115, 0.0), (3116, 0.0031770653537052484), (3117, 0.0), (3118, 0.0), (3119, 0.025227895695865383), (3120, 0.020108948280411508), (3121, 0.004298378310711741), (3122, 0.011539618355417756), (3123, 0.015082729926517184), (3124, 0.0), (3125, 0.007530817359949175), (3126, 0.0), (3127, 0.004458291062723722), (3128, 0.003644512226788867), (3129, 0.007908732512597539), (3130, 0.0), (3131, 0.004924193135691977), (3132, 0.0), (3133, 0.00432616621862309), (3134, 0.0), (3135, 0.0), (3136, 0.052264430934964454), (3137, 0.040681493114979844), (3138, 0.0), (3139, 0.00409337458557547), (3140, 0.0036385469086742976), (3141, 0.01799635333565005), (3142, 0.04811249925571248), (3143, 0.0), (3144, 0.029337356193310418), (3145, 0.005979628330941831), (3146, 0.0032339332638131285), (3147, 0.00269153977557952), (3148, 0.0032734436032765685), (3149, 0.004439526770434667), (3150, 0.007840540219178876), (3151, 0.01616322189447927), (3152, 0.009439447724265417), (3153, 0.0029771654907470905), (3154, 0.003538651496880669), (3155, 0.0029109631945724705), (3156, 0.0), (3157, 0.03682789680545917), (3158, 0.0), (3159, 0.0035782767158533554), (3160, 0.0), (3161, 0.0), (3162, 0.0), (3163, 0.0), (3164, 0.0038976826338629525), (3165, 0.003320747954031565), (3166, 0.004010417199795276), (3167, 0.002589208635790719), (3168, 0.0), (3169, 0.0), (3170, 0.002750499201353888), (3171, 0.002750218508760302), (3172, 0.005359299210679567), (3173, 0.002847282102043931), (3174, 0.0074737960381302156), (3175, 0.0), (3176, 0.0), (3177, 0.0), (3178, 0.004571118819560392), (3179, 0.0), (3180, 0.010540405902451628), (3181, 0.06345327464362063), (3182, 0.0029451940312700134), (3183, 0.0031659844286812864), (3184, 0.003105337841990365), (3185, 0.0), (3186, 0.02086520439496672), (3187, 0.003042479069763242), (3188, 0.0), (3189, 0.01978224121169719), (3190, 0.0), (3191, 0.0), (3192, 0.010466442249186268), (3193, 0.01322340743884072), (3194, 0.0027289041609048974), (3195, 0.002845201347487689), (3196, 0.0032420340467793594), (3197, 0.0), (3198, 0.002986707994718009), (3199, 0.03255041304070888), (3200, 0.00636724642855651), (3201, 0.00820504582979026), (3202, 0.017081700352932893), (3203, 0.0), (3204, 0.0), (3205, 0.02758894214882055), (3206, 0.003498040583599886), (3207, 0.0), (3208, 0.028332127106447166), (3209, 0.0), (3210, 0.0029163065993623506), (3211, 0.010473311332005152), (3212, 0.007854066112008704), (3213, 0.0), (3214, 0.0027601879451709652), (3215, 0.0), (3216, 0.012305065243604155), (3217, 0.0), (3218, 0.04826355385273448), (3219, 0.003778341183553725), (3220, 0.03048722728853961), (3221, 0.015744329657594584), (3222, 0.007675015399123894), (3223, 0.02035279647549863), (3224, 0.003010080792746433), (3225, 0.002962735247932987), (3226, 0.009551398141458082), (3227, 0.002915145327347331), (3228, 0.009094281176578844), (3229, 0.019961547433902768), (3230, 0.019589357737073085), (3231, 0.004121602590354079), (3232, 0.008283474676735477), (3233, 0.03877382730034326), (3234, 0.01322206447703993), (3235, 0.003082113248151034), (3236, 0.0), (3237, 0.022721682568274046), (3238, 0.010409969427605569), (3239, 0.0036451150183342035), (3240, 0.010035422734370253), (3241, 0.034281177665016246), (3242, 0.0030354413905056953), (3243, 0.0027078723420751365), (3244, 0.013244218107315872), (3245, 0.0), (3246, 0.02205355368264461), (3247, 0.0), (3248, 0.003224416570376515), (3249, 0.0036160425158348938), (3250, 0.0), (3251, 0.0), (3252, 0.0024090957530095904), (3253, 0.0), (3254, 0.0023639626194324795), (3255, 0.019758601053513843), (3256, 0.02912482809429419), (3257, 0.003483735059778654), (3258, 0.0031438563052060883), (3259, 0.03311629270203304), (3260, 0.03379593303956022), (3261, 0.0), (3262, 0.015910634894322043), (3263, 0.0), (3264, 0.017916601591185147), (3265, 0.00948640322718996), (3266, 0.021456274515054892), (3267, 0.0026233885613561494), (3268, 0.0027594426363077127), (3269, 0.003127425075170626), (3270, 0.004572689614465579), (3271, 0.008097046883511073), (3272, 0.019163535277315163), (3273, 0.0032187600725737467), (3274, 0.0032575671686904117), (3275, 0.0033792088167053686), (3276, 0.004364360756287724), (3277, 0.004846311668578379), (3278, 0.016732503790594683), (3279, 0.0), (3280, 0.004285105018079541), (3281, 0.0), (3282, 0.0037494509465930454), (3283, 0.007632992336256398), (3284, 0.087780455036671), (3285, 0.06859314365301913), (3286, 0.0), (3287, 0.0), (3288, 0.0), (3289, 0.00296296452461988), (3290, 0.0029753406969503884), (3291, 0.016616932748799006), (3292, 0.003774206326506396), (3293, 0.035673311301558756), (3294, 0.057814885786983974), (3295, 0.08102881629958025), (3296, 0.0032883390215831623), (3297, 0.02838553937255548), (3298, 0.002792814740409822), (3299, 0.007446446321770864), (3300, 0.0027169839023938928), (3301, 0.026713055342702074), (3302, 0.003522643105315359), (3303, 0.007625976474788636), (3304, 0.011196694279731157), (3305, 0.0), (3306, 0.021090065762723365), (3307, 0.0033583982069667526), (3308, 0.003422829369481568), (3309, 0.0), (3310, 0.0), (3311, 0.006778769499281519), (3312, 0.005345843375807143), (3313, 0.01009540413040396), (3314, 0.01839996999294096), (3315, 0.028362112861454132), (3316, 0.06332031202456538), (3317, 0.04750783102884012), (3318, 0.0026057291569373357), (3319, 0.0), (3320, 0.004322871766475575), (3321, 0.004258593615309049), (3322, 0.0037209923425746165), (3323, 0.0), (3324, 0.0), (3325, 0.005165546918847048), (3326, 0.0030621486005495274), (3327, 0.019348094026448156), (3328, 0.017453768150186868), (3329, 0.0026431396065075712), (3330, 0.016910212990514095), (3331, 0.0024100655591116657), (3332, 0.0), (3333, 0.0), (3334, 0.0), (3335, 0.01249369543670696), (3336, 0.006745010707831722), (3337, 0.003335981041702754), (3338, 0.008826658261183108), (3339, 0.0), (3340, 0.024965289163809662), (3341, 0.039273652030575805), (3342, 0.0069586177101573134), (3343, 0.004597961466484825), (3344, 0.010273035286917892), (3345, 0.0459996323173689), (3346, 0.0028835001129041047), (3347, 0.0024266123021625583), (3348, 0.002797972597154782), (3349, 0.0029995502397466185), (3350, 0.0), (3351, 0.031146737235000683), (3352, 0.0027803281084634026), (3353, 0.07529724725054737), (3354, 0.003640039230394918), (3355, 0.0033262129919472117), (3356, 0.0034714421472883685), (3357, 0.0035937722550086386), (3358, 0.0035100089535236192), (3359, 0.003364675792402608), (3360, 0.058672449725231036), (3361, 0.0043569363468729866), (3362, 0.005934001385227475), (3363, 0.003605769414562232), (3364, 0.054446706101976244), (3365, 0.016363974357862878), (3366, 0.0), (3367, 0.0), (3368, 0.04809012425921221), (3369, 0.002666836831871407), (3370, 0.0028063830849793065), (3371, 0.0), (3372, 0.018220615982646956), (3373, 0.0032540897152321304), (3374, 0.016839402945179178), (3375, 0.0), (3376, 0.00639916763176136), (3377, 0.0), (3378, 0.0048028060289828966), (3379, 0.018237543612241447), (3380, 0.002566497797440645), (3381, 0.0028566627604421505), (3382, 0.0030168504062613303), (3383, 0.0), (3384, 0.023580181585661872), (3385, 0.0), (3386, 0.007593052265347542), (3387, 0.0), (3388, 0.0030461825647508526), (3389, 0.006892108624280357), (3390, 0.020694609562750304), (3391, 0.006445697396927488), (3392, 0.0019210489005898777), (3393, 0.01995721762317552), (3394, 0.0), (3395, 0.0), (3396, 0.0033348334753003435), (3397, 0.03536031138497626), (3398, 0.0), (3399, 0.021679221724473285), (3400, 0.0), (3401, 0.010042156741120582), (3402, 0.0028174002805556007), (3403, 0.010597819862568839), (3404, 0.0), (3405, 0.0), (3406, 0.013049859915611563), (3407, 0.007035145618027758), (3408, 0.003343437971573575), (3409, 0.06502903826969567), (3410, 0.03366362637092797), (3411, 0.004038103808607093), (3412, 0.0073085946898618455), (3413, 0.022102816658855107), (3414, 0.013540657596607025), (3415, 0.009915388102342175), (3416, 0.0), (3417, 0.03070221722389487), (3418, 0.019711225114654642), (3419, 0.003336520116228624), (3420, 0.012784284442439422), (3421, 0.002000219856112988), (3422, 0.0), (3423, 0.003308164995509802), (3424, 0.01512823063946497), (3425, 0.0033500019407605294), (3426, 0.0643863481299143), (3427, 0.015770145512379357), (3428, 0.0), (3429, 0.0064415290338924935), (3430, 0.006237602260954137), (3431, 0.002321707770637667), (3432, 0.0), (3433, 0.00272231947528636), (3434, 0.003075835954793195), (3435, 0.007420965962091886), (3436, 0.012444884354649912), (3437, 0.0030266907043535254), (3438, 0.02147214887239883), (3439, 0.037923871655651205), (3440, 0.011007848440597595), (3441, 0.0028674392205301795), (3442, 0.0), (3443, 0.0), (3444, 0.025960247195944242), (3445, 0.017767657978003143), (3446, 0.004726853625394247), (3447, 0.022479027975258265), (3448, 0.005583405205346089), (3449, 0.013361977267792528), (3450, 0.008703287552261655), (3451, 0.0287236917347436), (3452, 0.0026959716368170164), (3453, 0.0), (3454, 0.024176922954433123), (3455, 0.002654672289192675), (3456, 0.012573781775716074), (3457, 0.004906843914778819), (3458, 0.022067019256805445), (3459, 0.03162017757028935), (3460, 0.024665379099555546), (3461, 0.0370931557558839), (3462, 0.0), (3463, 0.03589699393214382), (3464, 0.004877958806105019), (3465, 0.004371749207469891), (3466, 0.02522841097847704), (3467, 0.030582082984077837), (3468, 0.0), (3469, 0.038970202211888696), (3470, 0.0), (3471, 0.0022987924399420338), (3472, 0.012002848506640825), (3473, 0.0), (3474, 0.0026271259264565028), (3475, 0.0), (3476, 0.0189552304053093), (3477, 0.007430828715340379), (3478, 0.02984319868430449), (3479, 0.0038611068525474302), (3480, 0.0), (3481, 0.0038736297549532843), (3482, 0.0), (3483, 0.00306115191511614), (3484, 0.0038276644408589628), (3485, 0.0), (3486, 0.0), (3487, 0.002779779917591484), (3488, 0.0), (3489, 0.0), (3490, 0.0), (3491, 0.03655248160566744), (3492, 0.04126154803525153), (3493, 0.0030260827103967864), (3494, 0.0), (3495, 0.0), (3496, 0.0031034114101720456), (3497, 0.003158924386906559), (3498, 0.011814611196550744), (3499, 0.002840264906521009), (3500, 0.01609575409581846), (3501, 0.012569313004766597), (3502, 0.005570947257154998), (3503, 0.002772362441259215), (3504, 0.02532692704707847), (3505, 0.0), (3506, 0.0033345331788271868), (3507, 0.004771282487469312), (3508, 0.0), (3509, 0.0), (3510, 0.029055835738929534), (3511, 0.0030433680358676793), (3512, 0.02821762800902318), (3513, 0.0), (3514, 0.0030182998303117724), (3515, 0.036027571247372235), (3516, 0.008150033133424568), (3517, 0.00299355588582442), (3518, 0.03733424434906378), (3519, 0.0), (3520, 0.0), (3521, 0.0035618039108501853), (3522, 0.0), (3523, 0.004144582300032046), (3524, 0.0034016393808388645), (3525, 0.012569323453280773), (3526, 0.007669085239599577), (3527, 0.017933599996881), (3528, 0.0), (3529, 0.020690043938894172), (3530, 0.0), (3531, 0.009189286404888936), (3532, 0.0), (3533, 0.0), (3534, 0.0047746596448539815), (3535, 0.018366666570640375), (3536, 0.007775509270892355), (3537, 0.0035860752729551673), (3538, 0.005975309392748585), (3539, 0.0), (3540, 0.00337211173509226), (3541, 0.002908285944128336), (3542, 0.002958114312186558), (3543, 0.08729856775030045), (3544, 0.003519313830490371), (3545, 0.0), (3546, 0.005590951197309374), (3547, 0.0), (3548, 0.01786143873054052), (3549, 0.00476001775798287), (3550, 0.0), (3551, 0.007563370168598789), (3552, 0.004702217173133875), (3553, 0.0028654290389617766), (3554, 0.0), (3555, 0.0), (3556, 0.0025850987150560075), (3557, 0.007348621723859406), (3558, 0.002669180295962793), (3559, 0.013168507955832522), (3560, 0.031321313357120746), (3561, 0.01676253600941497), (3562, 0.004433316799106004), (3563, 0.006829922530797868), (3564, 0.007522876722289807), (3565, 0.0028613267435550612), (3566, 0.01889307374687279), (3567, 0.004409728259806409), (3568, 0.004414072944279016), (3569, 0.06555558212508125), (3570, 0.0), (3571, 0.0029564067405383845), (3572, 0.0), (3573, 0.0), (3574, 0.0072764209964813545), (3575, 0.07055009212039333), (3576, 0.019520831984307995), (3577, 0.051055268987435336), (3578, 0.02538676594480705), (3579, 0.022468491914755667), (3580, 0.0), (3581, 0.0), (3582, 0.0), (3583, 0.0), (3584, 0.0), (3585, 0.0), (3586, 0.004953322287915084), (3587, 0.008441544806791434), (3588, 0.0), (3589, 0.027845707977657796), (3590, 0.0197599603790147), (3591, 0.02005988544280339), (3592, 0.0), (3593, 0.003227433099323853), (3594, 0.004584433539016943), (3595, 0.009064600402302144), (3596, 0.06992050010178473), (3597, 0.0), (3598, 0.004074347788907192), (3599, 0.007824452405520087), (3600, 0.0), (3601, 0.0030834034860705867), (3602, 0.0), (3603, 0.0), (3604, 0.031086795761849154), (3605, 0.0), (3606, 0.002947859120750747), (3607, 0.0), (3608, 0.0018831727520000627), (3609, 0.0), (3610, 0.005436039931558342), (3611, 0.0032850360451033146), (3612, 0.038930286078528345), (3613, 0.0035660858603893545), (3614, 0.002616924652945198), (3615, 0.002722600912729611), (3616, 0.009318844494827366), (3617, 0.0), (3618, 0.02438442689130988), (3619, 0.0), (3620, 0.003520575579347706), (3621, 0.003402081719724852), (3622, 0.0), (3623, 0.012755932802760555), (3624, 0.01842961340741653), (3625, 0.0), (3626, 0.005749303049381833), (3627, 0.002675082722996465), (3628, 0.0), (3629, 0.002482989714230196), (3630, 0.0), (3631, 0.009995662996390025), (3632, 0.05594622151997667), (3633, 0.00824426678165776), (3634, 0.010454865734672185), (3635, 0.003908906650727718), (3636, 0.0029794846503467445), (3637, 0.019197131615001833), (3638, 0.02115524184653722), (3639, 0.0033088763933754586), (3640, 0.029914138637615124), (3641, 0.007237357371856512), (3642, 0.0031351714297485765), (3643, 0.0076129306755723485), (3644, 0.0045220656662431835), (3645, 0.0021792125000181873), (3646, 0.00708588218923729), (3647, 0.0028445549574069254), (3648, 0.0047622357107925655), (3649, 0.0), (3650, 0.014263492922787592), (3651, 0.026316191482772113), (3652, 0.0), (3653, 0.00294717767870787), (3654, 0.0078812195637593), (3655, 0.006521653958139274), (3656, 0.011395888076052794), (3657, 0.0024398282598685436), (3658, 0.0038676125326396736), (3659, 0.020947784517062393), (3660, 0.002788070792470622), (3661, 0.0429851591984695), (3662, 0.0), (3663, 0.0), (3664, 0.0), (3665, 0.007475968768258557), (3666, 0.0030019538284280444), (3667, 0.007939752246658065), (3668, 0.006342910963924052), (3669, 0.002450145530849741), (3670, 0.002915902780942204), (3671, 0.0), (3672, 0.004108312770087489), (3673, 0.002879476565310021), (3674, 0.0038851872329971637), (3675, 0.0034464180273667284), (3676, 0.0), (3677, 0.013278025945496725), (3678, 0.0400960633471004), (3679, 0.0), (3680, 0.003269366302111717), (3681, 0.00510943034903295), (3682, 0.0), (3683, 0.0), (3684, 0.01221668853406218), (3685, 0.0), (3686, 0.0), (3687, 0.0036111201590393214), (3688, 0.0), (3689, 0.00775119008072157), (3690, 0.024182521494483855), (3691, 0.0027510973305179625), (3692, 0.0031129561695911853), (3693, 0.0), (3694, 0.003128927623845296), (3695, 0.0), (3696, 0.05787317296526223), (3697, 0.021174245954517043), (3698, 0.024878441704745013), (3699, 0.002953043950594972), (3700, 0.0), (3701, 0.007682542979735122), (3702, 0.0), (3703, 0.0), (3704, 0.0031243690369472366), (3705, 0.0026161875381345914), (3706, 0.03226407964779599), (3707, 0.0029425700322939868), (3708, 0.0), (3709, 0.004486058786336581), (3710, 0.0), (3711, 0.01721032229726342), (3712, 0.004359814103740909), (3713, 0.0038374194145096505), (3714, 0.0031601616850829546), (3715, 0.0), (3716, 0.0), (3717, 0.0), (3718, 0.04375463271404885), (3719, 0.002821959194995752), (3720, 0.004441639851952721), (3721, 0.0), (3722, 0.004732250574670729), (3723, 0.0), (3724, 0.004880283358596884), (3725, 0.01732064093424326), (3726, 0.0), (3727, 0.012260165400100782), (3728, 0.0030916541408948332), (3729, 0.00335062640106481), (3730, 0.025614281186670106), (3731, 0.10405981771426584), (3732, 0.0), (3733, 0.011776861575696344), (3734, 0.0027268913767288195), (3735, 0.0), (3736, 0.012967162245157827), (3737, 0.02469006146015465), (3738, 0.013224166133665831), (3739, 0.007576188583537753), (3740, 0.0), (3741, 0.021697929377908622), (3742, 0.1223112205607431), (3743, 0.009524680049120994), (3744, 0.0), (3745, 0.003401023145283259), (3746, 0.004530840329809864), (3747, 0.0), (3748, 0.05035571642978265), (3749, 0.04637625881710188), (3750, 0.012732687245755754), (3751, 0.03833133192301785), (3752, 0.007820296699262685), (3753, 0.0), (3754, 0.003352939858777646), (3755, 0.002555211756393161), (3756, 0.0023649341185498596), (3757, 0.0031187600017065914), (3758, 0.01855097779721322), (3759, 0.0), (3760, 0.0), (3761, 0.0), (3762, 0.0037666146232523214), (3763, 0.0034073448516519235), (3764, 0.0), (3765, 0.020953336658314926), (3766, 0.003447830191771835), (3767, 0.025790845707841802), (3768, 0.020653097294455407), (3769, 0.0), (3770, 0.03120750471250924), (3771, 0.0031315154301159265), (3772, 0.014071766453695109), (3773, 0.0), (3774, 0.0), (3775, 0.0), (3776, 0.01632415567114597), (3777, 0.024305759604199555), (3778, 0.007783962685842683), (3779, 0.0034912033155821837), (3780, 0.00800130507891047), (3781, 0.003097772998438551), (3782, 0.015486526572431023), (3783, 0.04211599939627514), (3784, 0.022086919537201957), (3785, 0.0), (3786, 0.004416173089337338), (3787, 0.0), (3788, 0.0), (3789, 0.0), (3790, 0.0), (3791, 0.033362812479926465), (3792, 0.002940193593253823), (3793, 0.00931396675165412), (3794, 0.03566781463628663), (3795, 0.016639998943283628), (3796, 0.013103527124149056), (3797, 0.0031993717700092867), (3798, 0.0), (3799, 0.03133810888138267), (3800, 0.0), (3801, 0.0025903015757761812), (3802, 0.010374061467792127), (3803, 0.004026954984615217), (3804, 0.0032251484924507726), (3805, 0.0), (3806, 0.0), (3807, 0.021995423206891407), (3808, 0.0), (3809, 0.0029622200122798627), (3810, 0.0046899924134421785), (3811, 0.002725558258035527), (3812, 0.0), (3813, 0.003154581877339202), (3814, 0.0), (3815, 0.0), (3816, 0.0), (3817, 0.01565916228258158), (3818, 0.0045643976549824775), (3819, 0.0070755611067865685), (3820, 0.0), (3821, 0.028759149147645262), (3822, 0.008414222005886249), (3823, 0.026726324980840436), (3824, 0.0), (3825, 0.022315401192657368), (3826, 0.016312606352752335), (3827, 0.002834740112114512), (3828, 0.0036564774389254272), (3829, 0.0026875293173369104), (3830, 0.0), (3831, 0.02569480027653943), (3832, 0.003529533029334991), (3833, 0.0), (3834, 0.0), (3835, 0.057776994738279935), (3836, 0.009239893457922534), (3837, 0.03812302345619192), (3838, 0.0), (3839, 0.0026667375593695877), (3840, 0.060030082418824626), (3841, 0.00672032275931615), (3842, 0.0), (3843, 0.017679337598066232), (3844, 0.0), (3845, 0.003015647592801699), (3846, 0.0), (3847, 0.0), (3848, 0.0036680159169476174), (3849, 0.0), (3850, 0.0), (3851, 0.0), (3852, 0.004010373260431069), (3853, 0.0), (3854, 0.006929874757399458), (3855, 0.006358585065747783), (3856, 0.0), (3857, 0.008323330718949667), (3858, 0.00527794310405956), (3859, 0.0), (3860, 0.017071598341151368), (3861, 0.0), (3862, 0.0030195406483167603), (3863, 0.002598015120155664), (3864, 0.0), (3865, 0.012553843393091412), (3866, 0.008638044832019104), (3867, 0.0032844006132734757), (3868, 0.007170296839226608), (3869, 0.0), (3870, 0.004811765758009406), (3871, 0.03605002411081465), (3872, 0.0), (3873, 0.0030914934210400946), (3874, 0.0035354488733802245), (3875, 0.031614052387411724), (3876, 0.0026539190973576404), (3877, 0.008343546979121633), (3878, 0.016251928055811216), (3879, 0.0), (3880, 0.0025223914925314042), (3881, 0.0), (3882, 0.0030428528859043126), (3883, 0.0032956163051534424), (3884, 0.0033638423392894756), (3885, 0.0), (3886, 0.01931616095656511), (3887, 0.0), (3888, 0.0028606790235450592), (3889, 0.0031355365166542137), (3890, 0.011702795689636888), (3891, 0.0043586423466872035), (3892, 0.0037584401306222696), (3893, 0.0031233458565088556), (3894, 0.02017541112251157), (3895, 0.028964373907701103), (3896, 0.0), (3897, 0.004879909797552565), (3898, 0.0027436320248250333), (3899, 0.008782557395566467), (3900, 0.0027801405733321317), (3901, 0.003486771175270991), (3902, 0.003008205575441998), (3903, 0.05371449853353272), (3904, 0.003092428055065014), (3905, 0.0), (3906, 0.0028445679604458085), (3907, 0.0408786715320635), (3908, 0.019076608081659167), (3909, 0.02186139722609024), (3910, 0.002538275919285171), (3911, 0.014775596992276315), (3912, 0.0), (3913, 0.051938904607947624), (3914, 0.00805776135866076), (3915, 0.0134309164445171), (3916, 0.016044074172554428), (3917, 0.007208661635155437), (3918, 0.0), (3919, 0.03939956687324964), (3920, 0.007762105601979382), (3921, 0.010607210587351795), (3922, 0.0035690930538215078), (3923, 0.027745451533938276), (3924, 0.06376069453174471), (3925, 0.027390657041093103), (3926, 0.033895586678044466), (3927, 0.04107372036462799), (3928, 0.03148286550260283), (3929, 0.0), (3930, 0.004764991951848364), (3931, 0.0), (3932, 0.005333261834455832), (3933, 0.0), (3934, 0.0), (3935, 0.025734670310184022), (3936, 0.0), (3937, 0.01426887085876055), (3938, 0.0), (3939, 0.003850727770116495), (3940, 0.0), (3941, 0.017244439817130124), (3942, 0.0), (3943, 0.0), (3944, 0.0037101260732949003), (3945, 0.00841883708010032), (3946, 0.0), (3947, 0.03378827096017083), (3948, 0.0), (3949, 0.0), (3950, 0.0), (3951, 0.02707576838791285), (3952, 0.0033155662208847864), (3953, 0.05462722549714613), (3954, 0.0027286419126789875), (3955, 0.004593104933828462), (3956, 0.0025769072946914837), (3957, 0.0061767580834990645), (3958, 0.0), (3959, 0.007761602501112618), (3960, 0.0441179787585719), (3961, 0.003191159713543846), (3962, 0.003247097408746928), (3963, 0.020161362516410066), (3964, 0.0), (3965, 0.027924099178767658), (3966, 0.004292572670941191), (3967, 0.0031960874593811284), (3968, 0.0), (3969, 0.00483521004078607), (3970, 0.008804109961833666), (3971, 0.0), (3972, 0.0), (3973, 0.019592344673837175), (3974, 0.0026022368014977787), (3975, 0.0), (3976, 0.0), (3977, 0.0), (3978, 0.028464996774078932), (3979, 0.0), (3980, 0.0036923458856220324), (3981, 0.0), (3982, 0.0), (3983, 0.005614103307107838), (3984, 0.0030405824081134137), (3985, 0.0), (3986, 0.006742609896415277), (3987, 0.0030793166356246878), (3988, 0.0), (3989, 0.0), (3990, 0.0039906687591597795), (3991, 0.014816168703576538), (3992, 0.0032681301109509344), (3993, 0.0), (3994, 0.004472778245781515), (3995, 0.02778391239660255), (3996, 0.0), (3997, 0.05287513104644062), (3998, 0.03352527989015962), (3999, 0.0035599621848461296), (4000, 0.002867752502950597), (4001, 0.03946765721784778), (4002, 0.04377070989202437), (4003, 0.0), (4004, 0.002932059763378283), (4005, 0.003089319694162704), (4006, 0.0045999056481089515), (4007, 0.03331769669919156), (4008, 0.0), (4009, 0.004252747250002086), (4010, 0.0), (4011, 0.030860252745593456), (4012, 0.004343890399754671), (4013, 0.008158741725232076), (4014, 0.0029253005269076777), (4015, 0.021590402170414903), (4016, 0.07190740562571613), (4017, 0.0300053921904256), (4018, 0.013220113121287368), (4019, 0.003747915497887539), (4020, 0.01213100086963913), (4021, 0.0), (4022, 0.0), (4023, 0.02611232816148407), (4024, 0.08882007930669898), (4025, 0.04231820387713722), (4026, 0.0), (4027, 0.0), (4028, 0.0), (4029, 0.009284644676304115), (4030, 0.0033840298837610997), (4031, 0.02784844454845225), (4032, 0.019485421378467975), (4033, 0.023326827400875147), (4034, 0.03350013391876033), (4035, 0.0), (4036, 0.04038462735249071), (4037, 0.0), (4038, 0.02459370461429996), (4039, 0.0), (4040, 0.0), (4041, 0.0), (4042, 0.013657349161227456), (4043, 0.0), (4044, 0.0), (4045, 0.0), (4046, 0.003169521217604705), (4047, 0.019604559149882093), (4048, 0.0031650921840254065), (4049, 0.0029342411050456256), (4050, 0.0), (4051, 0.0032255469630663616), (4052, 0.0030556369543335775), (4053, 0.002623440595837866), (4054, 0.019512401949035387), (4055, 0.022292739178072774), (4056, 0.0028755628439410016), (4057, 0.01694197127831274), (4058, 0.0), (4059, 0.007007953857733588), (4060, 0.0028724435162224425), (4061, 0.010054828535470794), (4062, 0.009076543012529487), (4063, 0.0), (4064, 0.0051058612153618635), (4065, 0.0), (4066, 0.0025390138613611297), (4067, 0.013913881842229053), (4068, 0.03829018273486549), (4069, 0.08933981969501117), (4070, 0.009206927910348378), (4071, 0.0), (4072, 0.0), (4073, 0.0), (4074, 0.006743896048497823), (4075, 0.003373543129618633), (4076, 0.020534018122769844), (4077, 0.04233481471671908), (4078, 0.037525936110533904), (4079, 0.0029971302035464607), (4080, 0.016499607388239128), (4081, 0.002907187864381911), (4082, 0.03068337522483799), (4083, 0.012909602252431504), (4084, 0.0), (4085, 0.002751756921987397), (4086, 0.0), (4087, 0.023741221374174754), (4088, 0.0), (4089, 0.0030103673518491487), (4090, 0.0), (4091, 0.03467150721575047), (4092, 0.013993427268017243), (4093, 0.0), (4094, 0.0), (4095, 0.002453625372168929), (4096, 0.0), (4097, 0.0), (4098, 0.0029635936490652374), (4099, 0.0046014011390691405), (4100, 0.01510263427276382), (4101, 0.00315558053686258), (4102, 0.0036709237163925143), (4103, 0.0), (4104, 0.0025627146563363544), (4105, 0.0), (4106, 0.008241329167032675), (4107, 0.003570003947121341), (4108, 0.005150121601679843), (4109, 0.004164573087940474), (4110, 0.008169772680382426), (4111, 0.00309507014273489), (4112, 0.004492585150098832), (4113, 0.031184466640570733), (4114, 0.0), (4115, 0.012783502243218375), (4116, 0.0031520492123468385), (4117, 0.0033003509265381), (4118, 0.04248948791557949), (4119, 0.020761174099681735), (4120, 0.005130385481690334), (4121, 0.01601050719168217), (4122, 0.0), (4123, 0.0030527195638798224), (4124, 0.02527736518821103), (4125, 0.0), (4126, 0.0033643026435335255), (4127, 0.032715336858019486), (4128, 0.0), (4129, 0.002798465096895117), (4130, 0.03452281213559819), (4131, 0.0), (4132, 0.003112037655760837), (4133, 0.0031525164743675445), (4134, 0.0), (4135, 0.02333075701830594), (4136, 0.023964525728907733), (4137, 0.05389085735626426), (4138, 0.0032046726934867606), (4139, 0.0027918908613680732), (4140, 0.01351062335934057), (4141, 0.0025778006918574484), (4142, 0.003696391418706975), (4143, 0.18933612180874942), (4144, 0.0), (4145, 0.05185913395430963), (4146, 0.0), (4147, 0.0035203933451633555), (4148, 0.0), (4149, 0.0), (4150, 0.0), (4151, 0.0049674540192451615), (4152, 0.03595921379744231), (4153, 0.0), (4154, 0.0026125125809509002), (4155, 0.0071591504502064585), (4156, 0.00656890302752133), (4157, 0.004510326840661854), (4158, 0.003951942118117117), (4159, 0.0), (4160, 0.0032415650811793415), (4161, 0.003110344134085507), (4162, 0.05716616061114545), (4163, 0.0033519918359095797), (4164, 0.0), (4165, 0.0), (4166, 0.0), (4167, 0.0), (4168, 0.03088266617148265), (4169, 0.0030797302693337542), (4170, 0.0), (4171, 0.016399616506304563), (4172, 0.0038221941456476304), (4173, 0.0), (4174, 0.006897438067646859), (4175, 0.0030785768023374183), (4176, 0.0346563660673009), (4177, 0.0), (4178, 0.003035801683873831), (4179, 0.0), (4180, 0.0), (4181, 0.0), (4182, 0.002193494347256787), (4183, 0.011993222515373195), (4184, 0.0), (4185, 0.0), (4186, 0.008672633109985345), (4187, 0.0032805200205147547), (4188, 0.05818352148885755), (4189, 0.007665322209785918), (4190, 0.0), (4191, 0.05304283171569171), (4192, 0.011713664652202646), (4193, 0.0), (4194, 0.0056373432825318785), (4195, 0.0), (4196, 0.0), (4197, 0.0029474044315294583), (4198, 0.0), (4199, 0.0), (4200, 0.002390400326572833), (4201, 0.016486739720229487), (4202, 0.00404270328306813), (4203, 0.008686413320758469), (4204, 0.0), (4205, 0.014915578177359674), (4206, 0.0027462924757744346), (4207, 0.0), (4208, 0.0), (4209, 0.0035428036931780416), (4210, 0.0046684577751156435), (4211, 0.0), (4212, 0.0), (4213, 0.0027492039512027285), (4214, 0.0), (4215, 0.0), (4216, 0.0), (4217, 0.004445445486932663), (4218, 0.05403791739493978), (4219, 0.02470854328015823), (4220, 0.0025505344167457834), (4221, 0.003865513036374372), (4222, 0.0038774946484264263), (4223, 0.0), (4224, 0.009265597555056498), (4225, 0.0030349616246811307), (4226, 0.005031761334117141), (4227, 0.0), (4228, 0.03266136450145943), (4229, 0.0), (4230, 0.003704495107786498), (4231, 0.003084123573723825), (4232, 0.002513482266210272), (4233, 0.0), (4234, 0.0), (4235, 0.0), (4236, 0.0), (4237, 0.0), (4238, 0.0), (4239, 0.0), (4240, 0.005024480365832299), (4241, 0.053397169218333165), (4242, 0.009309751374889076), (4243, 0.0032913884760480466), (4244, 0.0033121993796964505), (4245, 0.00310632241640358), (4246, 0.032109388644872276), (4247, 0.01634972655620484), (4248, 0.009418090934626516), (4249, 0.002983100542482446), (4250, 0.0), (4251, 0.015902124625585143), (4252, 0.0044283267417398785), (4253, 0.0), (4254, 0.0027146884574501136), (4255, 0.05172729688193894), (4256, 0.0), (4257, 0.03230442253781273), (4258, 0.0), (4259, 0.0032114403917994504), (4260, 0.02031456886529922), (4261, 0.0), (4262, 0.007780019183374982), (4263, 0.013619350898058945), (4264, 0.0), (4265, 0.019768672628000583), (4266, 0.012477526007709534), (4267, 0.013889960927453579), (4268, 0.0028795090311608553), (4269, 0.008038108615571487), (4270, 0.017930597334298446), (4271, 0.0056951816934175245), (4272, 0.04672913114855813), (4273, 0.0982421845799155), (4274, 0.0), (4275, 0.0), (4276, 0.0), (4277, 0.0026481967915644752), (4278, 0.009393412731411964), (4279, 0.004401388440514398), (4280, 0.003426447818571193), (4281, 0.0053195598268169116), (4282, 0.11116075680240978), (4283, 0.0707187501627341), (4284, 0.007352815132971401), (4285, 0.0), (4286, 0.003056766880370069), (4287, 0.019011400652111685), (4288, 0.005882957964543815), (4289, 0.0), (4290, 0.008308205210054256), (4291, 0.0), (4292, 0.004336490701579568), (4293, 0.0032262105953465322), (4294, 0.019685211532713527), (4295, 0.02524531824020131), (4296, 0.002518345777783768), (4297, 0.008435426138436338), (4298, 0.003546948198051035), (4299, 0.02158535616037478), (4300, 0.0), (4301, 0.002145033519641956), (4302, 0.0), (4303, 0.015086543398576622), (4304, 0.002594862407083733), (4305, 0.0), (4306, 0.0035744354236527374), (4307, 0.0), (4308, 0.0031705947620811474), (4309, 0.0028218829291678086), (4310, 0.015526373728082299), (4311, 0.0023489323307591455), (4312, 0.009889969839066206), (4313, 0.04657968613316971), (4314, 0.0), (4315, 0.0), (4316, 0.0), (4317, 0.0), (4318, 0.0030550818098735253), (4319, 0.0), (4320, 0.002883843318422295), (4321, 0.011772385790233831), (4322, 0.02627280850059838), (4323, 0.0), (4324, 0.0), (4325, 0.0), (4326, 0.0026507002550654486), (4327, 0.0), (4328, 0.008599429181252907), (4329, 0.0), (4330, 0.016977461085077472), (4331, 0.0), (4332, 0.03083882197590279), (4333, 0.003253304009112886), (4334, 0.0029881927285156634), (4335, 0.0), (4336, 0.11606166521687887), (4337, 0.017222218397331422), (4338, 0.005027191566801897), (4339, 0.004204331346096165), (4340, 0.002990223516876623), (4341, 0.0), (4342, 0.021591944969122256), (4343, 0.0025573013113079613), (4344, 0.026435391459664878), (4345, 0.11397458455093472), (4346, 0.0), (4347, 0.05246146924588966), (4348, 0.08454115734349753), (4349, 0.0028429359317520336), (4350, 0.0026059509196553403), (4351, 0.004935831810787462), (4352, 0.0), (4353, 0.003997041189461637), (4354, 0.0030244886031546734), (4355, 0.0030800868381820118), (4356, 0.0026888282426936238), (4357, 0.003081888464465463), (4358, 0.0), (4359, 0.0026395661339546836), (4360, 0.0), (4361, 0.02259745271399354), (4362, 0.0028309160787308623), (4363, 0.007848666659377118), (4364, 0.0), (4365, 0.051578576981052664), (4366, 0.0), (4367, 0.0), (4368, 0.00843389667421262), (4369, 0.003326248634079188), (4370, 0.0), (4371, 0.0031003725607726407), (4372, 0.0), (4373, 0.0034647964885996915), (4374, 0.011482387454021734), (4375, 0.009619726795731288), (4376, 0.014432240441217803), (4377, 0.0), (4378, 0.0), (4379, 0.00776429229546296), (4380, 0.0), (4381, 0.0028028915359332328), (4382, 0.0027956746067191187), (4383, 0.0), (4384, 0.0), (4385, 0.0), (4386, 0.0024935228734561596), (4387, 0.007307013672892819), (4388, 0.004733153782932227), (4389, 0.0), (4390, 0.015023946900315641), (4391, 0.002921826101362782), (4392, 0.0), (4393, 0.0), (4394, 0.007436196448046826), (4395, 0.007290304469358463), (4396, 0.0032346813264349187), (4397, 0.003217678207379436), (4398, 0.025550182444625043), (4399, 0.011431988729025804), (4400, 0.02371335244856651), (4401, 0.0032302314789418615), (4402, 0.006929285751910427), (4403, 0.0036850374168150785), (4404, 0.0), (4405, 0.014096572595015058), (4406, 0.004868378088427976), (4407, 0.003781745089400563), (4408, 0.0), (4409, 0.0028740823912492054), (4410, 0.0), (4411, 0.002476883511813553), (4412, 0.0033867825975605003), (4413, 0.0), (4414, 0.01066849945561432), (4415, 0.0), (4416, 0.0034032085280939384), (4417, 0.0), (4418, 0.003797160325274104), (4419, 0.003014064521745181), (4420, 0.023315360822917373), (4421, 0.0), (4422, 0.002987744132881452), (4423, 0.02831992401023795), (4424, 0.0), (4425, 0.0), (4426, 0.0), (4427, 0.002887940757015012), (4428, 0.016111991805595256), (4429, 0.01615134564139402), (4430, 0.003027048455464084), (4431, 0.012936388977098374), (4432, 0.0025305776664605044), (4433, 0.0), (4434, 0.0), (4435, 0.002904978649012834), (4436, 0.004963073193760949), (4437, 0.0), (4438, 0.004412622490309896), (4439, 0.04101572788297388), (4440, 0.012116173396942603), (4441, 0.031629890707255054), (4442, 0.00726868065716623), (4443, 0.0035417663167585), (4444, 0.009816468846671474), (4445, 0.07481627018671413), (4446, 0.08093298175038556), (4447, 0.0), (4448, 0.1000935253959404), (4449, 0.005400456706030821), (4450, 0.004080009027904543), (4451, 0.0), (4452, 0.0), (4453, 0.0), (4454, 0.005309956773532221), (4455, 0.0), (4456, 0.0), (4457, 0.0), (4458, 0.0034481878886068753), (4459, 0.008855784944298648), (4460, 0.005217199955258135), (4461, 0.0027833105429346393), (4462, 0.005201299239845411), (4463, 0.0), (4464, 0.012046423029560624), (4465, 0.003313515181695493), (4466, 0.0), (4467, 0.035945362220511555), (4468, 0.0), (4469, 0.022991924865742117), (4470, 0.059411470259495135), (4471, 0.0030659100510263813), (4472, 0.007243901590955776), (4473, 0.006526612646481514), (4474, 0.003044185751023038), (4475, 0.0025998944290697625), (4476, 0.015746491948791155), (4477, 0.008754904370875647), (4478, 0.0), (4479, 0.1435969871675139), (4480, 0.0), (4481, 0.033248301481537054), (4482, 0.034514079942574064), (4483, 0.0), (4484, 0.03716665513523117), (4485, 0.0), (4486, 0.030667868808126032), (4487, 0.002848429380548945), (4488, 0.0), (4489, 0.003066372469363417), (4490, 0.0034287257871797173), (4491, 0.0), (4492, 0.015121746686505018), (4493, 0.031315419914850054), (4494, 0.003266195303121217), (4495, 0.0030967834081987535), (4496, 0.0), (4497, 0.003026933859963331), (4498, 0.0), (4499, 0.0), (4500, 0.0), (4501, 0.01752793906148507), (4502, 0.0026406009782756613), (4503, 0.007557716901912471), (4504, 0.05153969571998118), (4505, 0.0030603118901637335), (4506, 0.0), (4507, 0.0033208511587835337), (4508, 0.0), (4509, 0.03347569481537272), (4510, 0.0), (4511, 0.007453419535334609), (4512, 0.0), (4513, 0.027975191585097234), (4514, 0.0), (4515, 0.005121639847874917), (4516, 0.07046431993607816), (4517, 0.002908673990649067), (4518, 0.0), (4519, 0.0), (4520, 0.018414771500317468), (4521, 0.041264836910862676), (4522, 0.003150741579141782), (4523, 0.00716862790516227), (4524, 0.00549245211198618), (4525, 0.0), (4526, 0.0), (4527, 0.0), (4528, 0.018841087155457313), (4529, 0.024673116163979616), (4530, 0.0028275595338376125), (4531, 0.01880455220470776), (4532, 0.0), (4533, 0.08256114783567393), (4534, 0.0), (4535, 0.0032360167406919925), (4536, 0.002762218477288294), (4537, 0.0), (4538, 0.0), (4539, 0.0), (4540, 0.003106577671562928), (4541, 0.05683867078334775), (4542, 0.01861568209695315), (4543, 0.0), (4544, 0.0036067058251009884), (4545, 0.013381274980749796), (4546, 0.003737158417037373), (4547, 0.0), (4548, 0.004314512907701863), (4549, 0.015615891351094025), (4550, 0.007264789742961293), (4551, 0.013387024458977513), (4552, 0.0), (4553, 0.0), (4554, 0.014698715123844667), (4555, 0.004357436201029409), (4556, 0.0), (4557, 0.0), (4558, 0.016497683040715985), (4559, 0.016100322066398765), (4560, 0.0), (4561, 0.0), (4562, 0.0), (4563, 0.019074989492211567), (4564, 0.004431680211438656), (4565, 0.0), (4566, 0.038698165507402765), (4567, 0.00276322291124811), (4568, 0.008604041132051874), (4569, 0.025300327306850175), (4570, 0.04151694908655863), (4571, 0.004594160093778316), (4572, 0.003548332056607547), (4573, 0.0028027617146545655), (4574, 0.0132398785767976), (4575, 0.00305907505526749), (4576, 0.06916321245443272), (4577, 0.008699016479580301), (4578, 0.0), (4579, 0.003116337178004437), (4580, 0.0), (4581, 0.0), (4582, 0.0), (4583, 0.0), (4584, 0.003399009596649629), (4585, 0.0), (4586, 0.015054826420647486), (4587, 0.0), (4588, 0.0), (4589, 0.025247511095227455), (4590, 0.04220816767149914), (4591, 0.03517666284224262), (4592, 0.004588364244794315), (4593, 0.003214907784071182), (4594, 0.044393699012534656), (4595, 0.0), (4596, 0.008113228514500668), (4597, 0.0), (4598, 0.0022682196241407275), (4599, 0.02173515651049897), (4600, 0.03184572532309783), (4601, 0.0031645314478171865), (4602, 0.0031721035313634328), (4603, 0.002696896123780321), (4604, 0.007534280264737672), (4605, 0.0032114781618282295), (4606, 0.003660233752504899), (4607, 0.0315399415938205), (4608, 0.010973092658732999), (4609, 0.02943958272004197), (4610, 0.002426478032666811), (4611, 0.003853704469745843), (4612, 0.04043286204254027), (4613, 0.0048723817531061055), (4614, 0.0027615962754471714), (4615, 0.0), (4616, 0.0026707460201583627), (4617, 0.003954232928706379), (4618, 0.0), (4619, 0.003189945164642474), (4620, 0.0026416343360040175), (4621, 0.004809589429390831), (4622, 0.0), (4623, 0.0), (4624, 0.03909386758929108), (4625, 0.003001956284074744), (4626, 0.002337499887141461), (4627, 0.0024808259437031272), (4628, 0.0), (4629, 0.054371456113671585), (4630, 0.0), (4631, 0.0), (4632, 0.003408545548006181), (4633, 0.003397779539011722), (4634, 0.006992545222585024), (4635, 0.04945776834506069), (4636, 0.01568704229604447), (4637, 0.003430681964217968), (4638, 0.00263734402323795), (4639, 0.0), (4640, 0.018636390059878834), (4641, 0.0028243409082031002), (4642, 0.0), (4643, 0.0029739652092268553), (4644, 0.0), (4645, 0.0), (4646, 0.005868336862135113), (4647, 0.004161962933618629), (4648, 0.019877422451317024), (4649, 0.006882011495011877), (4650, 0.02503101019527455), (4651, 0.0), (4652, 0.009245933863880633), (4653, 0.023020788822912426), (4654, 0.0), (4655, 0.0), (4656, 0.0), (4657, 0.013298999545214879), (4658, 0.03584170035708092), (4659, 0.015190539735796073), (4660, 0.0092407717536052), (4661, 0.002562790036476214), (4662, 0.0), (4663, 0.0), (4664, 0.0), (4665, 0.0), (4666, 0.0), (4667, 0.03594814505211487), (4668, 0.002848788721195489), (4669, 0.0031488883591685507), (4670, 0.002769474796027221), (4671, 0.0), (4672, 0.0), (4673, 0.01197644994541653), (4674, 0.009715467611199704), (4675, 0.009438575507129392), (4676, 0.015693154001477447), (4677, 0.022073931783407875), (4678, 0.01924428578503868), (4679, 0.018963989625152375), (4680, 0.003091239965727326), (4681, 0.0), (4682, 0.06549695483596485), (4683, 0.0), (4684, 0.0), (4685, 0.007357239325799178), (4686, 0.007539489152440338), (4687, 0.007327417903329892), (4688, 0.0), (4689, 0.004199805947768117), (4690, 0.0), (4691, 0.0), (4692, 0.0036089866851556716), (4693, 0.002808415522007571), (4694, 0.003397059581866724), (4695, 0.004850630842009299), (4696, 0.003787690691200884), (4697, 0.0), (4698, 0.0), (4699, 0.0032620727869513964), (4700, 0.0), (4701, 0.021931972955667865), (4702, 0.0), (4703, 0.0), (4704, 0.0039497140773369875), (4705, 0.004133646036455299), (4706, 0.0032120772010726046), (4707, 0.0), (4708, 0.0), (4709, 0.0), (4710, 0.015630130981690214), (4711, 0.0), (4712, 0.0026044913466579914), (4713, 0.021533933780438122), (4714, 0.0), (4715, 0.0028986445653763878), (4716, 0.030303345311026377), (4717, 0.021728592007432698), (4718, 0.0032425576493632616), (4719, 0.005599585263890637), (4720, 0.0), (4721, 0.0), (4722, 0.003134351373363449), (4723, 0.022744043806704098), (4724, 0.0035639823775449457), (4725, 0.0), (4726, 0.0), (4727, 0.0), (4728, 0.0), (4729, 0.0027771367500851922), (4730, 0.0), (4731, 0.0032734314953042007), (4732, 0.008173541190750084), (4733, 0.0396481919059863), (4734, 0.0031244800098461306), (4735, 0.0034212318269824507), (4736, 0.0), (4737, 0.0), (4738, 0.0), (4739, 0.005895732592531877), (4740, 0.0), (4741, 0.0), (4742, 0.0), (4743, 0.0028209880632349728), (4744, 0.0023437519141004982), (4745, 0.0), (4746, 0.0), (4747, 0.0), (4748, 0.006490136793197212), (4749, 0.003880074221631378), (4750, 0.0), (4751, 0.0), (4752, 0.04501806609363788), (4753, 0.0032967521127322255), (4754, 0.0), (4755, 0.004630540105048704), (4756, 0.0030009423279103928), (4757, 0.0030361675978686675), (4758, 0.0), (4759, 0.0)]\n"
          ]
        }
      ]
    },
    {
      "cell_type": "code",
      "source": [
        "len(Recommendation_Score)"
      ],
      "metadata": {
        "colab": {
          "base_uri": "https://localhost:8080/"
        },
        "id": "YMFEzO6YhLbK",
        "outputId": "3846385e-c2df-4678-8b76-416de6ef531d"
      },
      "execution_count": 70,
      "outputs": [
        {
          "output_type": "execute_result",
          "data": {
            "text/plain": [
              "4760"
            ]
          },
          "metadata": {},
          "execution_count": 70
        }
      ]
    },
    {
      "cell_type": "markdown",
      "source": [
        "# **Get All Movies Sort Based on Recommendation Score wrt Favourite Movie**"
      ],
      "metadata": {
        "id": "PgLXqagpAfHW"
      }
    },
    {
      "cell_type": "code",
      "source": [
        "Sorted_Similar_Movies=sorted(Recommendation_Score,key=lambda x:x[1],reverse=True)\n",
        "print(Sorted_Similar_Movies)"
      ],
      "metadata": {
        "colab": {
          "base_uri": "https://localhost:8080/"
        },
        "id": "eM-mt6laAiAJ",
        "outputId": "88cdfc8d-2eab-4ecd-a154-ca05ee14191a"
      },
      "execution_count": 71,
      "outputs": [
        {
          "output_type": "stream",
          "name": "stdout",
          "text": [
            "[(348, 1.0000000000000002), (934, 0.2308538803727682), (4143, 0.18933612180874942), (1241, 0.1809875085588574), (184, 0.17638933361183268), (1131, 0.15999147392172172), (387, 0.14611596726892584), (4479, 0.1435969871675139), (372, 0.13734520376244974), (1730, 0.1341177988048019), (2430, 0.13361550473082068), (2725, 0.13214978067479055), (2920, 0.131993067972903), (1946, 0.1286544318234798), (852, 0.12703855954824872), (494, 0.1269426105868352), (302, 0.12632828732643214), (1656, 0.12239047474878872), (911, 0.12238445426196431), (3742, 0.1223112205607431), (2083, 0.12184217398183013), (657, 0.12095331977427747), (1896, 0.11834371511732862), (4336, 0.11606166521687887), (1974, 0.11548002659248391), (2294, 0.11454962939994544), (4345, 0.11397458455093472), (2134, 0.1126547645685942), (815, 0.11247907657889152), (1570, 0.11247890413931969), (4282, 0.11116075680240978), (2977, 0.107673030795816), (2935, 0.10526024373452701), (3731, 0.10405981771426584), (2037, 0.10384765658833338), (1160, 0.10151553924888836), (1658, 0.10101676847210278), (1886, 0.100994561620373), (3044, 0.10082321544554348), (4448, 0.1000935253959404), (403, 0.09845412979042996), (4273, 0.0982421845799155), (936, 0.09823948014223645), (178, 0.09598266105667953), (607, 0.0945409938386001), (1483, 0.09433021218626268), (384, 0.09375424702154245), (2767, 0.09276429074402673), (2520, 0.09271511166328111), (2142, 0.09215330159262418), (1500, 0.09198866418938596), (120, 0.09101282026096333), (2493, 0.09055202587359443), (800, 0.09052665865666713), (183, 0.09052223383447344), (1792, 0.09023425460263407), (4069, 0.08933981969501117), (2566, 0.0892674347427899), (4024, 0.08882007930669898), (823, 0.08850488648756229), (2533, 0.08783184696892771), (3284, 0.087780455036671), (419, 0.08752621738948624), (3543, 0.08729856775030045), (1418, 0.08641126017832704), (1808, 0.0860816823960302), (2011, 0.0849512092638285), (3026, 0.08483347299184907), (4348, 0.08454115734349753), (749, 0.08389481313328072), (2567, 0.08365428740942432), (1685, 0.083598400159567), (1341, 0.08258229818660509), (4533, 0.08256114783567393), (626, 0.0824496526800607), (3089, 0.08244187353112431), (1257, 0.08237588216572922), (2099, 0.08230610126746998), (804, 0.08206470929728982), (1215, 0.08203914970080879), (591, 0.08114833157392559), (3295, 0.08102881629958025), (4446, 0.08093298175038556), (3050, 0.0800085080179728), (987, 0.07964118537947992), (2908, 0.07959552128752491), (452, 0.07911993951693802), (1915, 0.07902678954210716), (2382, 0.07815962895287983), (2306, 0.07774569002220563), (195, 0.077270350516116), (1200, 0.0767474539509214), (374, 0.07667449597152297), (1044, 0.07646972893520838), (97, 0.07607412890851373), (407, 0.0759357488498491), (572, 0.07575105070891922), (1273, 0.07567628257418565), (269, 0.0756165018448228), (1111, 0.07535467347603024), (3353, 0.07529724725054737), (783, 0.07529534967403645), (4445, 0.07481627018671413), (410, 0.0747553965687427), (2743, 0.07365406454023152), (1398, 0.0732261672404682), (2132, 0.07295631639809173), (4016, 0.07190740562571613), (1058, 0.07177468833833865), (1060, 0.07092852601175283), (4283, 0.0707187501627341), (3575, 0.07055009212039333), (4516, 0.07046431993607816), (1924, 0.0702026942056646), (220, 0.07015021817588796), (3596, 0.06992050010178473), (1179, 0.0698061218367487), (150, 0.06974803919747281), (428, 0.06936674244943747), (259, 0.06919891661458019), (4576, 0.06916321245443272), (1216, 0.06903798607567325), (151, 0.06884830875638384), (3285, 0.06859314365301913), (1034, 0.06851332246745782), (571, 0.06807566294064446), (330, 0.06748850813818873), (91, 0.06701180082284826), (2576, 0.06624721068835422), (37, 0.066007916085901), (2696, 0.06566554260443674), (3569, 0.06555558212508125), (4682, 0.06549695483596485), (3409, 0.06502903826969567), (1056, 0.06455950180102409), (3426, 0.0643863481299143), (343, 0.06384198486226397), (3924, 0.06376069453174471), (1265, 0.06364428823901457), (1346, 0.06352191716702363), (469, 0.06349457533165373), (3181, 0.06345327464362063), (1969, 0.0633722096186838), (31, 0.0633383789460176), (3316, 0.06332031202456538), (892, 0.06308316279237684), (2126, 0.06218899966223761), (1872, 0.06215143158366662), (1087, 0.06213917015822252), (2486, 0.06167527371141894), (1935, 0.06142788011568419), (2482, 0.06136861456432671), (1850, 0.061301191420742265), (353, 0.06128451776322479), (1061, 0.061247615146058046), (527, 0.06078698872236255), (2982, 0.06009802654656823), (3840, 0.060030082418824626), (4470, 0.059411470259495135), (87, 0.059320273092405985), (39, 0.05886211682250396), (3360, 0.058672449725231036), (102, 0.05858882212955502), (4188, 0.05818352148885755), (1798, 0.05799862693754664), (2880, 0.05793136954666672), (3013, 0.05792687643350907), (3696, 0.05787317296526223), (3294, 0.057814885786983974), (3835, 0.057776994738279935), (2277, 0.057689028757345315), (858, 0.057561247616199594), (4162, 0.05716616061114545), (4541, 0.05683867078334775), (1306, 0.05629478177923121), (2680, 0.05619207465004461), (747, 0.05608991306172185), (2193, 0.05606667399323801), (3632, 0.05594622151997667), (228, 0.05582766037984237), (152, 0.055753178086687755), (1748, 0.05563348539205924), (26, 0.05527090857608063), (1767, 0.054638280265274036), (3953, 0.05462722549714613), (3364, 0.054446706101976244), (4629, 0.054371456113671585), (1760, 0.0541845894144689), (4218, 0.05403791739493978), (2509, 0.05398548681787643), (4137, 0.05389085735626426), (3903, 0.05371449853353272), (1366, 0.053561347492426165), (4241, 0.053397169218333165), (4191, 0.05304283171569171), (2291, 0.05287736150884762), (3997, 0.05287513104644062), (857, 0.05282946520346688), (2671, 0.052616427979257335), (4347, 0.05246146924588966), (3136, 0.052264430934964454), (2550, 0.05202908372939635), (3913, 0.051938904607947624), (4145, 0.05185913395430963), (4255, 0.05172729688193894), (887, 0.05169743437257882), (3028, 0.05160362783201072), (4365, 0.051578576981052664), (4504, 0.05153969571998118), (2691, 0.051245721163211466), (3577, 0.051055268987435336), (3748, 0.05035571642978265), (2622, 0.05034237497563659), (690, 0.05025951557700175), (1399, 0.04997417155432355), (2000, 0.04988993426956687), (1620, 0.04978318290709337), (3008, 0.049666277198837254), (613, 0.049588695170688035), (1547, 0.049539043635261557), (630, 0.04953542318829919), (4635, 0.04945776834506069), (35, 0.04934570347514729), (544, 0.04931674881967721), (590, 0.04921748097892212), (1764, 0.04916813233151328), (2826, 0.04905864822520112), (1288, 0.04890246771541472), (1478, 0.04879780782385902), (2907, 0.04874436397586755), (2634, 0.04859563304264334), (1743, 0.048367189161256284), (3218, 0.04826355385273448), (212, 0.048193977679943927), (2716, 0.048183265714063825), (266, 0.04817102640694916), (3142, 0.04811249925571248), (467, 0.04810233469768932), (3368, 0.04809012425921221), (722, 0.047982701976266175), (3317, 0.04750783102884012), (1932, 0.04746094462037572), (2474, 0.047297722653440136), (2334, 0.04727875422012075), (1880, 0.04724627494651993), (1822, 0.0472328761658287), (945, 0.04703916193191363), (441, 0.046873855059619995), (377, 0.046729916272880985), (4272, 0.04672913114855813), (2179, 0.04665824407847326), (4313, 0.04657968613316971), (386, 0.046468777909587075), (3749, 0.04637625881710188), (2713, 0.046225682510847334), (3345, 0.0459996323173689), (2354, 0.04552001409271444), (1707, 0.045192087032641944), (4752, 0.04501806609363788), (74, 0.04497962885794027), (1925, 0.04492746933820891), (2487, 0.04486854643570415), (2932, 0.04483779040782657), (3111, 0.04482011669462009), (1751, 0.044793226827578955), (2312, 0.04466141033409696), (1539, 0.044653324091979425), (483, 0.044582199456946574), (609, 0.04451198529658021), (2808, 0.04450934145884113), (1908, 0.044508195052767506), (2597, 0.044505939542750665), (970, 0.044500328106559774), (1715, 0.04448262795487569), (4594, 0.044393699012534656), (2645, 0.04413268797698183), (3960, 0.0441179787585719), (2714, 0.04403096825844166), (4002, 0.04377070989202437), (3718, 0.04375463271404885), (2338, 0.043700722433179746), (101, 0.04368718663399945), (1137, 0.04322521995119821), (296, 0.04318921394002103), (2529, 0.04309799516804505), (2336, 0.043049779346490576), (2490, 0.043013322842512115), (3661, 0.0429851591984695), (870, 0.042945731884357845), (2611, 0.04289825885062491), (1373, 0.042891523753669045), (1802, 0.04285016344936454), (216, 0.04283004501724243), (773, 0.042828639691739015), (2269, 0.04260587251886192), (2844, 0.042532498479202485), (4118, 0.04248948791557949), (1349, 0.042435982760541405), (448, 0.042398248447088976), (4077, 0.04233481471671908), (4025, 0.04231820387713722), (2026, 0.04227562424749657), (4590, 0.04220816767149914), (3783, 0.04211599939627514), (867, 0.04194625730161276), (368, 0.041770263251525816), (1887, 0.04162653209601753), (3010, 0.04157844397578382), (468, 0.04157260864236584), (48, 0.04152861974418884), (4570, 0.04151694908655863), (119, 0.04149278892641532), (930, 0.041446407845378966), (371, 0.041443401845817296), (2891, 0.04141609235044055), (1775, 0.041365369935297644), (2035, 0.04133949350573413), (736, 0.04130385950765423), (4521, 0.041264836910862676), (3492, 0.04126154803525153), (3, 0.04122590225297962), (3927, 0.04107372036462799), (4439, 0.04101572788297388), (1248, 0.04089255127062489), (3907, 0.0408786715320635), (75, 0.040825282362474714), (491, 0.04068190957998066), (3137, 0.040681493114979844), (3108, 0.04063180204218889), (4612, 0.04043286204254027), (2814, 0.04039252711183102), (4036, 0.04038462735249071), (566, 0.04020342754192517), (3678, 0.0400960633471004), (792, 0.040062614393825295), (2012, 0.040019267543882416), (496, 0.04001329347467175), (1431, 0.03999852750022346), (130, 0.039948464683448384), (1106, 0.03989528295503624), (966, 0.03986752124163076), (2557, 0.039848250585456296), (1522, 0.03978784450412856), (2111, 0.03971932372906399), (4733, 0.0396481919059863), (222, 0.03960905391062579), (963, 0.039533189799242904), (4001, 0.03946765721784778), (2027, 0.039452545237363586), (1129, 0.03941620295846028), (3919, 0.03939956687324964), (2649, 0.03937602172834362), (135, 0.03936744018377934), (2560, 0.039357918889155706), (1677, 0.03935510718962078), (564, 0.0393396188316695), (3341, 0.039273652030575805), (2546, 0.039235785350436994), (460, 0.039218183135879714), (4624, 0.03909386758929108), (2672, 0.03900380530538545), (3469, 0.038970202211888696), (685, 0.03893265342267423), (3612, 0.038930286078528345), (3233, 0.03877382730034326), (631, 0.03872413599745498), (4566, 0.038698165507402765), (1758, 0.03850316489779551), (1467, 0.03845000219677388), (3751, 0.03833133192301785), (4068, 0.03829018273486549), (1381, 0.038210233361369535), (2398, 0.03813456492183742), (3837, 0.03812302345619192), (981, 0.038074976137153375), (2478, 0.03795173957180935), (3439, 0.037923871655651205), (11, 0.037703534938098554), (1332, 0.03767965735272109), (692, 0.03763550722541101), (4078, 0.037525936110533904), (2010, 0.037525435825521425), (521, 0.03749350972866872), (988, 0.037408533825491856), (787, 0.03738616462392321), (1543, 0.03735829468536427), (2022, 0.037355181314169345), (1818, 0.03733764451232671), (3518, 0.03733424434906378), (1343, 0.03732864481983038), (3054, 0.0372751163683564), (1204, 0.037245685527274364), (4484, 0.03716665513523117), (1985, 0.03711703402232469), (3461, 0.0370931557558839), (1086, 0.03705250603097729), (1175, 0.0370474890224848), (2554, 0.03703309898995063), (169, 0.037030109591530816), (1810, 0.03701149334236251), (3157, 0.03682789680545917), (789, 0.036824993735951564), (2698, 0.03672139275572651), (3491, 0.03655248160566744), (1640, 0.03655072244960029), (165, 0.036536540155176794), (1291, 0.036497400469254884), (1823, 0.03645507162804007), (2848, 0.036427325737927986), (1010, 0.03640533091112755), (2268, 0.036400123632530396), (1523, 0.03638021756508861), (57, 0.03629133526682121), (1066, 0.03628874367769599), (1550, 0.036198266422313614), (2259, 0.03617579728038379), (1354, 0.03613742473814482), (10, 0.03606379216974619), (3871, 0.03605002411081465), (189, 0.036035499243473476), (3515, 0.036027571247372235), (4152, 0.03595921379744231), (4667, 0.03594814505211487), (4467, 0.035945362220511555), (2356, 0.03591750906948204), (3463, 0.03589699393214382), (1961, 0.03584905022392745), (4658, 0.03584170035708092), (275, 0.035762917890373926), (3003, 0.03569208569173125), (3293, 0.035673311301558756), (3794, 0.03566781463628663), (1578, 0.035642388929023744), (1678, 0.03559233852938514), (528, 0.03556751975392696), (2440, 0.03556610818213169), (2296, 0.035500064980373655), (1244, 0.0354205762304932), (357, 0.03539093255043704), (1597, 0.03538393786711968), (1682, 0.035368782997888475), (2800, 0.0353639677805773), (3397, 0.03536031138497626), (28, 0.03533141859350345), (250, 0.035309292948866866), (1095, 0.035211871086064), (4591, 0.03517666284224262), (1076, 0.035112680228643424), (1594, 0.0350627918074247), (264, 0.03484660555329691), (1567, 0.03482119178937664), (1668, 0.03481300127725795), (224, 0.03479262563553499), (2074, 0.03478405034890139), (2572, 0.034774157385561964), (1689, 0.03476673022344337), (1015, 0.034731394751205596), (944, 0.0346871035545577), (4091, 0.03467150721575047), (907, 0.03466004899829283), (4176, 0.0346563660673009), (116, 0.03464682137931985), (2868, 0.03463046352315844), (2475, 0.034552734239359416), (4130, 0.03452281213559819), (4482, 0.034514079942574064), (1728, 0.03447338670344998), (2996, 0.03446377134109127), (1553, 0.03446250078300925), (1650, 0.03438477807048354), (2007, 0.03437283291722908), (592, 0.034348474342875746), (1700, 0.03431278597790922), (2149, 0.03429965851086606), (3241, 0.034281177665016246), (2822, 0.03423649263865172), (408, 0.03421423090347251), (1995, 0.03420142127817637), (788, 0.03414062000894611), (2807, 0.034138785955047865), (868, 0.033953105778963745), (2919, 0.03394581003918178), (2322, 0.03389745183113739), (3926, 0.033895586678044466), (1014, 0.03387479844460433), (2463, 0.033858706906938686), (2386, 0.03379982141938834), (3260, 0.03379593303956022), (3947, 0.03378827096017083), (2292, 0.03369915752001496), (7, 0.03368769083486511), (235, 0.03368412759792532), (0, 0.03367776818551606), (2155, 0.03366567223256795), (3410, 0.03366362637092797), (2510, 0.03360836508394455), (2734, 0.0335886758999611), (261, 0.033574090837153805), (425, 0.03356546582393551), (2839, 0.033550102139839756), (3998, 0.03352527989015962), (4034, 0.03350013391876033), (4509, 0.03347569481537272), (288, 0.03346114982800484), (179, 0.03344857791587236), (2122, 0.03340244236514998), (938, 0.033375920643139156), (416, 0.03336472522916323), (3791, 0.033362812479926465), (1691, 0.033318343964586127), (4007, 0.03331769669919156), (696, 0.03327659263037566), (389, 0.033257835263667934), (4481, 0.033248301481537054), (1224, 0.0332022561653617), (2409, 0.033143064324469215), (3259, 0.03311629270203304), (171, 0.03303215201202296), (1161, 0.03301073983981683), (260, 0.03300626558427677), (2191, 0.032922118301347766), (875, 0.03289186884887563), (1919, 0.03277685919274566), (3113, 0.03277072390739513), (1155, 0.032727089610191176), (4127, 0.032715336858019486), (4228, 0.03266136450145943), (974, 0.03257602733664687), (2985, 0.03257069290719747), (3199, 0.03255041304070888), (2766, 0.03254228611215984), (2946, 0.032535152193816815), (1219, 0.0324553621680815), (1285, 0.03237753510774939), (971, 0.03232152958987215), (4257, 0.03230442253781273), (2670, 0.03229182635925458), (1793, 0.032284805491693956), (3706, 0.03226407964779599), (1737, 0.03221032115338066), (1073, 0.03215189196574056), (2802, 0.032130978903830446), (1790, 0.03212921682204476), (45, 0.032117779716982854), (4246, 0.032109388644872276), (1844, 0.032100711552819884), (1091, 0.032009703143227174), (2933, 0.03200752766266935), (2666, 0.031989431531615306), (488, 0.03197719433526069), (1186, 0.031969790866020795), (2368, 0.031940449038950484), (651, 0.0319176826940419), (1615, 0.031916905229004214), (949, 0.03190520178463071), (345, 0.0318918483300175), (1524, 0.03187053969534738), (2446, 0.0318506290498538), (4600, 0.03184572532309783), (2647, 0.031829010886194505), (2668, 0.031819819774307805), (485, 0.03181707684843101), (396, 0.031795750213488724), (899, 0.03175260144669554), (2371, 0.03167323271582057), (4441, 0.031629890707255054), (3459, 0.03162017757028935), (3875, 0.031614052387411724), (2599, 0.031601450821774346), (824, 0.03158289515396702), (1289, 0.03158147500455494), (193, 0.03155286443509752), (4607, 0.0315399415938205), (493, 0.03152285726366508), (2086, 0.03151230703144283), (3928, 0.03148286550260283), (2196, 0.03139684160333434), (2013, 0.03139284394076247), (2547, 0.031370883409554566), (1911, 0.03135776643671805), (1471, 0.03134213742465035), (3799, 0.03133810888138267), (3560, 0.031321313357120746), (4493, 0.031315419914850054), (470, 0.03131334035486067), (434, 0.03130223290685337), (1135, 0.0312522006529536), (3036, 0.031241114359190202), (573, 0.031228250784655114), (3014, 0.031209429152384834), (3770, 0.03120750471250924), (4113, 0.031184466640570733), (1571, 0.031160618204795258), (3351, 0.031146737235000683), (2226, 0.031101570514854356), (3604, 0.031086795761849154), (753, 0.03106500400195796), (1447, 0.03097234650401508), (1661, 0.030899886252891553), (4168, 0.03088266617148265), (4011, 0.030860252745593456), (980, 0.03084364712550764), (466, 0.030840055115465004), (4332, 0.03083882197590279), (2221, 0.03082713049546918), (3417, 0.03070221722389487), (4082, 0.03068337522483799), (4486, 0.030667868808126032), (1781, 0.03063437204094828), (85, 0.030598638251618432), (1424, 0.030595306606771896), (3467, 0.030582082984077837), (3220, 0.03048722728853961), (1344, 0.030450821171007652), (451, 0.03032652637530071), (546, 0.03031688939850857), (4716, 0.030303345311026377), (913, 0.030267638388615684), (1948, 0.030152334830496924), (2265, 0.0300373062512556), (796, 0.03003568198472472), (2384, 0.03001737959377449), (4017, 0.0300053921904256), (1371, 0.029938962801827253), (1585, 0.029919968946378682), (1232, 0.029918811085871702), (3640, 0.029914138637615124), (2408, 0.02990081192997065), (2723, 0.029896431949387348), (1624, 0.029872484163062027), (3478, 0.02984319868430449), (818, 0.029839078719580487), (2231, 0.02978366547482687), (168, 0.02977831386062882), (1253, 0.02977469213096348), (161, 0.029740593803513977), (128, 0.029729562440425007), (881, 0.029684588022285092), (320, 0.02967163402121418), (1786, 0.02964259682887181), (725, 0.029602540655731997), (1879, 0.029580066248224263), (856, 0.029509742033109406), (4609, 0.02943958272004197), (1514, 0.029436284211082204), (1036, 0.02942079800506355), (439, 0.029413346975150554), (2765, 0.02939570548295801), (678, 0.029382136325463135), (1430, 0.029340705617282463), (3144, 0.029337356193310418), (1384, 0.029286413254187883), (2258, 0.029225727380089706), (3083, 0.029190583356733954), (64, 0.029145313660558236), (3256, 0.02912482809429419), (92, 0.02909396081144587), (618, 0.0290801364178633), (2279, 0.029077546903500576), (3510, 0.029055835738929534), (3895, 0.028964373907701103), (1958, 0.028889527978432236), (1392, 0.028876754616691997), (1067, 0.028799901937582948), (3821, 0.028759149147645262), (3451, 0.0287236917347436), (2549, 0.028666017816454864), (2481, 0.028557540845183693), (1672, 0.02855646297372978), (757, 0.02847463495281182), (3978, 0.028464996774078932), (1290, 0.028464743438142363), (1494, 0.028440559538842836), (3297, 0.02838553937255548), (77, 0.028381549144496074), (3315, 0.028362112861454132), (3208, 0.028332127106447166), (4423, 0.02831992401023795), (1627, 0.028283267101727332), (3512, 0.02821762800902318), (1009, 0.028216758443163233), (1828, 0.028197307374239394), (1393, 0.028138791883375196), (2931, 0.028082564842837193), (267, 0.028016325573677055), (319, 0.028014266410184518), (4513, 0.027975191585097234), (617, 0.027935268444288796), (3965, 0.027924099178767658), (322, 0.027870381210944706), (2447, 0.0278561020706039), (4031, 0.02784844454845225), (732, 0.027847094181084), (3589, 0.027845707977657796), (379, 0.027808391183876967), (2616, 0.02779301731838315), (3995, 0.02778391239660255), (3073, 0.027777331042569835), (382, 0.027773357701350476), (2690, 0.02776482366534435), (1048, 0.02776021184321138), (202, 0.02775118325951898), (3923, 0.027745451533938276), (2235, 0.027694849166835518), (3091, 0.02769452990126319), (229, 0.027679586900030754), (809, 0.027669725103039076), (3205, 0.02758894214882055), (2053, 0.027580041986519286), (2135, 0.027536450811768948), (1674, 0.02747326449209904), (825, 0.02745018774357944), (2127, 0.027433651974111153), (225, 0.02739790327164921), (3925, 0.027390657041093103), (1740, 0.027362437601874547), (1221, 0.02735699144589554), (624, 0.027296728860334456), (286, 0.027294124532814972), (1353, 0.027186022213567237), (996, 0.027121477981602398), (653, 0.027108172861175416), (3951, 0.02707576838791285), (1800, 0.02701987512825536), (2422, 0.02699251937970693), (1990, 0.026955873570263203), (1701, 0.02694371066659719), (1566, 0.02682011502824149), (1731, 0.026786659169513893), (3823, 0.026726324980840436), (3301, 0.026713055342702074), (1123, 0.026683339149310415), (2589, 0.026642195216836435), (369, 0.02663231777592056), (798, 0.026536446189395407), (3048, 0.026466312795632385), (1954, 0.026435847268651544), (4344, 0.026435391459664878), (550, 0.02643412795556071), (373, 0.026418726803300114), (847, 0.026379965255636528), (1937, 0.026323136439010256), (3651, 0.026316191482772113), (567, 0.026282464956724347), (4322, 0.02627280850059838), (297, 0.02614818925284392), (418, 0.02614332001317006), (4023, 0.02611232816148407), (3444, 0.025960247195944242), (2251, 0.025882240119544313), (1259, 0.02583491508700585), (3767, 0.025790845707841802), (3935, 0.025734670310184022), (3831, 0.02569480027653943), (2092, 0.025666166216709575), (3730, 0.025614281186670106), (2043, 0.025596079472374505), (1763, 0.02555604101841841), (4398, 0.025550182444625043), (2854, 0.02554866933246306), (1039, 0.025486287426904522), (1282, 0.025468450260623055), (1548, 0.025459535407838175), (218, 0.025449537346005063), (2963, 0.025436186584483725), (3578, 0.02538676594480705), (2208, 0.02536507925718272), (3504, 0.02532692704707847), (73, 0.025313410892846604), (4569, 0.025300327306850175), (2147, 0.025286316973521), (4124, 0.02527736518821103), (2118, 0.02526720286636909), (4589, 0.025247511095227455), (4295, 0.02524531824020131), (3466, 0.02522841097847704), (3119, 0.025227895695865383), (2701, 0.025103259300549057), (731, 0.02503660049019332), (4650, 0.02503101019527455), (719, 0.025030793435928587), (565, 0.025030076918171787), (767, 0.024969773304090306), (3340, 0.024965289163809662), (765, 0.024890155249783625), (192, 0.024880921610017582), (3698, 0.024878441704745013), (4219, 0.02470854328015823), (3737, 0.02469006146015465), (4529, 0.024673116163979616), (3460, 0.024665379099555546), (4038, 0.02459370461429996), (2177, 0.024437419012579627), (1456, 0.02443239009142289), (895, 0.024384527312517296), (3618, 0.02438442689130988), (1136, 0.024378167606485583), (918, 0.02437228413290219), (744, 0.024342820567151206), (1865, 0.024333860445239535), (1506, 0.02432996549691171), (3777, 0.024305759604199555), (285, 0.024293204858131297), (1704, 0.02428406059537685), (324, 0.024261162695622018), (1322, 0.02425091491557065), (3690, 0.024182521494483855), (3454, 0.024176922954433123), (2543, 0.02411684246052005), (2918, 0.024070965401307418), (2643, 0.02405802152835816), (211, 0.024045415629385107), (2072, 0.024044835213209683), (1964, 0.024003935249698516), (529, 0.02397003156309254), (4136, 0.023964525728907733), (2350, 0.02390346269662489), (2410, 0.023827539658013822), (2776, 0.023814443108352002), (310, 0.023746576736181968), (4087, 0.023741221374174754), (4400, 0.02371335244856651), (979, 0.02369688821700718), (2293, 0.0236753071967026), (684, 0.023635028449704516), (850, 0.023623121837148996), (560, 0.023622233424391688), (3384, 0.023580181585661872), (272, 0.023543968642947385), (597, 0.02352769188147849), (1412, 0.023524997392591937), (2646, 0.023493275339716912), (791, 0.023461651621649537), (12, 0.023441778497374215), (1326, 0.0234241560731302), (1619, 0.02339359647311671), (2169, 0.023354600221790728), (2614, 0.023337660074873527), (4135, 0.02333075701830594), (4033, 0.023326827400875147), (4420, 0.023315360822917373), (2237, 0.02330096856435062), (1592, 0.02321054830805894), (1420, 0.023187276405719423), (738, 0.023094451862771183), (500, 0.023072928048008604), (612, 0.02306074376136351), (1225, 0.023039504849325123), (4653, 0.023020788822912426), (4469, 0.022991924865742117), (328, 0.02298194288813355), (79, 0.022932730808920613), (204, 0.022816385968364224), (215, 0.022796807427363678), (3046, 0.022759005924204066), (4723, 0.022744043806704098), (1071, 0.022732144018025063), (3237, 0.022721682568274046), (2657, 0.022719887643936672), (652, 0.022616525905568015), (1192, 0.02260009858718021), (4361, 0.02259745271399354), (2415, 0.02257220817468477), (412, 0.022554265904276803), (60, 0.022517120572786684), (2070, 0.022514985654210694), (2036, 0.022499061037677136), (2488, 0.022489079072298173), (3447, 0.022479027975258265), (1938, 0.022471184372742814), (3579, 0.022468491914755667), (2878, 0.022454774347508553), (786, 0.022445270135209524), (3825, 0.022315401192657368), (4055, 0.022292739178072774), (1845, 0.02225965511948877), (71, 0.022251460268211842), (2750, 0.022212157149755295), (697, 0.022203791149809596), (1488, 0.022166952388151803), (1254, 0.022107392628004215), (3413, 0.022102816658855107), (2131, 0.02209900194370942), (3784, 0.022086919537201957), (4677, 0.022073931783407875), (3458, 0.022067019256805445), (3246, 0.02205355368264461), (3807, 0.021995423206891407), (1298, 0.021988859639559072), (855, 0.021945926909203786), (1742, 0.02194066067337986), (1335, 0.0219363141455715), (1404, 0.02193452870113422), (4701, 0.021931972955667865), (29, 0.021906847616644312), (2378, 0.021891731083633043), (3909, 0.02186139722609024), (4599, 0.02173515651049897), (4717, 0.021728592007432698), (3009, 0.02171878722083501), (3741, 0.021697929377908622), (3399, 0.021679221724473285), (2513, 0.0215930736309769), (4342, 0.021591944969122256), (4015, 0.021590402170414903), (4299, 0.02158535616037478), (1304, 0.0215777828022155), (1780, 0.021566167963895995), (4713, 0.021533933780438122), (1809, 0.021529805761686033), (3438, 0.02147214887239883), (3266, 0.021456274515054892), (2461, 0.021438841991718645), (352, 0.021405052342482266), (239, 0.021334099999481874), (721, 0.021313929135852505), (96, 0.02129119798554182), (1666, 0.02127166605890575), (207, 0.021267496210024987), (2008, 0.021238865959994687), (2660, 0.02121348232330711), (781, 0.021181923322919016), (3697, 0.021174245954517043), (600, 0.021164007252824774), (3638, 0.02115524184653722), (2790, 0.021147469521882244), (1468, 0.021116232514787114), (2262, 0.021109647887845244), (3306, 0.021090065762723365), (2912, 0.021031355416967403), (298, 0.0210105194991853), (739, 0.020998170405399433), (3765, 0.020953336658314926), (3659, 0.020947784517062393), (542, 0.02092738084073867), (203, 0.020921667256975876), (2051, 0.02090745677129745), (2974, 0.020885024448442903), (3186, 0.02086520439496672), (596, 0.020842620496396923), (2936, 0.020831035248052653), (2171, 0.020763801193873492), (4119, 0.020761174099681735), (878, 0.0207336372377606), (3390, 0.020694609562750304), (3529, 0.020690043938894172), (984, 0.0206602335385761), (3768, 0.020653097294455407), (2367, 0.020647980011633368), (2579, 0.020626618123685967), (2318, 0.020572460325504065), (1001, 0.020558454255460726), (4076, 0.020534018122769844), (1580, 0.02052658615639292), (1952, 0.020524880796800263), (41, 0.020476113374840482), (2028, 0.020456266369246842), (962, 0.020453605759699123), (2082, 0.020426593115992063), (1168, 0.02037566561868098), (3223, 0.02035279647549863), (1772, 0.020332987807646967), (33, 0.020330077670622518), (1052, 0.020322381151609656), (4260, 0.02031456886529922), (1005, 0.020296701251698555), (3064, 0.02024119781055973), (1679, 0.020239288676434552), (667, 0.02020722822714656), (3894, 0.02017541112251157), (3963, 0.020161362516410066), (1502, 0.02012813716568284), (1374, 0.02012781555991254), (3120, 0.020108948280411508), (3591, 0.02005988544280339), (586, 0.020021147883541583), (2403, 0.019995755071008956), (1718, 0.019978932312942805), (3229, 0.019961547433902768), (3393, 0.01995721762317552), (2729, 0.019928333295833538), (1796, 0.019926586941715282), (1874, 0.019887094262568128), (4648, 0.019877422451317024), (2841, 0.019844346409693528), (826, 0.01983885714421531), (752, 0.01982869833145716), (3189, 0.01978224121169719), (1359, 0.01977372458786848), (4265, 0.019768672628000583), (3590, 0.0197599603790147), (3255, 0.019758601053513843), (2361, 0.019731133886913936), (3418, 0.019711225114654642), (1352, 0.019710871382760217), (872, 0.019700234281080472), (4294, 0.019685211532713527), (1712, 0.01966971328356029), (1442, 0.019660862749477204), (2623, 0.01964041689057931), (523, 0.019635823054402226), (4047, 0.019604559149882093), (3973, 0.019592344673837175), (3230, 0.019589357737073085), (200, 0.019537734514287187), (208, 0.019536558107654138), (59, 0.019522382762131807), (3576, 0.019520831984307995), (4054, 0.019512401949035387), (1165, 0.01950389905032041), (4032, 0.019485421378467975), (2106, 0.019464605697374585), (2829, 0.01946187751860226), (2285, 0.019409696725785124), (440, 0.019388751073365483), (2385, 0.019381767629714483), (268, 0.019372145182151582), (312, 0.019353164007133206), (3327, 0.019348094026448156), (2419, 0.019333020148128793), (3886, 0.01931616095656511), (2505, 0.019267324123893027), (665, 0.019263076397442055), (1703, 0.01924669825154401), (2969, 0.01924563402983839), (4678, 0.01924428578503868), (1019, 0.019206671332758933), (3637, 0.019197131615001833), (1616, 0.01919241715590035), (2563, 0.019191296897281804), (2625, 0.019185670275615876), (1345, 0.019177565638201645), (1513, 0.019169253311342678), (3272, 0.019163535277315163), (1991, 0.01910087548262533), (724, 0.019087636846344118), (3908, 0.019076608081659167), (423, 0.019076473063142675), (4563, 0.019074989492211567), (2148, 0.019073402854329097), (2017, 0.019063294659942095), (2047, 0.01906119352189692), (1988, 0.019060078719033504), (661, 0.019055821134668322), (1608, 0.019040019433189045), (4287, 0.019011400652111685), (2472, 0.019008518968469966), (1495, 0.01900408776717788), (2621, 0.01900076590635482), (969, 0.018986723296120576), (1858, 0.01898637679459925), (593, 0.01897343536952101), (4679, 0.018963989625152375), (1549, 0.018959112512051273), (3476, 0.0189552304053093), (701, 0.018940980491158214), (176, 0.01890865865228382), (3566, 0.01889307374687279), (4528, 0.018841087155457313), (4531, 0.01880455220470776), (2927, 0.01879607677300576), (2888, 0.018793106400822802), (1337, 0.018779195068885528), (1922, 0.01877824315565313), (2327, 0.018752499934631045), (1314, 0.018750131079191157), (2388, 0.018730648998829143), (2067, 0.018713828071672246), (417, 0.01868262770164247), (4640, 0.018636390059878834), (4542, 0.01861568209695315), (1138, 0.01861475257917001), (986, 0.01858778806717367), (2014, 0.018578503892785606), (1263, 0.018567791513252763), (1088, 0.018567155881624088), (3758, 0.01855097779721322), (1127, 0.01853223474229092), (2104, 0.018528246252012562), (675, 0.018504214016321893), (251, 0.018488215874472844), (378, 0.018480657068471667), (217, 0.01846871936762401), (246, 0.018450274266654944), (400, 0.01843119452138765), (3624, 0.01842961340741653), (4520, 0.018414771500317468), (354, 0.018406256754571797), (3314, 0.01839996999294096), (321, 0.018391452990357143), (3535, 0.018366666570640375), (109, 0.01834609162378313), (282, 0.018325869869509633), (1190, 0.018273307591260522), (574, 0.018268306295561754), (337, 0.01825519247397218), (1376, 0.01825061597613164), (3379, 0.018237543612241447), (1252, 0.018231869152345166), (327, 0.01822230160190504), (3372, 0.018220615982646956), (1526, 0.01821433930502893), (1831, 0.018194826847496987), (61, 0.018167805137326284), (2964, 0.018131954049436613), (390, 0.01812226698805386), (950, 0.018121784504713405), (127, 0.018112601586392385), (693, 0.018105177245429815), (616, 0.018100268041232725), (1475, 0.018086077085055427), (2980, 0.018047522881120402), (680, 0.01804517624761958), (1527, 0.018009371810507144), (3141, 0.01799635333565005), (3056, 0.017993423659024184), (2418, 0.017985966315824737), (2792, 0.017976678621052237), (584, 0.01795144994581937), (3527, 0.017933599996881), (4270, 0.017930597334298446), (1950, 0.017930489066920192), (3264, 0.017916601591185147), (1317, 0.01791519905272628), (2441, 0.017905229448946944), (679, 0.017875678643227987), (1820, 0.01787389110970125), (1117, 0.017870089883456414), (3548, 0.01786143873054052), (2048, 0.017856604093302218), (710, 0.017855581578335424), (545, 0.017844609063082266), (2230, 0.017817225369292127), (52, 0.01778619276552327), (2697, 0.017781323070385244), (1416, 0.017776304334625338), (3445, 0.017767657978003143), (2653, 0.017757533476443012), (2640, 0.01775379741392629), (1630, 0.01772397007383307), (3843, 0.017679337598066232), (2746, 0.017639958856766332), (2476, 0.017636779682585545), (562, 0.01760417255923067), (648, 0.017596639350800407), (2805, 0.017588158053105256), (2374, 0.017582623451853487), (1307, 0.017578482866089214), (4501, 0.01752793906148507), (2068, 0.017486058795648626), (2742, 0.017481734735160463), (3328, 0.017453768150186868), (1884, 0.01738669781070542), (2443, 0.017365744058335658), (2956, 0.017360839409225063), (2225, 0.017355413376676353), (2555, 0.017349207154086808), (598, 0.017331889428476896), (3725, 0.01732064093424326), (1788, 0.01731216713820113), (694, 0.01730458309659953), (2730, 0.017295733867357905), (501, 0.017259221520313926), (2556, 0.01724886480735513), (801, 0.01724763343935659), (3941, 0.017244439817130124), (2045, 0.017244220187758313), (2203, 0.017229183757554913), (4337, 0.017222218397331422), (3711, 0.01721032229726342), (3001, 0.017188530414987656), (1729, 0.017149261922549536), (1510, 0.017129812427702243), (2674, 0.01712359740663774), (1574, 0.017122962558402892), (569, 0.017115367279924305), (2347, 0.01710022678436677), (2528, 0.017088933339190808), (3202, 0.017081700352932893), (3860, 0.017071598341151368), (1920, 0.017014593916722803), (4330, 0.016977461085077472), (853, 0.016972528505485314), (802, 0.0169715518682056), (561, 0.016969937817203858), (4057, 0.01694197127831274), (2627, 0.016926426835575464), (121, 0.01691285009070432), (3330, 0.016910212990514095), (1472, 0.016893182142252983), (3052, 0.016889825846196672), (333, 0.016854226889635893), (3374, 0.016839402945179178), (2404, 0.01681866707038717), (1894, 0.016807929698282716), (3561, 0.01676253600941497), (3082, 0.016746454053958068), (3278, 0.016732503790594683), (646, 0.0166837627861564), (191, 0.016666236874421432), (3795, 0.016639998943283628), (3291, 0.016616932748799006), (873, 0.016609456723660716), (515, 0.016587191255867082), (2779, 0.01656169486346766), (2248, 0.016543650080039645), (2540, 0.016534991532885155), (4080, 0.016499607388239128), (4558, 0.016497683040715985), (4201, 0.016486739720229487), (1926, 0.016481551313304667), (2044, 0.01647550693000996), (1934, 0.016431008307102778), (1199, 0.016409648752523202), (4171, 0.016399616506304563), (828, 0.0163887408436656), (1319, 0.016383415370602925), (3365, 0.016363974357862878), (4247, 0.01634972655620484), (3776, 0.01632415567114597), (32, 0.01631282891103817), (3826, 0.016312606352752335), (862, 0.01627314154047972), (3029, 0.016260882242788374), (3878, 0.016251928055811216), (734, 0.01624789746241185), (883, 0.016208693539901682), (1877, 0.01619157559705342), (2332, 0.016190145950105837), (2090, 0.016188011952581557), (797, 0.01618758100775409), (380, 0.01617150642597229), (3151, 0.01616322189447927), (4429, 0.01615134564139402), (1375, 0.01612715417152771), (4428, 0.016111991805595256), (4559, 0.016100322066398765), (3500, 0.01609575409581846), (709, 0.016094418176183043), (38, 0.016087086865033292), (2006, 0.016057614317406408), (3916, 0.016044074172554428), (388, 0.016018120491783104), (4121, 0.01601050719168217), (1735, 0.0159956206206705), (1357, 0.015987972967818485), (604, 0.015955770235990277), (186, 0.015939621898542936), (1981, 0.015917614523439434), (3262, 0.015910634894322043), (1698, 0.01590239865688507), (4251, 0.015902124625585143), (1011, 0.015897596507847098), (283, 0.01589477722758251), (2518, 0.015891353184694583), (1435, 0.01585755850803514), (956, 0.015840364993950556), (2154, 0.015838763426714524), (2803, 0.015788353728803436), (3427, 0.015770145512379357), (1386, 0.015769047643793624), (2898, 0.01575545332349976), (1889, 0.0157471425666144), (4476, 0.015746491948791155), (3221, 0.015744329657594584), (2586, 0.015715402781789473), (4676, 0.015693154001477447), (303, 0.015688792584833213), (4636, 0.01568704229604447), (2136, 0.015669248823238866), (287, 0.015669015440372063), (3817, 0.01565916228258158), (2218, 0.01564961406615328), (2039, 0.015647373559412772), (707, 0.015646160471240962), (4710, 0.015630130981690214), (4549, 0.015615891351094025), (2795, 0.015615867719038888), (2300, 0.015575230050725208), (1752, 0.015567408134157782), (1725, 0.015562304985033366), (929, 0.015560280279605019), (1151, 0.015552815370480562), (935, 0.015532213577712645), (4310, 0.015526373728082299), (1883, 0.01552334697746472), (1209, 0.015501504019920849), (1121, 0.01549188239071696), (3782, 0.015486526572431023), (2213, 0.01547121459679955), (1681, 0.015454561246502378), (2485, 0.015453027738717236), (1576, 0.015394856627988491), (3024, 0.015388131354705941), (1159, 0.015350092614531836), (1220, 0.015314736295525343), (1028, 0.015308197136921263), (1292, 0.015252775537903744), (480, 0.015223759981635313), (2959, 0.015220146065308748), (1675, 0.015212772067837395), (1097, 0.01521143184800471), (4659, 0.015190539735796073), (1150, 0.0151830800281126), (162, 0.015165677942977537), (108, 0.015155496736858754), (555, 0.015142812281791113), (1762, 0.015137191448004135), (420, 0.015136833420320524), (1115, 0.01512936276500428), (3424, 0.01512823063946497), (4492, 0.015121746686505018), (557, 0.015114750913461742), (1520, 0.015111189764192628), (2263, 0.015108141030571554), (4100, 0.01510263427276382), (4303, 0.015086543398576622), (3123, 0.015082729926517184), (1415, 0.015076786805448349), (2031, 0.015068904752670366), (2587, 0.015057872504675624), (4586, 0.015054826420647486), (49, 0.015034322368448703), (4390, 0.015023946900315641), (339, 0.015009858888130318), (1593, 0.01498530436323511), (1064, 0.014981080690787405), (392, 0.014952933033022218), (2778, 0.014951904059314576), (361, 0.014942768604680263), (1989, 0.01494087081207272), (4205, 0.014915578177359674), (1426, 0.014913892810072937), (902, 0.014830926687526594), (1185, 0.014830593148862505), (3991, 0.014816168703576538), (344, 0.014805223686389115), (2620, 0.014800728449021425), (924, 0.014779920926443287), (3911, 0.014775596992276315), (1586, 0.014708416141272364), (4554, 0.014698715123844667), (201, 0.014686778702652316), (1047, 0.014666419832704794), (422, 0.014655032969495291), (249, 0.01464497021791162), (2120, 0.014639839277321032), (740, 0.014570691750276506), (3081, 0.014552366045376483), (1749, 0.014547667600297012), (2222, 0.014540021352518608), (2412, 0.014499838482250879), (1042, 0.014489652211113093), (1525, 0.014432968521160099), (4376, 0.014432240441217803), (1638, 0.014401794799912996), (3072, 0.014371879756748657), (1266, 0.01436141690972814), (2867, 0.014357597983604612), (1250, 0.0143474866158433), (1604, 0.014334614503936076), (149, 0.014326611352531177), (1012, 0.014322457923542182), (1425, 0.014320214257918039), (2076, 0.014310795393720925), (2034, 0.014293419839856306), (2278, 0.014280916158751975), (3937, 0.01426887085876055), (843, 0.014267327760724492), (3650, 0.014263492922787592), (2414, 0.014189628499672159), (24, 0.014185945706689549), (927, 0.014181640468224807), (2835, 0.014174483884032505), (1316, 0.014136937199120557), (2760, 0.014124152537223345), (1037, 0.014112824060166116), (1365, 0.014101377288788974), (4405, 0.014096572595015058), (3772, 0.014071766453695109), (305, 0.014063151244730898), (2320, 0.014062362071673128), (2427, 0.01405083623243147), (2669, 0.014011074999156797), (610, 0.013995927617164235), (4092, 0.013993427268017243), (576, 0.013939309383798889), (1986, 0.013921603474530612), (4067, 0.013913881842229053), (4267, 0.013889960927453579), (2128, 0.013842566357446098), (2585, 0.013765347317683996), (1498, 0.01374721370374888), (2504, 0.01374395207253711), (1664, 0.013692950600419295), (2040, 0.013660831790987416), (4042, 0.013657349161227456), (2176, 0.013650379609942438), (715, 0.013645098445883637), (1754, 0.013621587239473126), (4263, 0.013619350898058945), (813, 0.013585999558234852), (1368, 0.01358186579030277), (585, 0.013541731406163996), (3414, 0.013540657596607025), (995, 0.013526675940545917), (2220, 0.013518226421801064), (4140, 0.01351062335934057), (427, 0.013502234072418802), (2239, 0.013468873303657666), (2097, 0.013455996169556459), (3915, 0.0134309164445171), (1109, 0.013413157604659127), (336, 0.013396646004413733), (1210, 0.013387335444703661), (4551, 0.013387024458977513), (4545, 0.013381274980749796), (840, 0.013368265384370357), (3449, 0.013361977267792528), (2152, 0.013360032908611288), (3086, 0.013357916640687171), (1518, 0.013317533289877795), (4657, 0.013298999545214879), (1708, 0.013281034304186522), (3677, 0.013278025945496725), (2661, 0.013274267424967448), (1118, 0.013266972283502595), (706, 0.013263471495531556), (1895, 0.013260624787489118), (394, 0.013255443369995935), (3244, 0.013244218107315872), (4574, 0.0132398785767976), (1824, 0.013231973423427733), (2538, 0.013229903979771805), (3738, 0.013224166133665831), (3193, 0.01322340743884072), (3234, 0.01322206447703993), (4018, 0.013220113121287368), (2391, 0.013206890344956344), (2393, 0.013196048473547155), (2151, 0.013183813280963134), (2522, 0.013178684101907128), (3559, 0.013168507955832522), (492, 0.013142667470540641), (1997, 0.013142345371601864), (3796, 0.013103527124149056), (1484, 0.013080095693953159), (263, 0.013066724621585101), (455, 0.013057986618515217), (3406, 0.013049859915611563), (13, 0.013039714229005125), (1400, 0.013034482018561442), (1075, 0.01302606027663534), (314, 0.013002161082400834), (2770, 0.012991803477411494), (1579, 0.012978949928790262), (3736, 0.012967162245157827), (716, 0.01296679511207301), (409, 0.012959989464759259), (1709, 0.012944347624025266), (570, 0.012940413355262836), (1984, 0.012938122826963739), (4431, 0.012936388977098374), (270, 0.012932196070245552), (3070, 0.012914868208694115), (4083, 0.012909602252431504), (884, 0.01286502356623378), (3420, 0.012784284442439422), (4115, 0.012783502243218375), (1629, 0.01276412927300482), (806, 0.012760778772247279), (3623, 0.012755932802760555), (2175, 0.012750450892560583), (3750, 0.012732687245755754), (2584, 0.012731664123597325), (1294, 0.012693932340103659), (1982, 0.01264725048870847), (1584, 0.012609942557488978), (2489, 0.012601533342860244), (3456, 0.012573781775716074), (3525, 0.012569323453280773), (3501, 0.012569313004766597), (994, 0.012566212670619036), (2295, 0.012561978522194685), (3865, 0.012553843393091412), (1379, 0.012531425636219373), (1994, 0.012524971342860751), (67, 0.012520852563217801), (3335, 0.01249369543670696), (1706, 0.012478002946194104), (4266, 0.012477526007709534), (214, 0.012451013095683262), (3436, 0.012444884354649912), (1876, 0.012436416961936056), (1385, 0.012380933227453332), (2558, 0.012367010066813849), (803, 0.012341069901665815), (1688, 0.012334849538969368), (1612, 0.012313338579645405), (3216, 0.012305065243604155), (1194, 0.012298939976640812), (2161, 0.012294760415880304), (2798, 0.012283539165480677), (1413, 0.01227640689675697), (1018, 0.012275356115055595), (1811, 0.012265942557698232), (2228, 0.012262075740764046), (3727, 0.012260165400100782), (1891, 0.012258091244285944), (926, 0.012253701115662957), (2061, 0.012251859759514792), (2060, 0.012239821207321765), (3684, 0.01221668853406218), (182, 0.012192876263250475), (2941, 0.01217536611082236), (2492, 0.012172127004926092), (2069, 0.01214919549873319), (1191, 0.012144125859999738), (391, 0.012133972223830319), (4020, 0.01213100086963913), (1222, 0.012120098727470403), (1084, 0.012116462011694192), (4440, 0.012116173396942603), (1090, 0.012113732984866824), (3069, 0.012075414513837038), (4464, 0.012046423029560624), (1408, 0.012043009239873451), (1813, 0.012004891295441094), (3472, 0.012002848506640825), (1120, 0.012001421472991203), (4183, 0.011993222515373195), (1245, 0.011986204189613473), (4673, 0.01197644994541653), (1178, 0.011958199183619608), (167, 0.01194568584379388), (973, 0.011917569620712706), (923, 0.011908138247446064), (727, 0.011884501722736538), (1296, 0.01188294298977135), (1582, 0.011871281451696223), (1020, 0.011863210482985396), (2308, 0.011856659839591806), (1535, 0.011836928683186247), (2102, 0.011825581552041848), (1027, 0.011824177777836885), (2141, 0.011819024466510569), (3498, 0.011814611196550744), (2632, 0.011812086527380236), (76, 0.011796840213512037), (2553, 0.011792905303938915), (3733, 0.011776861575696344), (4321, 0.011772385790233831), (1878, 0.011740822518513144), (4192, 0.011713664652202646), (3890, 0.011702795689636888), (723, 0.01168899429262559), (325, 0.011684875360447605), (2166, 0.011645502210959375), (2656, 0.011622472494815732), (154, 0.011606879892003498), (307, 0.011598664390546371), (1033, 0.01159472865800027), (1509, 0.011591670288049395), (842, 0.011584572922228135), (471, 0.0115474814343494), (3122, 0.011539618355417756), (1002, 0.011525415774601979), (1433, 0.01150401624020316), (221, 0.011501086264096596), (381, 0.011497305723088018), (111, 0.011486753852681825), (4374, 0.011482387454021734), (2224, 0.011478381343583427), (751, 0.011432625623659324), (4399, 0.011431988729025804), (2756, 0.01140530150363931), (3656, 0.011395888076052794), (2845, 0.011381241304316168), (1041, 0.011354603933294417), (359, 0.01134778184780819), (1941, 0.011339466449622835), (863, 0.011302987313663937), (2862, 0.011273224976511762), (2009, 0.011221117556185472), (3304, 0.011196694279731157), (473, 0.011187061722108479), (955, 0.011170768945036299), (1387, 0.01116275493579197), (1477, 0.011157242061750911), (2635, 0.011101147019281376), (524, 0.011096948809323142), (2301, 0.011065151660509052), (124, 0.011045396533150764), (1977, 0.011009538284426), (3440, 0.011007848440597595), (703, 0.010983879619314345), (2236, 0.010976647037499655), (4608, 0.010973092658732999), (1503, 0.010967431605825488), (2809, 0.010931076133894964), (421, 0.010886838701651008), (3027, 0.010885082283768992), (2065, 0.01086767123069475), (594, 0.010811986594178825), (2376, 0.010777584391692884), (1943, 0.010762895131786254), (2724, 0.01074884944369888), (3022, 0.010709057428177578), (1560, 0.010676263870555034), (4414, 0.01066849945561432), (2066, 0.010658006396963814), (1450, 0.010655987411911708), (2182, 0.0106433096100597), (139, 0.01062983261080357), (40, 0.010627704067408105), (2975, 0.010627174307394509), (3921, 0.010607210587351795), (2799, 0.010603926090229615), (3403, 0.010597819862568839), (2115, 0.010585600893994827), (1976, 0.010583655897125392), (190, 0.01055214042825057), (3180, 0.010540405902451628), (2733, 0.010524250611887805), (2843, 0.01052076451684183), (2758, 0.010501813005726284), (1465, 0.010487351097427258), (3211, 0.010473311332005152), (3192, 0.010466442249186268), (733, 0.010466150198464409), (1356, 0.010465912830801971), (3634, 0.010454865734672185), (2165, 0.010450321279698157), (874, 0.010431658587087066), (1554, 0.010431114128818583), (595, 0.010419639213135367), (3238, 0.010409969427605569), (990, 0.010407580833258054), (2626, 0.01039796258305441), (3802, 0.010374061467792127), (2101, 0.010367746136842581), (2981, 0.010333310047125416), (2359, 0.01032083013394068), (513, 0.010299011758739918), (2979, 0.010293144826057992), (1278, 0.010293005262252049), (3344, 0.010273035286917892), (901, 0.010241944029835798), (113, 0.010168408406408548), (1228, 0.010166803227087217), (2462, 0.010151178549648407), (2951, 0.010141238175614155), (982, 0.010126137358968836), (1732, 0.010125934585183646), (3313, 0.01009540413040396), (2287, 0.010091918404064884), (1799, 0.010081971638195748), (4061, 0.010054828535470794), (635, 0.010050070162338446), (3401, 0.010042156741120582), (3240, 0.010035422734370253), (1013, 0.010010762121663921), (415, 0.010006954746236474), (1305, 0.010000252325180798), (3631, 0.009995662996390025), (2673, 0.009968795121211347), (953, 0.009956058645774361), (1299, 0.009945489623955897), (194, 0.009921045647345382), (2252, 0.009918132637559397), (2002, 0.009916033955249058), (3415, 0.009915388102342175), (341, 0.009911589523241981), (1464, 0.0099086900426906), (1445, 0.00989895288163403), (4312, 0.009889969839066206), (1812, 0.009833407755258197), (2194, 0.009826170450428433), (4444, 0.009816468846671474), (2794, 0.00980839495107085), (2456, 0.009778459263569208), (691, 0.009776580625862676), (245, 0.009718057991484456), (4674, 0.009715467611199704), (1832, 0.009676096868767898), (1085, 0.00965851671218741), (1396, 0.009626636798392133), (309, 0.009621157585865545), (4375, 0.009619726795731288), (1302, 0.009609105687275655), (714, 0.009586264790087399), (1208, 0.009553922764465794), (3226, 0.009551398141458082), (1741, 0.009550850985825986), (2944, 0.009528028236793287), (3743, 0.009524680049120994), (315, 0.009503334713178012), (1443, 0.009497268613919618), (3265, 0.00948640322718996), (1419, 0.00948548522042784), (1873, 0.009483573078389302), (2804, 0.00947709378754223), (159, 0.009467264169307682), (3152, 0.009439447724265417), (4675, 0.009438575507129392), (4248, 0.009418090934626516), (2019, 0.00940921316795767), (4278, 0.009393412731411964), (2582, 0.009390984263544249), (768, 0.00939070361337779), (2732, 0.009388006937159788), (56, 0.009372228472962305), (50, 0.009356268934019798), (2847, 0.009354015167084404), (233, 0.009350700367198143), (535, 0.009348234353178995), (1105, 0.009341914730971736), (3616, 0.009318844494827366), (3793, 0.00931396675165412), (4242, 0.009309751374889076), (1082, 0.009304839007954042), (2834, 0.009297041781140858), (2973, 0.009292268259761307), (4029, 0.009284644676304115), (1128, 0.009283437891373012), (244, 0.00926830633019094), (4224, 0.009265597555056498), (4652, 0.009245933863880633), (4660, 0.0092407717536052), (3836, 0.009239893457922534), (2793, 0.009232425862699548), (2824, 0.00923019890160485), (785, 0.009210688268778062), (4070, 0.009206927910348378), (404, 0.009194239691313291), (3531, 0.009189286404888936), (82, 0.009179408171440891), (2150, 0.009174645778802863), (2568, 0.009165171293556434), (1517, 0.009164762965530537), (1063, 0.009153973872530597), (1900, 0.009121425573645307), (3228, 0.009094281176578844), (772, 0.009088976425608094), (1545, 0.009085140882088744), (1329, 0.009083854793834724), (4062, 0.009076543012529487), (1912, 0.009070692463380287), (2498, 0.00906729788182628), (3595, 0.009064600402302144), (530, 0.009061429045851265), (1459, 0.009060917087763692), (1633, 0.00905276626928871), (1648, 0.009033464327843476), (2763, 0.00898982093017212), (360, 0.008989813525429323), (1631, 0.008988686979004836), (649, 0.008978988543243046), (185, 0.008956904414022557), (3021, 0.008941533020657482), (2062, 0.008913312410135812), (311, 0.008892575973245748), (1113, 0.008886382262853302), (4459, 0.008855784944298648), (1992, 0.008851116698239713), (2167, 0.008845547447741454), (2738, 0.008843476489848033), (1649, 0.008829596968653656), (3338, 0.008826658261183108), (2038, 0.008819562667004118), (46, 0.008805759350853258), (1825, 0.008805466184997578), (3970, 0.008804109961833666), (1968, 0.008800479957572842), (2119, 0.008788875318307913), (2183, 0.0087855807047248), (2720, 0.008782911893254223), (3899, 0.008782557395566467), (316, 0.008780640549887609), (1562, 0.008775509360506641), (2962, 0.008759732587870338), (1755, 0.00875957526716762), (780, 0.008758086361661192), (4477, 0.008754904370875647), (304, 0.008734701908404634), (2315, 0.0087325741148313), (1487, 0.008727621791441481), (1787, 0.008718587575641618), (1029, 0.008710955399294071), (3450, 0.008703287552261655), (4577, 0.008699016479580301), (763, 0.008690347280761531), (4203, 0.008686413320758469), (160, 0.00868400269990731), (4186, 0.008672633109985345), (2160, 0.008662010059960487), (1055, 0.008650931059706327), (1496, 0.00865009612128917), (1451, 0.008646598939589032), (2215, 0.0086403067331151), (3866, 0.008638044832019104), (508, 0.008616593212420913), (4568, 0.008604041132051874), (4328, 0.008599429181252907), (614, 0.008598044828854125), (1746, 0.008591122388922895), (2542, 0.008575264025822558), (2071, 0.008563700070530391), (1310, 0.008550942609786465), (893, 0.008543124308081324), (568, 0.00853758156259438), (243, 0.00851624801252796), (2638, 0.00851448118337692), (540, 0.008495823079767695), (306, 0.008481302767798814), (122, 0.008479680003566588), (1870, 0.008467840318233468), (683, 0.008459952587066904), (737, 0.008452211918914047), (1987, 0.008449775797996424), (2791, 0.008442163373491688), (3587, 0.008441544806791434), (1270, 0.008439013961383988), (2740, 0.008437538101034656), (4297, 0.008435426138436338), (4368, 0.00843389667421262), (3945, 0.00841883708010032), (3822, 0.008414222005886249), (1716, 0.00840423941226276), (338, 0.008398394477161052), (393, 0.008390004033584772), (2436, 0.00837557397581612), (2840, 0.008357964720533446), (1474, 0.008357176330511775), (3877, 0.008343546979121633), (170, 0.00834048181563634), (1283, 0.008331742602404638), (3857, 0.008323330718949667), (1213, 0.008322498102423392), (4290, 0.008308205210054256), (2058, 0.0083069654509991), (1797, 0.00830598348102685), (898, 0.00829244167712849), (3232, 0.008283474676735477), (699, 0.00827813087902782), (2005, 0.008277242070938018), (2112, 0.008271066541695352), (1817, 0.008260990118457337), (3633, 0.00824426678165776), (4106, 0.008241329167032675), (2739, 0.008223787407792674), (1733, 0.00821664983156169), (3201, 0.00820504582979026), (123, 0.008198795369202785), (1043, 0.008189178161994166), (2145, 0.00817537327649264), (4732, 0.008173541190750084), (4110, 0.008169772680382426), (342, 0.008163452012579547), (4013, 0.008158741725232076), (3516, 0.008150033133424568), (4596, 0.008113228514500668), (3271, 0.008097046883511073), (277, 0.008091563954724695), (2494, 0.008079366791953287), (1907, 0.008066328628724067), (3914, 0.00805776135866076), (4269, 0.008038108615571487), (1140, 0.008023797706253132), (1537, 0.008023096555951643), (1458, 0.008018709081291021), (2940, 0.008009676885390697), (2712, 0.008006752798740944), (3780, 0.00800130507891047), (2609, 0.007993052452597318), (762, 0.007978902916330886), (2877, 0.007954000539655594), (1951, 0.007950747388150211), (1687, 0.007945434968589855), (3667, 0.007939752246658065), (2755, 0.007924041371290862), (2610, 0.007919595465589948), (3129, 0.007908732512597539), (1893, 0.007903920025622178), (3654, 0.0078812195637593), (1643, 0.007867419699401329), (2633, 0.00786726863042726), (1402, 0.00785808122586805), (3212, 0.007854066112008704), (4363, 0.007848666659377118), (177, 0.007847297061271224), (3150, 0.007840540219178876), (1660, 0.00782976123912121), (1006, 0.00782911037045535), (3599, 0.007824452405520087), (3752, 0.007820296699262685), (890, 0.007815545263289363), (717, 0.007814784793463186), (2531, 0.007809889564799309), (1851, 0.0078016826439392655), (2911, 0.00779916189803496), (588, 0.007787010696994303), (3778, 0.007783962685842683), (551, 0.007782638707923228), (1364, 0.007781244849701569), (4262, 0.007780019183374982), (2016, 0.007779507662681141), (3536, 0.007775509270892355), (4379, 0.00776429229546296), (3920, 0.007762105601979382), (3959, 0.007761602501112618), (3689, 0.00775119008072157), (2114, 0.007749707012239666), (1957, 0.007733451271352521), (1214, 0.007718760198446622), (472, 0.007714892099952695), (640, 0.0077062023038191345), (1768, 0.007704682052468843), (726, 0.007697001236503177), (163, 0.007690228578946187), (3701, 0.007682542979735122), (3222, 0.007675015399123894), (3526, 0.007669085239599577), (1963, 0.007665341295785134), (4189, 0.007665322209785918), (2784, 0.007659525956849277), (1077, 0.007655767299309576), (3283, 0.007632992336256398), (3303, 0.007625976474788636), (832, 0.007619574965817871), (2210, 0.0076191652918037), (3643, 0.0076129306755723485), (538, 0.007593343196788761), (3386, 0.007593052265347542), (2665, 0.007579762287202728), (3739, 0.007576188583537753), (864, 0.0075722413729628815), (3551, 0.007563370168598789), (209, 0.007561686574648644), (4503, 0.007557716901912471), (2109, 0.007553961055041943), (897, 0.0075507941862097945), (993, 0.007548916485131101), (104, 0.007541111409070124), (4686, 0.007539489152440338), (504, 0.0075390904833667755), (4604, 0.007534280264737672), (3125, 0.007530817359949175), (3564, 0.007522876722289807), (1223, 0.007522787412768538), (1170, 0.007502222140152407), (2250, 0.00747762663382267), (3665, 0.007475968768258557), (280, 0.007474209099330288), (2195, 0.007474043247603351), (3174, 0.0074737960381302156), (2900, 0.0074699722462360325), (2324, 0.0074605973995425295), (4511, 0.007453419535334609), (689, 0.007452700817590705), (2534, 0.00744927168241969), (3299, 0.007446446321770864), (346, 0.007446329655891626), (4394, 0.007436196448046826), (105, 0.0074320978802426855), (3477, 0.007430828715340379), (894, 0.007423406423761586), (3435, 0.007420965962091886), (1059, 0.007417926894336505), (1453, 0.007406534194352328), (1411, 0.007405134849788825), (769, 0.007395701027008741), (2416, 0.007385710322561828), (1338, 0.0073704980705832975), (4685, 0.007357239325799178), (4284, 0.007352815132971401), (1807, 0.007350503794508163), (3557, 0.007348621723859406), (477, 0.00734277741229785), (2910, 0.007332071567290539), (4687, 0.007327417903329892), (2029, 0.00731615844766639), (1617, 0.007315909542590329), (3412, 0.0073085946898618455), (1653, 0.007307725640587321), (4387, 0.007307013672892819), (2103, 0.0072969170569759404), (1422, 0.007296371609035825), (4395, 0.007290304469358463), (1035, 0.007280043492930711), (3574, 0.0072764209964813545), (292, 0.007270602956781252), (4442, 0.00726868065716623), (4550, 0.007264789742961293), (643, 0.007261695435504079), (972, 0.0072568924558486375), (4472, 0.007243901590955776), (2571, 0.007240107018796902), (1645, 0.007239457965914154), (2612, 0.0072374276583390875), (3641, 0.007237357371856512), (1463, 0.007225213313884129), (1421, 0.0072242815643182145), (2642, 0.007219955893953043), (112, 0.007214540432492053), (3917, 0.007208661635155437), (782, 0.007190916076291496), (18, 0.0071857166755995745), (1446, 0.007181302071241654), (3868, 0.007170296839226608), (4523, 0.00716862790516227), (2143, 0.007164776972146502), (4155, 0.0071591504502064585), (854, 0.0071517353547330435), (356, 0.007148009079459022), (2706, 0.007124333660230267), (1132, 0.007121846529772323), (644, 0.007118791680210763), (2892, 0.007113432791831608), (2859, 0.007104660132988226), (1710, 0.007098571229365009), (332, 0.00709396252419937), (3646, 0.00708588218923729), (3819, 0.0070755611067865685), (2303, 0.007067662292976314), (2812, 0.007062317535107823), (2023, 0.0070568758598321315), (2525, 0.0070564922618773325), (2899, 0.007044477225632212), (742, 0.007044155988960304), (775, 0.007042323571941174), (507, 0.007036470879672556), (3407, 0.007035145618027758), (3057, 0.007029955205761594), (3071, 0.0070191016142697165), (279, 0.007015388770103373), (4059, 0.007007953857733588), (2552, 0.007006229166022643), (1206, 0.007005312191781802), (4634, 0.006992545222585024), (1555, 0.0069761818507890275), (866, 0.006966557452846177), (3342, 0.0069586177101573134), (1642, 0.006935618431655247), (2777, 0.006933969564975488), (2317, 0.006933785267798), (2562, 0.0069308676060652425), (3854, 0.006929874757399458), (805, 0.006929714191294623), (4402, 0.006929285751910427), (1114, 0.006902263802660383), (4174, 0.006897438067646859), (669, 0.006895141980875174), (3389, 0.006892108624280357), (829, 0.006884022407540306), (4649, 0.006882011495011877), (1875, 0.006881549639909019), (1308, 0.006875268515746564), (1782, 0.006853915527047349), (957, 0.006842730783167069), (2954, 0.006842477863634276), (3563, 0.006829922530797868), (1360, 0.006820257293644004), (2055, 0.006791828160542071), (1595, 0.006781667580557232), (3311, 0.006778769499281519), (1719, 0.0067631178569221035), (3336, 0.006745010707831722), (4074, 0.006743896048497823), (3986, 0.006742609896415277), (1000, 0.006740222893736528), (885, 0.006721590500218307), (3841, 0.00672032275931615), (1394, 0.00663934810617748), (495, 0.006627984653121928), (166, 0.006618189901193774), (4156, 0.00656890302752133), (1301, 0.006546954213191474), (553, 0.006546328197645467), (4473, 0.006526612646481514), (3655, 0.006521653958139274), (4748, 0.006490136793197212), (2942, 0.006484554348597862), (2761, 0.006448724009408253), (3391, 0.006445697396927488), (2818, 0.006445325708609693), (3429, 0.0064415290338924935), (1565, 0.006405420603363771), (3376, 0.00639916763176136), (3200, 0.00636724642855651), (3855, 0.006358585065747783), (1971, 0.006351733138894821), (3668, 0.006342910963924052), (175, 0.006327799601495933), (1312, 0.00632400267064798), (547, 0.006318095025333781), (2603, 0.006293882931863214), (2211, 0.006279165775836939), (3430, 0.006237602260954137), (844, 0.00623255055994252), (442, 0.006213658369630962), (25, 0.006198865891592865), (3957, 0.0061767580834990645), (484, 0.00613572130844883), (1369, 0.006133454655229022), (2526, 0.006131369160560106), (156, 0.006087642565486733), (1377, 0.006045021129348513), (510, 0.00599008522101804), (3145, 0.005979628330941831), (3538, 0.005975309392748585), (1144, 0.005974560262528548), (3362, 0.005934001385227475), (4739, 0.005895732592531877), (4288, 0.005882957964543815), (4646, 0.005868336862135113), (948, 0.00579525603041782), (106, 0.005768616176894703), (2581, 0.005751523526333614), (3626, 0.005749303049381833), (4271, 0.0056951816934175245), (2363, 0.00568788481066241), (1669, 0.005663150587026884), (4194, 0.0056373432825318785), (2636, 0.005626072177868872), (3983, 0.005614103307107838), (1277, 0.005603903426418588), (4719, 0.005599585263890637), (3546, 0.005590951197309374), (3448, 0.005583405205346089), (3502, 0.005570947257154998), (1351, 0.005526469939698464), (2351, 0.0054937707145250245), (4524, 0.00549245211198618), (512, 0.00547046567725234), (3610, 0.005436039931558342), (904, 0.00541797415680396), (153, 0.005409532128166216), (4449, 0.005400456706030821), (2032, 0.0053935041112119), (3172, 0.005359299210679567), (3312, 0.005345843375807143), (3932, 0.005333261834455832), (293, 0.005328295514773513), (4281, 0.0053195598268169116), (4454, 0.005309956773532221), (1321, 0.005297128183673406), (3858, 0.00527794310405956), (2785, 0.0052697432191014), (2180, 0.005261229675712462), (2079, 0.005254163607615673), (2873, 0.005227549411794448), (2339, 0.005227532350887455), (424, 0.005225966104856611), (4460, 0.005217199955258135), (681, 0.005210856320243507), (3039, 0.00520828970846222), (1928, 0.005203433584538377), (4462, 0.005201299239845411), (2470, 0.005198300537088854), (2532, 0.005196056445635335), (666, 0.0051792406190615155), (3325, 0.005165546918847048), (4108, 0.005150121601679843), (4120, 0.005130385481690334), (4515, 0.005121639847874917), (3681, 0.00510943034903295), (687, 0.005106436836903988), (4064, 0.0051058612153618635), (1486, 0.005068802567544438), (2233, 0.005050932131315371), (700, 0.005049724065760069), (677, 0.005044097180806774), (1583, 0.005042483899433908), (4226, 0.005031761334117141), (4338, 0.005027191566801897), (4240, 0.005024480365832299), (2458, 0.00501580075171984), (1511, 0.004997904277596647), (704, 0.004976709594123735), (1246, 0.004972215018115209), (4151, 0.0049674540192451615), (4436, 0.004963073193760949), (232, 0.004955523592583636), (3586, 0.004953322287915084), (1390, 0.004951788113871341), (2637, 0.0049415749548097935), (4351, 0.004935831810787462), (3131, 0.004924193135691977), (2817, 0.00490780196512404), (3457, 0.004906843914778819), (2283, 0.0049048938885301345), (603, 0.004895444837465817), (1031, 0.004893605588829856), (2719, 0.004884430868394169), (748, 0.004883944382900997), (3724, 0.004880283358596884), (3897, 0.004879909797552565), (2689, 0.004879025896741523), (3464, 0.004877958806105019), (4613, 0.0048723817531061055), (1436, 0.004869887658469158), (301, 0.004868697796940042), (4406, 0.004868378088427976), (2330, 0.004866336070900209), (3103, 0.004862907749422791), (1380, 0.004854071536772016), (1859, 0.004853252192093219), (654, 0.0048510098819415015), (4695, 0.004850630842009299), (891, 0.004848255842750787), (3277, 0.004846311668578379), (1104, 0.0048444692991807675), (599, 0.0048421425902181745), (3969, 0.00483521004078607), (1336, 0.004832743699922677), (2675, 0.004824890753754232), (1881, 0.004814054464478558), (3870, 0.004811765758009406), (4621, 0.004809589429390831), (3018, 0.004806635702814436), (2015, 0.0048060251623106435), (928, 0.004803070588785553), (3378, 0.0048028060289828966), (1613, 0.004787439878618413), (1841, 0.0047870720548559105), (2241, 0.0047861393507038505), (1702, 0.004783777194881372), (3534, 0.0047746596448539815), (3507, 0.004771282487469312), (1195, 0.004770951288807804), (2511, 0.004770740212509992), (615, 0.004767774599959611), (3930, 0.004764991951848364), (2816, 0.004762323192529093), (3648, 0.0047622357107925655), (3549, 0.00476001775798287), (1636, 0.004742210370272961), (137, 0.004738643540215251), (2431, 0.004737022031830216), (778, 0.00473665022643961), (4388, 0.004733153782932227), (3722, 0.004732250574670729), (3446, 0.004726853625394247), (1726, 0.004723043497960585), (1564, 0.004713850528224891), (2678, 0.004708608377130898), (110, 0.0047039819053541045), (3552, 0.004702217173133875), (908, 0.00470198738431433), (2444, 0.004694841235953213), (3810, 0.0046899924134421785), (2421, 0.004689519768426252), (2788, 0.004685750452598883), (1587, 0.004685070585307825), (919, 0.004677326513272936), (4210, 0.0046684577751156435), (83, 0.0046640789713939534), (131, 0.004663094657676833), (1461, 0.004654116251464571), (611, 0.004645107056565319), (1577, 0.004642796031805482), (1515, 0.0046326069395597165), (4755, 0.004630540105048704), (2501, 0.004624753755662735), (2299, 0.00462331816665662), (347, 0.004618201466905337), (1804, 0.004616586543880119), (2813, 0.004612432349221504), (2198, 0.004611385915052668), (1297, 0.0046064713010337925), (299, 0.004601874108375924), (4099, 0.0046014011390691405), (3033, 0.004600008419229081), (4006, 0.0045999056481089515), (931, 0.004599439221588163), (3343, 0.004597961466484825), (2046, 0.0045968791997431785), (1501, 0.004596790376770933), (4571, 0.004594160093778316), (2246, 0.0045939682959450735), (3955, 0.004593104933828462), (1262, 0.004590348658531822), (4592, 0.004588364244794315), (3594, 0.004584433539016943), (1022, 0.004581565814136012), (525, 0.004577975017174884), (3270, 0.004572689614465579), (1238, 0.004571241339089239), (3178, 0.004571118819560392), (3818, 0.0045643976549824775), (65, 0.004564225274130372), (2503, 0.00456406255475251), (2480, 0.004563058092936555), (1239, 0.004560806232457603), (1692, 0.004553946069888715), (1852, 0.004538781292083875), (1857, 0.004531097410411025), (3746, 0.004530840329809864), (1551, 0.004523634047180633), (3644, 0.0045220656662431835), (1888, 0.00452129367083328), (2329, 0.004514502520652214), (4157, 0.004510326840661854), (1130, 0.004510071315021294), (84, 0.0045065189729238), (3066, 0.004496837637192313), (4112, 0.004492585150098832), (3709, 0.004486058786336581), (2178, 0.004476866643241895), (3994, 0.004472778245781515), (72, 0.0044637592449894075), (790, 0.00446100415674418), (3127, 0.004458291062723722), (1146, 0.004450276326570486), (1267, 0.004449347501731688), (2003, 0.004446569295253006), (1347, 0.004445665107561355), (2245, 0.0044455180916329615), (4217, 0.004445445486932663), (3011, 0.004444490679826106), (3720, 0.004441639851952721), (3149, 0.004439526770434667), (1493, 0.004437338824005624), (2432, 0.004436447415402723), (2056, 0.004435256961594323), (3562, 0.004433316799106004), (223, 0.00443208871361292), (4564, 0.004431680211438656), (915, 0.004428893361951856), (4252, 0.0044283267417398785), (2757, 0.004425175753457432), (486, 0.00441999160436176), (138, 0.004419311979893403), (3053, 0.004416864385502144), (3786, 0.004416173089337338), (3568, 0.004414072944279016), (1632, 0.004412929009081795), (4438, 0.004412622490309896), (3567, 0.004409728259806409), (4279, 0.004401388440514398), (2897, 0.004396276535313476), (1218, 0.004390804037129273), (284, 0.004389421676118811), (498, 0.004387887762880368), (3465, 0.004371749207469891), (1274, 0.004371031269437646), (2631, 0.004370880108640712), (1738, 0.00436938565504251), (3276, 0.004364360756287724), (3712, 0.004359814103740909), (3891, 0.0043586423466872035), (4555, 0.004357436201029409), (3361, 0.0043569363468729866), (2094, 0.004355447790208212), (1054, 0.004346092913835806), (4012, 0.004343890399754671), (2998, 0.00434042323090471), (1756, 0.00434029442139177), (4292, 0.004336490701579568), (1973, 0.004329749367971463), (2311, 0.004329604233804482), (3133, 0.00432616621862309), (1914, 0.004325646541673542), (3320, 0.004322871766475575), (1723, 0.004320739374571672), (2139, 0.004319718620897746), (548, 0.0043160779081515875), (4548, 0.004314512907701863), (2938, 0.004308761384448789), (1903, 0.004305516349794169), (426, 0.0043050066523108495), (810, 0.004300179133049886), (3121, 0.004298378310711741), (2682, 0.004294192428740878), (3966, 0.004292572670941191), (2992, 0.004291515191904604), (1662, 0.0042897177916438566), (1778, 0.004287042969088936), (3280, 0.004285105018079541), (2615, 0.0042755143737066275), (2874, 0.004271740414707348), (454, 0.004271648913276574), (549, 0.004270326239955197), (916, 0.004264771556252175), (240, 0.004260191247006512), (9, 0.0042592819869340616), (3321, 0.004258593615309049), (978, 0.004257195419623487), (1068, 0.004256498271884784), (335, 0.004255039896903606), (4009, 0.004252747250002086), (2497, 0.0042508516400909845), (2491, 0.004243540834193195), (94, 0.004226692388779122), (411, 0.004224594212982167), (1157, 0.004223048785479416), (80, 0.004217238368151256), (821, 0.004215246750675298), (14, 0.004211656234842127), (1794, 0.004211540609862289), (1714, 0.0042080651959759035), (4339, 0.004204331346096165), (776, 0.0042008495049229416), (1568, 0.00420015924489805), (4689, 0.004199805947768117), (291, 0.004195322278436522), (2654, 0.004194616704549788), (511, 0.0041917778404909865), (2749, 0.0041888363615158585), (1784, 0.004179392162953348), (148, 0.0041767099862108), (2379, 0.004172524747790984), (583, 0.004172524453544863), (1626, 0.00417044551283955), (1171, 0.004169213118382907), (1173, 0.004165202528663792), (4109, 0.004164573087940474), (4647, 0.004161962933618629), (2937, 0.004151622967054671), (1816, 0.004148938693227997), (3523, 0.004144582300032046), (2514, 0.004135074903606167), (4705, 0.004133646036455299), (664, 0.004125743170029665), (3051, 0.004124092941503378), (577, 0.004122190684789414), (3231, 0.004121602590354079), (2764, 0.004119045449639721), (2768, 0.004109797154394423), (3672, 0.004108312770087489), (2929, 0.004104968213276217), (1025, 0.004101537445475563), (2156, 0.004098395386168344), (2858, 0.00409797788461252), (2137, 0.004097749127078759), (497, 0.004095819699280333), (3139, 0.00409337458557547), (4450, 0.004080009027904543), (882, 0.004079920062282702), (3598, 0.004074347788907192), (820, 0.004065669217582586), (2722, 0.004058729781314164), (2189, 0.004058459649774845), (2906, 0.004052094899130765), (4202, 0.00404270328306813), (756, 0.004041623246395161), (3411, 0.004038103808607093), (3040, 0.004037594209309886), (2608, 0.004031265873564067), (2989, 0.004028616014155064), (3803, 0.004026954984615217), (1482, 0.004023073005734641), (3166, 0.004010417199795276), (3852, 0.004010373260431069), (2349, 0.0040031051058675325), (1145, 0.003997957870813042), (4353, 0.003997041189461637), (2407, 0.003996511693369833), (3990, 0.0039906687591597795), (1559, 0.003983379702826563), (2889, 0.003980015808536502), (2842, 0.00397935999124684), (1521, 0.003975122572685376), (2537, 0.0039661425976547145), (234, 0.0039612374161875005), (1546, 0.003959528298649633), (86, 0.00395828615226205), (4617, 0.003954232928706379), (4158, 0.003951942118117117), (4704, 0.0039497140773369875), (2, 0.003949261104395081), (2801, 0.003948240388256323), (735, 0.00394791874843279), (779, 0.003934356036693359), (3055, 0.003934167286110454), (2020, 0.003926002597952355), (2775, 0.0039249629779775546), (2870, 0.0039193528194274374), (3042, 0.003917374763259333), (3030, 0.003916686916147899), (627, 0.003914905441431647), (2883, 0.003912469284860616), (1046, 0.003909289942511804), (3635, 0.003908906650727718), (2855, 0.0039031215643209414), (2204, 0.0039016677422308156), (947, 0.003900008579620537), (3164, 0.0038976826338629525), (2923, 0.0038954881905216786), (1910, 0.003888290756324492), (639, 0.0038865326099991456), (3674, 0.0038851872329971637), (2731, 0.0038808647102611333), (4749, 0.003880074221631378), (4222, 0.0038774946484264263), (1279, 0.0038751173557356414), (3481, 0.0038736297549532843), (78, 0.0038688911688208156), (3658, 0.0038676125326396736), (2484, 0.0038657128671116584), (2310, 0.0038655909469163144), (4221, 0.003865513036374372), (575, 0.0038611764927153707), (3479, 0.0038611068525474302), (58, 0.003859237225908589), (4611, 0.003853704469745843), (2694, 0.003851219505098665), (3939, 0.003850727770116495), (3713, 0.0038374194145096505), (2861, 0.003832205432124854), (2655, 0.0038314677885238667), (3484, 0.0038276644408589628), (2789, 0.0038257694323646308), (4172, 0.0038221941456476304), (2559, 0.0038006589449087313), (4418, 0.003797160325274104), (88, 0.0037962020396704295), (2832, 0.0037942485485310995), (2075, 0.0037883206488693766), (4696, 0.003787690691200884), (2628, 0.0037848057314776805), (3076, 0.0037837551024168647), (4407, 0.003781745089400563), (3219, 0.003778341183553725), (2448, 0.0037758063103909803), (2392, 0.0037749645376820113), (3292, 0.003774206326506396), (1530, 0.0037692829643593178), (3762, 0.0037666146232523214), (2199, 0.003763512244763311), (3892, 0.0037584401306222696), (3282, 0.0037494509465930454), (4019, 0.003747915497887539), (2425, 0.0037470817224412494), (4546, 0.003737158417037373), (237, 0.0037340040491862774), (2255, 0.003730115594745181), (1695, 0.0037253571745288886), (2257, 0.003722350914585197), (3322, 0.0037209923425746165), (889, 0.0037208611930573086), (2901, 0.003712021103850211), (3944, 0.0037101260732949003), (1395, 0.0037048483376322487), (4230, 0.003704495107786498), (4142, 0.003696391418706975), (2838, 0.0036948693873569633), (2286, 0.00369481535486453), (3980, 0.0036923458856220324), (4403, 0.0036850374168150785), (2774, 0.0036778609641400666), (2530, 0.0036746734064034723), (4102, 0.0036709237163925143), (3848, 0.0036680159169476174), (294, 0.0036647048577340443), (3015, 0.003663687650137885), (2078, 0.003660492964210548), (4606, 0.003660233752504899), (3828, 0.0036564774389254272), (807, 0.003654348355277056), (2377, 0.0036536405536432086), (3239, 0.0036451150183342035), (3128, 0.003644512226788867), (2423, 0.0036436095781210275), (668, 0.0036413070173966964), (3354, 0.003640039230394918), (3140, 0.0036385469086742976), (526, 0.0036356181453761917), (1711, 0.00362561230095176), (3249, 0.0036160425158348938), (2326, 0.003614111633219963), (3687, 0.0036111201590393214), (4692, 0.0036089866851556716), (4544, 0.0036067058251009884), (3363, 0.003605769414562232), (3357, 0.0035937722550086386), (3537, 0.0035860752729551673), (2438, 0.0035811603401529756), (3159, 0.0035782767158533554), (4306, 0.0035744354236527374), (4107, 0.003570003947121341), (3922, 0.0035690930538215078), (2857, 0.003568842230782292), (3613, 0.0035660858603893545), (4724, 0.0035639823775449457), (670, 0.00356305824945678), (3521, 0.0035618039108501853), (3004, 0.0035610541834671288), (2266, 0.003559973086304879), (3999, 0.0035599621848461296), (4572, 0.003548332056607547), (3074, 0.0035471719026939344), (4298, 0.003546948198051035), (4209, 0.0035428036931780416), (4443, 0.0035417663167585), (326, 0.003540695554022745), (2797, 0.0035387799384329916), (3154, 0.003538651496880669), (2957, 0.0035370691925093725), (3874, 0.0035354488733802245), (3031, 0.003531737128419977), (3832, 0.003529533029334991), (2188, 0.0035284587950244056), (402, 0.0035245300590781067), (3302, 0.003522643105315359), (2879, 0.0035210151289884702), (3620, 0.003520575579347706), (4147, 0.0035203933451633555), (3544, 0.003519313830490371), (2459, 0.0035190451663698647), (1655, 0.003516893971426625), (2966, 0.003514671535268578), (3358, 0.0035100089535236192), (3020, 0.0035098711017800513), (3206, 0.003498040583599886), (3779, 0.0034912033155821837), (2454, 0.003491191304252859), (2993, 0.003487227854369815), (3901, 0.003486771175270991), (3257, 0.003483735059778654), (1264, 0.0034826499217985455), (2619, 0.0034817089397506155), (1429, 0.003475714070275375), (777, 0.0034748821914004097), (3356, 0.0034714421472883685), (4373, 0.0034647964885996915), (2895, 0.003460664251535942), (489, 0.0034585818028947013), (2434, 0.003456359111232109), (4458, 0.0034481878886068753), (3766, 0.003447830191771835), (3675, 0.0034464180273667284), (4637, 0.003430681964217968), (4490, 0.0034287257871797173), (1049, 0.0034282823300855188), (4280, 0.003426447818571193), (2772, 0.0034248282178545087), (3308, 0.003422829369481568), (4735, 0.0034212318269824507), (2986, 0.0034198225573165565), (2769, 0.0034125466904642056), (431, 0.0034096463366128935), (4632, 0.003408545548006181), (3763, 0.0034073448516519235), (2613, 0.0034060585113857697), (4416, 0.0034032085280939384), (2570, 0.0034028356982385584), (3621, 0.003402081719724852), (3524, 0.0034016393808388645), (3745, 0.003401023145283259), (1053, 0.003400596432503917), (4584, 0.003399009596649629), (4633, 0.003397779539011722), (2089, 0.0033972712325467556), (4694, 0.003397059581866724), (1187, 0.0033968669717648575), (2406, 0.0033960491467190652), (2707, 0.0033932632685283425), (518, 0.0033894224171197424), (1885, 0.0033875999260840873), (4412, 0.0033867825975605003), (2417, 0.0033851496703665904), (4030, 0.0033840298837610997), (1169, 0.003383731921780721), (2846, 0.003382986570591918), (3094, 0.0033829255476938587), (3275, 0.0033792088167053686), (937, 0.0033778464636559694), (4075, 0.003373543129618633), (3540, 0.00337211173509226), (3019, 0.003365702301192357), (3359, 0.003364675792402608), (4126, 0.0033643026435335255), (3884, 0.0033638423392894756), (3307, 0.0033583982069667526), (1947, 0.0033562811531856964), (2924, 0.003353027185183024), (3754, 0.003352939858777646), (4163, 0.0033519918359095797), (3729, 0.00335062640106481), (3425, 0.0033500019407605294), (860, 0.003349840995439801), (443, 0.0033440463923503465), (3408, 0.003343437971573575), (2987, 0.003337761263307043), (2884, 0.0033375348774930514), (3419, 0.003336520116228624), (1275, 0.0033360033716735554), (3337, 0.003335981041702754), (3396, 0.0033348334753003435), (3506, 0.0033345331788271868), (2872, 0.0033280289370230328), (4369, 0.003326248634079188), (3355, 0.0033262129919472117), (925, 0.0033243789731384407), (4507, 0.0033208511587835337), (3165, 0.003320747954031565), (274, 0.003319664652104536), (2187, 0.0033181864634203384), (3952, 0.0033155662208847864), (4465, 0.003313515181695493), (4244, 0.0033121993796964505), (3639, 0.0033088763933754586), (2796, 0.0033086912946249103), (3423, 0.003308164995509802), (985, 0.0033073021929197308), (2702, 0.0033044201057529092), (4117, 0.0033003509265381), (876, 0.0033000385095696264), (1497, 0.003299621406195143), (1184, 0.0032983505374749264), (4753, 0.0032967521127322255), (3883, 0.0032956163051534424), (4243, 0.0032913884760480466), (3296, 0.0032883390215831623), (2223, 0.0032873005163194515), (2346, 0.0032872520371612837), (3611, 0.0032850360451033146), (3867, 0.0032844006132734757), (2302, 0.0032838787034535424), (2629, 0.0032819711849829945), (2437, 0.00328163605158678), (1909, 0.0032816005389032167), (4187, 0.0032805200205147547), (1843, 0.0032792138670889527), (107, 0.003279078415627325), (2893, 0.003278665303625915), (998, 0.0032775410348969414), (999, 0.0032748585959918772), (2881, 0.0032744548988562585), (2411, 0.003273797624630882), (3148, 0.0032734436032765685), (4731, 0.0032734314953042007), (3043, 0.0032729402703611486), (478, 0.0032720833363705255), (2400, 0.003270084328049525), (2914, 0.0032697387446991885), (3680, 0.003269366302111717), (3992, 0.0032681301109509344), (4494, 0.003266195303121217), (1148, 0.0032643399392782), (281, 0.0032638544857649296), (1383, 0.0032636528429488085), (4699, 0.0032620727869513964), (3274, 0.0032575671686904117), (3373, 0.0032540897152321304), (4333, 0.003253304009112886), (533, 0.0032518571054540144), (1023, 0.00324989129497209), (1489, 0.003248722607917435), (3962, 0.003247097408746928), (922, 0.0032437239872919487), (4718, 0.0032425576493632616), (2903, 0.003242268181655735), (3196, 0.0032420340467793594), (4160, 0.0032415650811793415), (3012, 0.003241455776819673), (2916, 0.003238449233053683), (1862, 0.003238009999492408), (1499, 0.003236466776719797), (3032, 0.0032361780301231225), (4535, 0.0032360167406919925), (436, 0.003234740609457741), (4396, 0.0032346813264349187), (3146, 0.0032339332638131285), (308, 0.0032330167864762743), (4401, 0.0032302314789418615), (3593, 0.003227433099323853), (4293, 0.0032262105953465322), (458, 0.0032260016490459143), (4051, 0.0032255469630663616), (3804, 0.0032251484924507726), (3248, 0.003224416570376515), (729, 0.003223997963306366), (444, 0.0032214110855212992), (3273, 0.0032187600725737467), (2209, 0.0032187381264251066), (2782, 0.003218365031190896), (2830, 0.0032177131702297466), (4397, 0.003217678207379436), (4593, 0.003214907784071182), (4706, 0.0032120772010726046), (4605, 0.0032114781618282295), (4259, 0.0032114403917994504), (1923, 0.003210934818393736), (2108, 0.0032089960501705123), (1890, 0.0032080897236108933), (3062, 0.0032053452777599627), (4138, 0.0032046726934867606), (2535, 0.0032044397235773923), (888, 0.0032043059924713574), (688, 0.003202769455444598), (1960, 0.00320109611805155), (2592, 0.0032007287019323693), (3797, 0.0031993717700092867), (3967, 0.0031960874593811284), (3101, 0.0031941844444266093), (967, 0.003192030644298659), (62, 0.0031920284021963383), (3961, 0.003191159713543846), (2428, 0.0031906709571518166), (2890, 0.003190291888374383), (4619, 0.003189945164642474), (2159, 0.003188105256977514), (3097, 0.0031880411938935926), (2049, 0.003187373607400714), (254, 0.003186679662278737), (587, 0.0031796736504916623), (3116, 0.0031770653537052484), (2375, 0.003176249625706098), (1454, 0.003175590392195595), (476, 0.003173673657899572), (450, 0.0031724644221563757), (4602, 0.0031721035313634328), (1479, 0.0031710162713797815), (2464, 0.003170859038931398), (4308, 0.0031705947620811474), (4046, 0.003169521217604705), (2390, 0.0031694672917670476), (3183, 0.0031659844286812864), (4048, 0.0031650921840254065), (4601, 0.0031645314478171865), (2624, 0.003163581812587107), (253, 0.0031609959285807203), (3714, 0.0031601616850829546), (2229, 0.003159582412170802), (318, 0.003159581781075109), (3497, 0.003158924386906559), (896, 0.0031584092032304616), (1866, 0.0031569520952240892), (4101, 0.00315558053686258), (673, 0.003155040112179825), (3813, 0.003154581877339202), (1243, 0.003153485376670513), (4133, 0.0031525164743675445), (1905, 0.0031520594662797752), (4116, 0.0031520492123468385), (4522, 0.003150741579141782), (1805, 0.0031500000356727573), (4669, 0.0031488883591685507), (350, 0.003147519411600532), (499, 0.003146382673941657), (481, 0.003144186093818438), (2915, 0.003144081985068746), (2748, 0.003143921952620385), (3258, 0.0031438563052060883), (2214, 0.0031435208053289324), (2882, 0.0031417418484310155), (2507, 0.003140691761478834), (8, 0.003139874045042835), (2595, 0.0031358657571101166), (3889, 0.0031355365166542137), (3642, 0.0031351714297485765), (1897, 0.0031347506963199903), (4722, 0.003134351373363449), (1325, 0.0031337023439222474), (3771, 0.0031315154301159265), (2705, 0.0031305199423283265), (3694, 0.003128927623845296), (1959, 0.003127451119122034), (3269, 0.003127425075170626), (952, 0.0031253380138197735), (794, 0.0031244995600941865), (4734, 0.0031244800098461306), (3704, 0.0031243690369472366), (2477, 0.0031237047727991707), (3893, 0.0031233458565088556), (2116, 0.0031204067685094944), (3757, 0.0031187600017065914), (728, 0.0031183334996246264), (2190, 0.003116429343687227), (4579, 0.003116337178004437), (210, 0.003115972061458113), (3692, 0.0031129561695911853), (1848, 0.0031123340450781327), (4132, 0.003112037655760837), (430, 0.003111862602197657), (4161, 0.003110344134085507), (3112, 0.0031089233410183056), (4540, 0.003106577671562928), (4245, 0.00310632241640358), (3184, 0.003105337841990365), (2162, 0.0031047823553875336), (3095, 0.003103966973732845), (991, 0.0031034755204674166), (3496, 0.0031034114101720456), (2254, 0.0031025189600291866), (395, 0.003101948943244733), (1637, 0.0031012631846229106), (4371, 0.0031003725607726407), (3781, 0.003097772998438551), (4495, 0.0030967834081987535), (2786, 0.0030961367460183636), (4111, 0.00309507014273489), (1683, 0.00309383135071602), (1409, 0.003093055931253955), (2260, 0.0030928256708268277), (3904, 0.003092428055065014), (21, 0.0030917925190035362), (3728, 0.0030916541408948332), (3873, 0.0030914934210400946), (4680, 0.003091239965727326), (227, 0.0030898525713801157), (1141, 0.003089729566614817), (4005, 0.003089319694162704), (2949, 0.0030891663793988157), (3007, 0.0030886825447878573), (1119, 0.0030868220148111926), (4231, 0.003084123573723825), (1324, 0.0030840433663477064), (3601, 0.0030834034860705867), (2664, 0.003082297730158499), (3235, 0.003082113248151034), (4357, 0.003081888464465463), (2970, 0.00308169127243314), (2096, 0.0030816284211244533), (4355, 0.0030800868381820118), (4169, 0.0030797302693337542), (3987, 0.0030793166356246878), (2105, 0.003078685465170605), (4175, 0.0030785768023374183), (1779, 0.003078145321683782), (1572, 0.0030763500573679583), (3434, 0.003075835954793195), (1339, 0.003073095259745998), (622, 0.0030721306045293196), (623, 0.0030706685647331994), (2821, 0.0030693053095031484), (2565, 0.0030669901878014614), (206, 0.003066920091840544), (3084, 0.0030664215104907414), (4489, 0.003066372469363417), (68, 0.003066250888074533), (4471, 0.0030659100510263813), (456, 0.0030631712973800827), (3326, 0.0030621486005495274), (1234, 0.0030615696362300496), (3483, 0.00306115191511614), (4505, 0.0030603118901637335), (1853, 0.0030602810171480505), (2953, 0.003060255094109268), (4575, 0.00305907505526749), (2288, 0.0030581187428803066), (4286, 0.003056766880370069), (2849, 0.00305653689152276), (4052, 0.0030556369543335775), (4318, 0.0030550818098735253), (1918, 0.003053900056136423), (4123, 0.0030527195638798224), (3037, 0.003051807955946763), (4, 0.003050537600736829), (1916, 0.00304671705047625), (2394, 0.0030464515931652183), (3388, 0.0030461825647508526), (4474, 0.003044185751023038), (1007, 0.0030436993842351606), (3511, 0.0030433680358676793), (1670, 0.0030430018493331403), (3882, 0.0030428528859043126), (3187, 0.003042479069763242), (51, 0.003041866767078203), (3984, 0.0030405824081134137), (830, 0.0030391963672719295), (1902, 0.0030389361101053696), (262, 0.0030372789537624614), (4757, 0.0030361675978686675), (4178, 0.003035801683873831), (3242, 0.0030354413905056953), (4225, 0.0030349616246811307), (1188, 0.0030345940362554564), (1821, 0.003033915833352902), (173, 0.003030111736864045), (429, 0.0030300404565824536), (2088, 0.003029114249037329), (255, 0.0030275511146046347), (1439, 0.0030271860552239203), (4430, 0.003027048455464084), (4497, 0.003026933859963331), (845, 0.0030268041017407835), (502, 0.003026749654496524), (3437, 0.0030266907043535254), (1736, 0.0030266648191805104), (3493, 0.0030260827103967864), (4354, 0.0030244886031546734), (20, 0.003024079329292719), (2926, 0.0030236450904079677), (580, 0.003021172397492329), (660, 0.0030200746171645835), (3862, 0.0030195406483167603), (1229, 0.0030183829927142025), (3514, 0.0030182998303117724), (482, 0.003017735235620332), (3382, 0.0030168504062613303), (879, 0.0030163280819535693), (2561, 0.003016307952948346), (3845, 0.003015647592801699), (2601, 0.0030152107903101354), (4419, 0.003014064521745181), (23, 0.003012862109508887), (2545, 0.003012167341411759), (2370, 0.0030121194325855288), (543, 0.003011208384777649), (1983, 0.003011119984316819), (4089, 0.0030103673518491487), (3224, 0.003010080792746433), (34, 0.0030084781027295143), (3902, 0.003008205575441998), (1083, 0.003008158428659654), (2904, 0.003007148503341879), (2405, 0.0030070126441632873), (1727, 0.003006042220624145), (2650, 0.003003862817409616), (2319, 0.0030034901669067035), (447, 0.003002122689992729), (4625, 0.003001956284074744), (3666, 0.0030019538284280444), (4756, 0.0030009423279103928), (3349, 0.0029995502397466185), (1124, 0.002997428862843207), (4079, 0.0029971302035464607), (2744, 0.0029964059706845147), (774, 0.002995692083540809), (637, 0.0029939496029722616), (3517, 0.00299355588582442), (2123, 0.002992562570200435), (1765, 0.0029902482945421255), (4340, 0.002990223516876623), (4334, 0.0029881927285156634), (4422, 0.002987744132881452), (3198, 0.002986707994718009), (606, 0.0029855062610998203), (1382, 0.0029842367862158298), (4249, 0.002983100542482446), (2988, 0.002981927096050652), (2863, 0.0029810346193010775), (3636, 0.0029794846503467445), (1717, 0.0029776024439351935), (1516, 0.0029775225041318108), (3153, 0.0029771654907470905), (3290, 0.0029753406969503884), (4643, 0.0029739652092268553), (1860, 0.0029733373220288996), (743, 0.0029709576958852324), (871, 0.00297063955341279), (2321, 0.0029704197157338938), (2466, 0.002969205333644125), (865, 0.002968665336948695), (3016, 0.002968067584579232), (1334, 0.0029679571505341028), (2894, 0.002966932974709026), (509, 0.002964968119162186), (4098, 0.0029635936490652374), (3289, 0.00296296452461988), (3225, 0.002962735247932987), (3809, 0.0029622200122798627), (1355, 0.002960721787764644), (3000, 0.0029601938306136745), (3542, 0.002958114312186558), (3571, 0.0029564067405383845), (115, 0.002956299900448654), (1174, 0.00295566033744816), (1936, 0.002954915909008541), (1931, 0.0029539744486137827), (3699, 0.002953043950594972), (933, 0.0029527001061582367), (1176, 0.0029512308529470056), (1182, 0.002949793097670902), (406, 0.002949779368575396), (238, 0.002948805237497134), (3606, 0.002947859120750747), (4197, 0.0029474044315294583), (3653, 0.00294717767870787), (2073, 0.002946599548579618), (750, 0.002945468829513923), (3182, 0.0029451940312700134), (1122, 0.0029434871879205904), (3707, 0.0029425700322939868), (1942, 0.002941476864230403), (2397, 0.0029404251867141667), (3792, 0.002940193593253823), (1440, 0.0029358188995482785), (2313, 0.00293533717206872), (4049, 0.0029342411050456256), (198, 0.00293345036051749), (1533, 0.0029327677916688357), (4004, 0.002932059763378283), (2091, 0.002931426858983957), (579, 0.002930795481095654), (2887, 0.0029295261365131775), (1476, 0.002929159843260079), (4014, 0.0029253005269076777), (2652, 0.0029228866573853853), (1410, 0.0029220837070675154), (4391, 0.002921826101362782), (636, 0.0029198675168640425), (1722, 0.0029195868204735516), (2745, 0.0029182491002863915), (2396, 0.0029174626662682437), (2144, 0.002916311544130595), (3210, 0.0029163065993623506), (3670, 0.002915902780942204), (848, 0.0029157671746799763), (3227, 0.002915145327347331), (628, 0.0029149583237288402), (2934, 0.002912250094336149), (2192, 0.002911580133764353), (2606, 0.0029111532737020893), (3155, 0.0029109631945724705), (2783, 0.002909606363686249), (4517, 0.002908673990649067), (3541, 0.002908285944128336), (4081, 0.002907187864381911), (2284, 0.002906785009659972), (4435, 0.002904978649012834), (172, 0.0029003532558886623), (5, 0.0028997880939131268), (4715, 0.0028986445653763878), (2340, 0.0028983479834070983), (2344, 0.002897195258363386), (2695, 0.0028947522064195486), (2831, 0.0028945074148362788), (114, 0.0028939354997461015), (761, 0.0028916150901289934), (2495, 0.0028909301181928738), (226, 0.002890789350790261), (1378, 0.0028887302244016274), (4427, 0.002887940757015012), (479, 0.0028877717919187818), (370, 0.002886502482037961), (1163, 0.0028860899887360445), (66, 0.0028855460788880277), (2212, 0.0028849180559103217), (2387, 0.0028848985266990866), (4320, 0.002883843318422295), (3346, 0.0028835001129041047), (2943, 0.0028807947199640726), (1021, 0.0028798618531784797), (1112, 0.002879625476362756), (4268, 0.0028795090311608553), (3673, 0.002879476565310021), (2853, 0.0028767000336606036), (4056, 0.0028755628439410016), (2999, 0.0028747913428576297), (4409, 0.0028740823912492054), (4060, 0.0028724435162224425), (2289, 0.0028711648661000912), (2512, 0.0028704395134173757), (1102, 0.0028694440962050947), (4000, 0.002867752502950597), (3441, 0.0028674392205301795), (2174, 0.002865788764896132), (1634, 0.0028655147663940992), (3553, 0.0028654290389617766), (1072, 0.0028635844157134287), (1438, 0.0028632589551521705), (490, 0.0028629408867446612), (3565, 0.0028613267435550612), (3888, 0.0028606790235450592), (247, 0.0028586599497455456), (464, 0.0028577955193415895), (2569, 0.0028568369622712373), (3381, 0.0028566627604421505), (3067, 0.0028561780148353916), (174, 0.0028557676946208877), (534, 0.0028555180756393446), (1598, 0.0028540187638076654), (1621, 0.0028501946497855772), (880, 0.002849668931306124), (1313, 0.0028489939241269162), (4668, 0.002848788721195489), (4487, 0.002848429380548945), (3173, 0.002847282102043931), (2173, 0.002846990487300956), (2961, 0.002845848351238235), (3093, 0.002845331994792597), (3195, 0.002845201347487689), (3906, 0.0028445679604458085), (3647, 0.0028445549574069254), (2687, 0.0028444696963672), (989, 0.002843698609276464), (1100, 0.0028433365344093563), (4349, 0.0028429359317520336), (1110, 0.0028418501387406096), (3499, 0.002840264906521009), (1026, 0.002837046139549702), (3827, 0.002834740112114512), (1286, 0.00283437289090772), (2216, 0.002833517208098792), (1882, 0.002832744456860848), (98, 0.0028310270081328965), (4362, 0.0028309160787308623), (2945, 0.00283010372296356), (2087, 0.0028277831117223626), (4530, 0.0028275595338376125), (4641, 0.0028243409082031002), (3719, 0.002821959194995752), (4309, 0.0028218829291678086), (4743, 0.0028209880632349728), (446, 0.002820373793027147), (2909, 0.002819723598016803), (799, 0.0028184652016241497), (3402, 0.0028174002805556007), (1350, 0.002816267221853317), (1284, 0.0028144287924716767), (1096, 0.0028127270153534847), (358, 0.002811881977507486), (1017, 0.00281017528244055), (2401, 0.002809846202830312), (755, 0.0028097349459591313), (1967, 0.0028087036953079944), (4693, 0.002808415522007571), (959, 0.002808220092477793), (3075, 0.002807933068248515), (522, 0.00280647400010441), (3370, 0.0028063830849793065), (329, 0.002804674690915939), (349, 0.0028040844969114383), (676, 0.002802937094608503), (4381, 0.0028028915359332328), (4573, 0.0028027617146545655), (1261, 0.0027992443210849618), (1671, 0.002799159090767477), (1030, 0.0027986416983729117), (4129, 0.002798465096895117), (1481, 0.0027982714903566634), (3348, 0.002797972597154782), (817, 0.0027978506619976066), (541, 0.0027965049716727006), (4382, 0.0027956746067191187), (2080, 0.002793404896312008), (3298, 0.002792814740409822), (1247, 0.002792490381408611), (4139, 0.0027918908613680732), (19, 0.0027894879278700375), (2467, 0.0027894209130233222), (3660, 0.002788070792470622), (4461, 0.0027833105429346393), (1864, 0.0027807979081940163), (3352, 0.0027803281084634026), (3900, 0.0027801405733321317), (3487, 0.002779779917591484), (4729, 0.0027771367500851922), (620, 0.0027768822927600662), (2117, 0.002773263906751631), (3503, 0.002772362441259215), (4670, 0.002769474796027221), (2024, 0.0027685856181561986), (487, 0.0027676696638415897), (2752, 0.002765277765328942), (4567, 0.00276322291124811), (4536, 0.002762218477288294), (2309, 0.002761818108354822), (4614, 0.0027615962754471714), (1854, 0.0027604070325579952), (3214, 0.0027601879451709652), (3268, 0.0027594426363077127), (2886, 0.002758352656557468), (1744, 0.002758133828254315), (1929, 0.002756232443448984), (157, 0.002753542960736335), (2473, 0.002753474794004128), (2121, 0.0027524534069667626), (3035, 0.0027523860382018908), (4085, 0.002751756921987397), (3691, 0.0027510973305179625), (164, 0.002751079509822679), (3170, 0.002750499201353888), (3171, 0.002750218508760302), (4213, 0.0027492039512027285), (2242, 0.002748063354552892), (1255, 0.002747068391496517), (505, 0.0027465705448543884), (2965, 0.002746415516785931), (4206, 0.0027462924757744346), (3898, 0.0027436320248250333), (437, 0.0027433380245290334), (2995, 0.002740122587682227), (2679, 0.0027358362567458305), (698, 0.0027354233574101387), (2651, 0.00273540321266828), (2598, 0.0027353772456033573), (2133, 0.002734642133831941), (2997, 0.0027327049073450457), (1759, 0.002731764079812987), (1032, 0.0027307441978221786), (197, 0.0027298868833504817), (3194, 0.0027289041609048974), (578, 0.0027286868791043173), (3954, 0.0027286419126789875), (126, 0.002727853535903779), (939, 0.002727004617702838), (3734, 0.0027268913767288195), (276, 0.0027260665836131574), (3811, 0.002725558258035527), (2972, 0.0027252257581373476), (1663, 0.002723707385527879), (1177, 0.002723505303631995), (2348, 0.0027232605442640864), (3615, 0.002722600912729611), (3433, 0.00272231947528636), (2004, 0.002717343063819327), (3300, 0.0027169839023938928), (236, 0.0027157361659604132), (4254, 0.0027146884574501136), (1203, 0.0027145794780845905), (1693, 0.002714577187744984), (1372, 0.002712108024919017), (886, 0.0027105046842309105), (903, 0.002710105059783467), (140, 0.0027082572963069667), (941, 0.0027078827607917412), (3243, 0.0027078723420751365), (1665, 0.002707042489211408), (975, 0.002706593049752471), (2496, 0.0027037643708047437), (900, 0.0027032145678400855), (655, 0.002699871028977687), (4603, 0.002696896123780321), (3452, 0.0026959716368170164), (1819, 0.002693542962851125), (659, 0.002693115157793126), (3147, 0.00269153977557952), (213, 0.0026908906148542145), (921, 0.002690779478266892), (1107, 0.002689981552219491), (2201, 0.002689514334553303), (4356, 0.0026888282426936238), (838, 0.002688397373504971), (1558, 0.002687585056845683), (3829, 0.0026875293173369104), (1183, 0.002683596470278315), (1641, 0.0026810560880931615), (589, 0.0026794674641615153), (463, 0.0026794671930036288), (2129, 0.002678990677258936), (399, 0.0026789862751766605), (766, 0.0026751412476053752), (3627, 0.002675082722996465), (1519, 0.002673566609241762), (1448, 0.002671476162332045), (4616, 0.0026707460201583627), (136, 0.0026698848867540603), (2735, 0.0026694296622950917), (3558, 0.002669180295962793), (2399, 0.0026687901379217325), (2593, 0.0026674648689843424), (3369, 0.002666836831871407), (3839, 0.0026667375593695877), (15, 0.0026667320421110167), (558, 0.0026660142123108173), (355, 0.0026659483191662915), (638, 0.00266469447925897), (1667, 0.0026645381658224787), (1814, 0.0026620669885971723), (1079, 0.002658715746351511), (2453, 0.0026572532187357774), (3455, 0.002654672289192675), (3876, 0.0026539190973576404), (43, 0.002653748963055132), (457, 0.0026535594612172226), (1462, 0.0026518555870978827), (4326, 0.0026507002550654486), (2362, 0.0026502496608371154), (4277, 0.0026481967915644752), (910, 0.002646583897402199), (1628, 0.0026454210081953496), (3329, 0.0026431396065075712), (1065, 0.002642530609009312), (4620, 0.0026416343360040175), (4502, 0.0026406009782756613), (1434, 0.002639645546574961), (4359, 0.0026395661339546836), (465, 0.002639517305631915), (4638, 0.00263734402323795), (199, 0.0026362274293463142), (759, 0.0026323389157202237), (2728, 0.002631634876569791), (3474, 0.0026271259264565028), (1528, 0.0026260121988961604), (1680, 0.0026257645996191673), (1892, 0.0026253289430495604), (1237, 0.002624498793546973), (1538, 0.0026243006446356352), (4053, 0.002623440595837866), (3267, 0.0026233885613561494), (608, 0.0026207787204901222), (968, 0.0026189854428903254), (2402, 0.002618321977861442), (1869, 0.0026176790861977195), (3614, 0.002616924652945198), (3705, 0.0026161875381345914), (449, 0.0026148211801407203), (1827, 0.0026144465692882523), (1826, 0.0026143897258190645), (4154, 0.0026125125809509002), (1605, 0.002611971352590952), (2323, 0.002609074430647263), (563, 0.002607042924604774), (4350, 0.0026059509196553403), (3318, 0.0026057291569373357), (581, 0.0026054212658695166), (1690, 0.002604857941975966), (4712, 0.0026044913466579914), (2741, 0.002603190841707491), (1080, 0.0026027396354182603), (3974, 0.0026022368014977787), (2457, 0.002600741302320002), (4475, 0.0025998944290697625), (1625, 0.002599790094548806), (1739, 0.0025996076019949035), (3863, 0.002598015120155664), (4304, 0.002594862407083733), (2591, 0.0025938380809234), (158, 0.0025934084844098427), (1980, 0.0025931884271759202), (2607, 0.0025915009627362692), (1004, 0.0025914226713221414), (3801, 0.0025903015757761812), (2976, 0.002589939289364924), (3167, 0.002589208635790719), (917, 0.002587878806051588), (3556, 0.0025850987150560075), (1921, 0.0025838544500252723), (2580, 0.002581928154784934), (2163, 0.002579761693338616), (1414, 0.002579294064225048), (1318, 0.0025784773310944136), (672, 0.0025780733337542965), (4141, 0.0025778006918574484), (3956, 0.0025769072946914837), (2264, 0.002568559651592174), (3380, 0.002566497797440645), (1423, 0.002565901850605749), (132, 0.0025632400524149813), (4661, 0.002562790036476214), (4104, 0.0025627146563363544), (1830, 0.0025617747944308273), (252, 0.0025609655170093885), (705, 0.002559568607945593), (1251, 0.002558396500450082), (4343, 0.0025573013113079613), (3755, 0.002555211756393161), (712, 0.0025543434590326285), (519, 0.002552763916372275), (2502, 0.0025508661196341842), (4220, 0.0025505344167457834), (2617, 0.002549033390579375), (808, 0.0025488176961563835), (2753, 0.0025470264916927212), (1776, 0.0025462142644972372), (605, 0.002544006361242146), (4066, 0.0025390138613611297), (3910, 0.002538275919285171), (2240, 0.002537159745329425), (647, 0.0025367293441008855), (851, 0.0025327834994084055), (317, 0.0025315891922857822), (4432, 0.0025305776664605044), (3880, 0.0025223914925314042), (4296, 0.002518345777783768), (4232, 0.002513482266210272), (3096, 0.002513220891125071), (2721, 0.0025121939254736016), (2692, 0.0025106049309844727), (1217, 0.0025100197257631454), (2747, 0.002505185553897297), (103, 0.002504181698155401), (242, 0.0025031996972927624), (147, 0.002501343985228047), (1397, 0.0025001955835211036), (2270, 0.0024980360860270574), (642, 0.002497301602067604), (4386, 0.0024935228734561596), (1370, 0.0024929148671266853), (278, 0.002490072597729595), (861, 0.0024896728400374897), (364, 0.002487302118710838), (2527, 0.002486640051643592), (3629, 0.002482989714230196), (4627, 0.0024808259437031272), (4411, 0.002476883511813553), (1833, 0.0024756873059556318), (445, 0.002475056143078958), (2146, 0.00247079049808153), (1050, 0.0024630728085455363), (432, 0.00245958175878906), (3065, 0.0024557588454526564), (1340, 0.002455320284324012), (4095, 0.002453625372168929), (2771, 0.0024532560110437753), (1202, 0.002452369068154278), (3669, 0.002450145530849741), (951, 0.0024407042950495145), (3657, 0.0024398282598685436), (2157, 0.0024310881602395734), (196, 0.0024284244400968164), (1801, 0.0024280487582217835), (3347, 0.0024266123021625583), (4610, 0.002426478032666811), (2876, 0.0024146725247728255), (1367, 0.0024144041352365266), (2355, 0.0024103684797473816), (3331, 0.0024100655591116657), (16, 0.0024097673038898787), (3252, 0.0024090957530095904), (1078, 0.002407729728991154), (44, 0.0024067044584126203), (2602, 0.002398959972728395), (142, 0.0023920487352299814), (4200, 0.002390400326572833), (1427, 0.0023700170782319447), (433, 0.002364972306663398), (3756, 0.0023649341185498596), (3254, 0.0023639626194324795), (645, 0.00236135196835711), (1098, 0.0023575921601075777), (816, 0.002353166602215199), (942, 0.002350437182835619), (4311, 0.0023489323307591455), (4744, 0.0023437519141004982), (4626, 0.002337499887141461), (1303, 0.0023310421265590113), (3431, 0.002321707770637667), (2925, 0.002321321625670419), (1871, 0.002301140162549446), (63, 0.002300998359366728), (3471, 0.0022987924399420338), (2917, 0.0022772636020527365), (4598, 0.0022682196241407275), (2469, 0.002263622292130382), (1040, 0.002258140164040438), (1417, 0.002256844692093453), (1747, 0.0022499966681431348), (1403, 0.002221339274020115), (271, 0.0022157451637152847), (453, 0.0022107949853549724), (1774, 0.0022075436498631526), (351, 0.0022057962787180897), (4182, 0.002193494347256787), (1861, 0.002191492876169301), (3645, 0.0021792125000181873), (256, 0.00215996465004779), (4301, 0.002145033519641956), (2902, 0.002126388841699054), (641, 0.002070372702986783), (831, 0.0020410541498897235), (940, 0.002023415521650658), (129, 0.0020189140603301555), (3421, 0.002000219856112988), (3392, 0.0019210489005898777), (3608, 0.0018831727520000627), (475, 0.0010107285594989084), (1, 0.0), (6, 0.0), (17, 0.0), (22, 0.0), (27, 0.0), (30, 0.0), (36, 0.0), (42, 0.0), (47, 0.0), (53, 0.0), (54, 0.0), (55, 0.0), (69, 0.0), (70, 0.0), (81, 0.0), (89, 0.0), (90, 0.0), (93, 0.0), (95, 0.0), (99, 0.0), (100, 0.0), (117, 0.0), (118, 0.0), (125, 0.0), (133, 0.0), (134, 0.0), (141, 0.0), (143, 0.0), (144, 0.0), (145, 0.0), (146, 0.0), (155, 0.0), (180, 0.0), (181, 0.0), (187, 0.0), (188, 0.0), (205, 0.0), (219, 0.0), (230, 0.0), (231, 0.0), (241, 0.0), (248, 0.0), (257, 0.0), (258, 0.0), (265, 0.0), (273, 0.0), (289, 0.0), (290, 0.0), (295, 0.0), (300, 0.0), (313, 0.0), (323, 0.0), (331, 0.0), (334, 0.0), (340, 0.0), (362, 0.0), (363, 0.0), (365, 0.0), (366, 0.0), (367, 0.0), (375, 0.0), (376, 0.0), (383, 0.0), (385, 0.0), (397, 0.0), (398, 0.0), (401, 0.0), (405, 0.0), (413, 0.0), (414, 0.0), (435, 0.0), (438, 0.0), (459, 0.0), (461, 0.0), (462, 0.0), (474, 0.0), (503, 0.0), (506, 0.0), (514, 0.0), (516, 0.0), (517, 0.0), (520, 0.0), (531, 0.0), (532, 0.0), (536, 0.0), (537, 0.0), (539, 0.0), (552, 0.0), (554, 0.0), (556, 0.0), (559, 0.0), (582, 0.0), (601, 0.0), (602, 0.0), (619, 0.0), (621, 0.0), (625, 0.0), (629, 0.0), (632, 0.0), (633, 0.0), (634, 0.0), (650, 0.0), (656, 0.0), (658, 0.0), (662, 0.0), (663, 0.0), (671, 0.0), (674, 0.0), (682, 0.0), (686, 0.0), (695, 0.0), (702, 0.0), (708, 0.0), (711, 0.0), (713, 0.0), (718, 0.0), (720, 0.0), (730, 0.0), (741, 0.0), (745, 0.0), (746, 0.0), (754, 0.0), (758, 0.0), (760, 0.0), (764, 0.0), (770, 0.0), (771, 0.0), (784, 0.0), (793, 0.0), (795, 0.0), (811, 0.0), (812, 0.0), (814, 0.0), (819, 0.0), (822, 0.0), (827, 0.0), (833, 0.0), (834, 0.0), (835, 0.0), (836, 0.0), (837, 0.0), (839, 0.0), (841, 0.0), (846, 0.0), (849, 0.0), (859, 0.0), (869, 0.0), (877, 0.0), (905, 0.0), (906, 0.0), (909, 0.0), (912, 0.0), (914, 0.0), (920, 0.0), (932, 0.0), (943, 0.0), (946, 0.0), (954, 0.0), (958, 0.0), (960, 0.0), (961, 0.0), (964, 0.0), (965, 0.0), (976, 0.0), (977, 0.0), (983, 0.0), (992, 0.0), (997, 0.0), (1003, 0.0), (1008, 0.0), (1016, 0.0), (1024, 0.0), (1038, 0.0), (1045, 0.0), (1051, 0.0), (1057, 0.0), (1062, 0.0), (1069, 0.0), (1070, 0.0), (1074, 0.0), (1081, 0.0), (1089, 0.0), (1092, 0.0), (1093, 0.0), (1094, 0.0), (1099, 0.0), (1101, 0.0), (1103, 0.0), (1108, 0.0), (1116, 0.0), (1125, 0.0), (1126, 0.0), (1133, 0.0), (1134, 0.0), (1139, 0.0), (1142, 0.0), (1143, 0.0), (1147, 0.0), (1149, 0.0), (1152, 0.0), (1153, 0.0), (1154, 0.0), (1156, 0.0), (1158, 0.0), (1162, 0.0), (1164, 0.0), (1166, 0.0), (1167, 0.0), (1172, 0.0), (1180, 0.0), (1181, 0.0), (1189, 0.0), (1193, 0.0), (1196, 0.0), (1197, 0.0), (1198, 0.0), (1201, 0.0), (1205, 0.0), (1207, 0.0), (1211, 0.0), (1212, 0.0), (1226, 0.0), (1227, 0.0), (1230, 0.0), (1231, 0.0), (1233, 0.0), (1235, 0.0), (1236, 0.0), (1240, 0.0), (1242, 0.0), (1249, 0.0), (1256, 0.0), (1258, 0.0), (1260, 0.0), (1268, 0.0), (1269, 0.0), (1271, 0.0), (1272, 0.0), (1276, 0.0), (1280, 0.0), (1281, 0.0), (1287, 0.0), (1293, 0.0), (1295, 0.0), (1300, 0.0), (1309, 0.0), (1311, 0.0), (1315, 0.0), (1320, 0.0), (1323, 0.0), (1327, 0.0), (1328, 0.0), (1330, 0.0), (1331, 0.0), (1333, 0.0), (1342, 0.0), (1348, 0.0), (1358, 0.0), (1361, 0.0), (1362, 0.0), (1363, 0.0), (1388, 0.0), (1389, 0.0), (1391, 0.0), (1401, 0.0), (1405, 0.0), (1406, 0.0), (1407, 0.0), (1428, 0.0), (1432, 0.0), (1437, 0.0), (1441, 0.0), (1444, 0.0), (1449, 0.0), (1452, 0.0), (1455, 0.0), (1457, 0.0), (1460, 0.0), (1466, 0.0), (1469, 0.0), (1470, 0.0), (1473, 0.0), (1480, 0.0), (1485, 0.0), (1490, 0.0), (1491, 0.0), (1492, 0.0), (1504, 0.0), (1505, 0.0), (1507, 0.0), (1508, 0.0), (1512, 0.0), (1529, 0.0), (1531, 0.0), (1532, 0.0), (1534, 0.0), (1536, 0.0), (1540, 0.0), (1541, 0.0), (1542, 0.0), (1544, 0.0), (1552, 0.0), (1556, 0.0), (1557, 0.0), (1561, 0.0), (1563, 0.0), (1569, 0.0), (1573, 0.0), (1575, 0.0), (1581, 0.0), (1588, 0.0), (1589, 0.0), (1590, 0.0), (1591, 0.0), (1596, 0.0), (1599, 0.0), (1600, 0.0), (1601, 0.0), (1602, 0.0), (1603, 0.0), (1606, 0.0), (1607, 0.0), (1609, 0.0), (1610, 0.0), (1611, 0.0), (1614, 0.0), (1618, 0.0), (1622, 0.0), (1623, 0.0), (1635, 0.0), (1639, 0.0), (1644, 0.0), (1646, 0.0), (1647, 0.0), (1651, 0.0), (1652, 0.0), (1654, 0.0), (1657, 0.0), (1659, 0.0), (1673, 0.0), (1676, 0.0), (1684, 0.0), (1686, 0.0), (1694, 0.0), (1696, 0.0), (1697, 0.0), (1699, 0.0), (1705, 0.0), (1713, 0.0), (1720, 0.0), (1721, 0.0), (1724, 0.0), (1734, 0.0), (1745, 0.0), (1750, 0.0), (1753, 0.0), (1757, 0.0), (1761, 0.0), (1766, 0.0), (1769, 0.0), (1770, 0.0), (1771, 0.0), (1773, 0.0), (1777, 0.0), (1783, 0.0), (1785, 0.0), (1789, 0.0), (1791, 0.0), (1795, 0.0), (1803, 0.0), (1806, 0.0), (1815, 0.0), (1829, 0.0), (1834, 0.0), (1835, 0.0), (1836, 0.0), (1837, 0.0), (1838, 0.0), (1839, 0.0), (1840, 0.0), (1842, 0.0), (1846, 0.0), (1847, 0.0), (1849, 0.0), (1855, 0.0), (1856, 0.0), (1863, 0.0), (1867, 0.0), (1868, 0.0), (1898, 0.0), (1899, 0.0), (1901, 0.0), (1904, 0.0), (1906, 0.0), (1913, 0.0), (1917, 0.0), (1927, 0.0), (1930, 0.0), (1933, 0.0), (1939, 0.0), (1940, 0.0), (1944, 0.0), (1945, 0.0), (1949, 0.0), (1953, 0.0), (1955, 0.0), (1956, 0.0), (1962, 0.0), (1965, 0.0), (1966, 0.0), (1970, 0.0), (1972, 0.0), (1975, 0.0), (1978, 0.0), (1979, 0.0), (1993, 0.0), (1996, 0.0), (1998, 0.0), (1999, 0.0), (2001, 0.0), (2018, 0.0), (2021, 0.0), (2025, 0.0), (2030, 0.0), (2033, 0.0), (2041, 0.0), (2042, 0.0), (2050, 0.0), (2052, 0.0), (2054, 0.0), (2057, 0.0), (2059, 0.0), (2063, 0.0), (2064, 0.0), (2077, 0.0), (2081, 0.0), (2084, 0.0), (2085, 0.0), (2093, 0.0), (2095, 0.0), (2098, 0.0), (2100, 0.0), (2107, 0.0), (2110, 0.0), (2113, 0.0), (2124, 0.0), (2125, 0.0), (2130, 0.0), (2138, 0.0), (2140, 0.0), (2153, 0.0), (2158, 0.0), (2164, 0.0), (2168, 0.0), (2170, 0.0), (2172, 0.0), (2181, 0.0), (2184, 0.0), (2185, 0.0), (2186, 0.0), (2197, 0.0), (2200, 0.0), (2202, 0.0), (2205, 0.0), (2206, 0.0), (2207, 0.0), (2217, 0.0), (2219, 0.0), (2227, 0.0), (2232, 0.0), (2234, 0.0), (2238, 0.0), (2243, 0.0), (2244, 0.0), (2247, 0.0), (2249, 0.0), (2253, 0.0), (2256, 0.0), (2261, 0.0), (2267, 0.0), (2271, 0.0), (2272, 0.0), (2273, 0.0), (2274, 0.0), (2275, 0.0), (2276, 0.0), (2280, 0.0), (2281, 0.0), (2282, 0.0), (2290, 0.0), (2297, 0.0), (2298, 0.0), (2304, 0.0), (2305, 0.0), (2307, 0.0), (2314, 0.0), (2316, 0.0), (2325, 0.0), (2328, 0.0), (2331, 0.0), (2333, 0.0), (2335, 0.0), (2337, 0.0), (2341, 0.0), (2342, 0.0), (2343, 0.0), (2345, 0.0), (2352, 0.0), (2353, 0.0), (2357, 0.0), (2358, 0.0), (2360, 0.0), (2364, 0.0), (2365, 0.0), (2366, 0.0), (2369, 0.0), (2372, 0.0), (2373, 0.0), (2380, 0.0), (2381, 0.0), (2383, 0.0), (2389, 0.0), (2395, 0.0), (2413, 0.0), (2420, 0.0), (2424, 0.0), (2426, 0.0), (2429, 0.0), (2433, 0.0), (2435, 0.0), (2439, 0.0), (2442, 0.0), (2445, 0.0), (2449, 0.0), (2450, 0.0), (2451, 0.0), (2452, 0.0), (2455, 0.0), (2460, 0.0), (2465, 0.0), (2468, 0.0), (2471, 0.0), (2479, 0.0), (2483, 0.0), (2499, 0.0), (2500, 0.0), (2506, 0.0), (2508, 0.0), (2515, 0.0), (2516, 0.0), (2517, 0.0), (2519, 0.0), (2521, 0.0), (2523, 0.0), (2524, 0.0), (2536, 0.0), (2539, 0.0), (2541, 0.0), (2544, 0.0), (2548, 0.0), (2551, 0.0), (2564, 0.0), (2573, 0.0), (2574, 0.0), (2575, 0.0), (2577, 0.0), (2578, 0.0), (2583, 0.0), (2588, 0.0), (2590, 0.0), (2594, 0.0), (2596, 0.0), (2600, 0.0), (2604, 0.0), (2605, 0.0), (2618, 0.0), (2630, 0.0), (2639, 0.0), (2641, 0.0), (2644, 0.0), (2648, 0.0), (2658, 0.0), (2659, 0.0), (2662, 0.0), (2663, 0.0), (2667, 0.0), (2676, 0.0), (2677, 0.0), (2681, 0.0), (2683, 0.0), (2684, 0.0), (2685, 0.0), (2686, 0.0), (2688, 0.0), (2693, 0.0), (2699, 0.0), (2700, 0.0), (2703, 0.0), (2704, 0.0), (2708, 0.0), (2709, 0.0), (2710, 0.0), (2711, 0.0), (2715, 0.0), (2717, 0.0), (2718, 0.0), (2726, 0.0), (2727, 0.0), (2736, 0.0), (2737, 0.0), (2751, 0.0), (2754, 0.0), (2759, 0.0), (2762, 0.0), (2773, 0.0), (2780, 0.0), (2781, 0.0), (2787, 0.0), (2806, 0.0), (2810, 0.0), (2811, 0.0), (2815, 0.0), (2819, 0.0), (2820, 0.0), (2823, 0.0), (2825, 0.0), (2827, 0.0), (2828, 0.0), (2833, 0.0), (2836, 0.0), (2837, 0.0), (2850, 0.0), (2851, 0.0), (2852, 0.0), (2856, 0.0), (2860, 0.0), (2864, 0.0), (2865, 0.0), (2866, 0.0), (2869, 0.0), (2871, 0.0), (2875, 0.0), (2885, 0.0), (2896, 0.0), (2905, 0.0), (2913, 0.0), (2921, 0.0), (2922, 0.0), (2928, 0.0), (2930, 0.0), (2939, 0.0), (2947, 0.0), (2948, 0.0), (2950, 0.0), (2952, 0.0), (2955, 0.0), (2958, 0.0), (2960, 0.0), (2967, 0.0), (2968, 0.0), (2971, 0.0), (2978, 0.0), (2983, 0.0), (2984, 0.0), (2990, 0.0), (2991, 0.0), (2994, 0.0), (3002, 0.0), (3005, 0.0), (3006, 0.0), (3017, 0.0), (3023, 0.0), (3025, 0.0), (3034, 0.0), (3038, 0.0), (3041, 0.0), (3045, 0.0), (3047, 0.0), (3049, 0.0), (3058, 0.0), (3059, 0.0), (3060, 0.0), (3061, 0.0), (3063, 0.0), (3068, 0.0), (3077, 0.0), (3078, 0.0), (3079, 0.0), (3080, 0.0), (3085, 0.0), (3087, 0.0), (3088, 0.0), (3090, 0.0), (3092, 0.0), (3098, 0.0), (3099, 0.0), (3100, 0.0), (3102, 0.0), (3104, 0.0), (3105, 0.0), (3106, 0.0), (3107, 0.0), (3109, 0.0), (3110, 0.0), (3114, 0.0), (3115, 0.0), (3117, 0.0), (3118, 0.0), (3124, 0.0), (3126, 0.0), (3130, 0.0), (3132, 0.0), (3134, 0.0), (3135, 0.0), (3138, 0.0), (3143, 0.0), (3156, 0.0), (3158, 0.0), (3160, 0.0), (3161, 0.0), (3162, 0.0), (3163, 0.0), (3168, 0.0), (3169, 0.0), (3175, 0.0), (3176, 0.0), (3177, 0.0), (3179, 0.0), (3185, 0.0), (3188, 0.0), (3190, 0.0), (3191, 0.0), (3197, 0.0), (3203, 0.0), (3204, 0.0), (3207, 0.0), (3209, 0.0), (3213, 0.0), (3215, 0.0), (3217, 0.0), (3236, 0.0), (3245, 0.0), (3247, 0.0), (3250, 0.0), (3251, 0.0), (3253, 0.0), (3261, 0.0), (3263, 0.0), (3279, 0.0), (3281, 0.0), (3286, 0.0), (3287, 0.0), (3288, 0.0), (3305, 0.0), (3309, 0.0), (3310, 0.0), (3319, 0.0), (3323, 0.0), (3324, 0.0), (3332, 0.0), (3333, 0.0), (3334, 0.0), (3339, 0.0), (3350, 0.0), (3366, 0.0), (3367, 0.0), (3371, 0.0), (3375, 0.0), (3377, 0.0), (3383, 0.0), (3385, 0.0), (3387, 0.0), (3394, 0.0), (3395, 0.0), (3398, 0.0), (3400, 0.0), (3404, 0.0), (3405, 0.0), (3416, 0.0), (3422, 0.0), (3428, 0.0), (3432, 0.0), (3442, 0.0), (3443, 0.0), (3453, 0.0), (3462, 0.0), (3468, 0.0), (3470, 0.0), (3473, 0.0), (3475, 0.0), (3480, 0.0), (3482, 0.0), (3485, 0.0), (3486, 0.0), (3488, 0.0), (3489, 0.0), (3490, 0.0), (3494, 0.0), (3495, 0.0), (3505, 0.0), (3508, 0.0), (3509, 0.0), (3513, 0.0), (3519, 0.0), (3520, 0.0), (3522, 0.0), (3528, 0.0), (3530, 0.0), (3532, 0.0), (3533, 0.0), (3539, 0.0), (3545, 0.0), (3547, 0.0), (3550, 0.0), (3554, 0.0), (3555, 0.0), (3570, 0.0), (3572, 0.0), (3573, 0.0), (3580, 0.0), (3581, 0.0), (3582, 0.0), (3583, 0.0), (3584, 0.0), (3585, 0.0), (3588, 0.0), (3592, 0.0), (3597, 0.0), (3600, 0.0), (3602, 0.0), (3603, 0.0), (3605, 0.0), (3607, 0.0), (3609, 0.0), (3617, 0.0), (3619, 0.0), (3622, 0.0), (3625, 0.0), (3628, 0.0), (3630, 0.0), (3649, 0.0), (3652, 0.0), (3662, 0.0), (3663, 0.0), (3664, 0.0), (3671, 0.0), (3676, 0.0), (3679, 0.0), (3682, 0.0), (3683, 0.0), (3685, 0.0), (3686, 0.0), (3688, 0.0), (3693, 0.0), (3695, 0.0), (3700, 0.0), (3702, 0.0), (3703, 0.0), (3708, 0.0), (3710, 0.0), (3715, 0.0), (3716, 0.0), (3717, 0.0), (3721, 0.0), (3723, 0.0), (3726, 0.0), (3732, 0.0), (3735, 0.0), (3740, 0.0), (3744, 0.0), (3747, 0.0), (3753, 0.0), (3759, 0.0), (3760, 0.0), (3761, 0.0), (3764, 0.0), (3769, 0.0), (3773, 0.0), (3774, 0.0), (3775, 0.0), (3785, 0.0), (3787, 0.0), (3788, 0.0), (3789, 0.0), (3790, 0.0), (3798, 0.0), (3800, 0.0), (3805, 0.0), (3806, 0.0), (3808, 0.0), (3812, 0.0), (3814, 0.0), (3815, 0.0), (3816, 0.0), (3820, 0.0), (3824, 0.0), (3830, 0.0), (3833, 0.0), (3834, 0.0), (3838, 0.0), (3842, 0.0), (3844, 0.0), (3846, 0.0), (3847, 0.0), (3849, 0.0), (3850, 0.0), (3851, 0.0), (3853, 0.0), (3856, 0.0), (3859, 0.0), (3861, 0.0), (3864, 0.0), (3869, 0.0), (3872, 0.0), (3879, 0.0), (3881, 0.0), (3885, 0.0), (3887, 0.0), (3896, 0.0), (3905, 0.0), (3912, 0.0), (3918, 0.0), (3929, 0.0), (3931, 0.0), (3933, 0.0), (3934, 0.0), (3936, 0.0), (3938, 0.0), (3940, 0.0), (3942, 0.0), (3943, 0.0), (3946, 0.0), (3948, 0.0), (3949, 0.0), (3950, 0.0), (3958, 0.0), (3964, 0.0), (3968, 0.0), (3971, 0.0), (3972, 0.0), (3975, 0.0), (3976, 0.0), (3977, 0.0), (3979, 0.0), (3981, 0.0), (3982, 0.0), (3985, 0.0), (3988, 0.0), (3989, 0.0), (3993, 0.0), (3996, 0.0), (4003, 0.0), (4008, 0.0), (4010, 0.0), (4021, 0.0), (4022, 0.0), (4026, 0.0), (4027, 0.0), (4028, 0.0), (4035, 0.0), (4037, 0.0), (4039, 0.0), (4040, 0.0), (4041, 0.0), (4043, 0.0), (4044, 0.0), (4045, 0.0), (4050, 0.0), (4058, 0.0), (4063, 0.0), (4065, 0.0), (4071, 0.0), (4072, 0.0), (4073, 0.0), (4084, 0.0), (4086, 0.0), (4088, 0.0), (4090, 0.0), (4093, 0.0), (4094, 0.0), (4096, 0.0), (4097, 0.0), (4103, 0.0), (4105, 0.0), (4114, 0.0), (4122, 0.0), (4125, 0.0), (4128, 0.0), (4131, 0.0), (4134, 0.0), (4144, 0.0), (4146, 0.0), (4148, 0.0), (4149, 0.0), (4150, 0.0), (4153, 0.0), (4159, 0.0), (4164, 0.0), (4165, 0.0), (4166, 0.0), (4167, 0.0), (4170, 0.0), (4173, 0.0), (4177, 0.0), (4179, 0.0), (4180, 0.0), (4181, 0.0), (4184, 0.0), (4185, 0.0), (4190, 0.0), (4193, 0.0), (4195, 0.0), (4196, 0.0), (4198, 0.0), (4199, 0.0), (4204, 0.0), (4207, 0.0), (4208, 0.0), (4211, 0.0), (4212, 0.0), (4214, 0.0), (4215, 0.0), (4216, 0.0), (4223, 0.0), (4227, 0.0), (4229, 0.0), (4233, 0.0), (4234, 0.0), (4235, 0.0), (4236, 0.0), (4237, 0.0), (4238, 0.0), (4239, 0.0), (4250, 0.0), (4253, 0.0), (4256, 0.0), (4258, 0.0), (4261, 0.0), (4264, 0.0), (4274, 0.0), (4275, 0.0), (4276, 0.0), (4285, 0.0), (4289, 0.0), (4291, 0.0), (4300, 0.0), (4302, 0.0), (4305, 0.0), (4307, 0.0), (4314, 0.0), (4315, 0.0), (4316, 0.0), (4317, 0.0), (4319, 0.0), (4323, 0.0), (4324, 0.0), (4325, 0.0), (4327, 0.0), (4329, 0.0), (4331, 0.0), (4335, 0.0), (4341, 0.0), (4346, 0.0), (4352, 0.0), (4358, 0.0), (4360, 0.0), (4364, 0.0), (4366, 0.0), (4367, 0.0), (4370, 0.0), (4372, 0.0), (4377, 0.0), (4378, 0.0), (4380, 0.0), (4383, 0.0), (4384, 0.0), (4385, 0.0), (4389, 0.0), (4392, 0.0), (4393, 0.0), (4404, 0.0), (4408, 0.0), (4410, 0.0), (4413, 0.0), (4415, 0.0), (4417, 0.0), (4421, 0.0), (4424, 0.0), (4425, 0.0), (4426, 0.0), (4433, 0.0), (4434, 0.0), (4437, 0.0), (4447, 0.0), (4451, 0.0), (4452, 0.0), (4453, 0.0), (4455, 0.0), (4456, 0.0), (4457, 0.0), (4463, 0.0), (4466, 0.0), (4468, 0.0), (4478, 0.0), (4480, 0.0), (4483, 0.0), (4485, 0.0), (4488, 0.0), (4491, 0.0), (4496, 0.0), (4498, 0.0), (4499, 0.0), (4500, 0.0), (4506, 0.0), (4508, 0.0), (4510, 0.0), (4512, 0.0), (4514, 0.0), (4518, 0.0), (4519, 0.0), (4525, 0.0), (4526, 0.0), (4527, 0.0), (4532, 0.0), (4534, 0.0), (4537, 0.0), (4538, 0.0), (4539, 0.0), (4543, 0.0), (4547, 0.0), (4552, 0.0), (4553, 0.0), (4556, 0.0), (4557, 0.0), (4560, 0.0), (4561, 0.0), (4562, 0.0), (4565, 0.0), (4578, 0.0), (4580, 0.0), (4581, 0.0), (4582, 0.0), (4583, 0.0), (4585, 0.0), (4587, 0.0), (4588, 0.0), (4595, 0.0), (4597, 0.0), (4615, 0.0), (4618, 0.0), (4622, 0.0), (4623, 0.0), (4628, 0.0), (4630, 0.0), (4631, 0.0), (4639, 0.0), (4642, 0.0), (4644, 0.0), (4645, 0.0), (4651, 0.0), (4654, 0.0), (4655, 0.0), (4656, 0.0), (4662, 0.0), (4663, 0.0), (4664, 0.0), (4665, 0.0), (4666, 0.0), (4671, 0.0), (4672, 0.0), (4681, 0.0), (4683, 0.0), (4684, 0.0), (4688, 0.0), (4690, 0.0), (4691, 0.0), (4697, 0.0), (4698, 0.0), (4700, 0.0), (4702, 0.0), (4703, 0.0), (4707, 0.0), (4708, 0.0), (4709, 0.0), (4711, 0.0), (4714, 0.0), (4720, 0.0), (4721, 0.0), (4725, 0.0), (4726, 0.0), (4727, 0.0), (4728, 0.0), (4730, 0.0), (4736, 0.0), (4737, 0.0), (4738, 0.0), (4740, 0.0), (4741, 0.0), (4742, 0.0), (4745, 0.0), (4746, 0.0), (4747, 0.0), (4750, 0.0), (4751, 0.0), (4754, 0.0), (4758, 0.0), (4759, 0.0)]\n"
          ]
        }
      ]
    },
    {
      "cell_type": "code",
      "source": [
        "print('Top 30 Movies suggested for you:\\n')\n",
        "i=1\n",
        "for movie in Sorted_Similar_Movies:\n",
        "  index=movie[0]\n",
        "  title_from_index=df[df.index==index]['Movie_Title'].values[0]\n",
        "  if (i<31):\n",
        "    print(i,'.',title_from_index)\n",
        "    i+=1"
      ],
      "metadata": {
        "colab": {
          "base_uri": "https://localhost:8080/"
        },
        "id": "di7KClZMjs1S",
        "outputId": "0d94eb6c-7a20-4268-fe5d-2b461c37bb6d"
      },
      "execution_count": 72,
      "outputs": [
        {
          "output_type": "stream",
          "name": "stdout",
          "text": [
            "Top 30 Movies suggested for you:\n",
            "\n",
            "1 . Gandhi\n",
            "2 . A Bridge Too Far\n",
            "3 . The Monuments Men\n",
            "4 . The Longest Day\n",
            "5 . Schindler's List\n",
            "6 . The Thin Red Line\n",
            "7 . Saving Private Ryan\n",
            "8 . The Theory of Everything\n",
            "9 . Judgment at Nuremberg\n",
            "10 . Hart's War\n",
            "11 . The Sound of Music\n",
            "12 . The Road\n",
            "13 . Agora\n",
            "14 . The New World\n",
            "15 . Legends of the Fall\n",
            "16 . Miss Congeniality\n",
            "17 . Pearl Harbor\n",
            "18 . Catch-22\n",
            "19 . The Hunting Party\n",
            "20 . Red Tails\n",
            "21 . Windtalkers\n",
            "22 . Mr. Holland's Opus\n",
            "23 . Patton\n",
            "24 . Unbroken\n",
            "25 . Sweet Home Alabama\n",
            "26 . The Great Raid\n",
            "27 . Fury\n",
            "28 . Miracle at St. Anna\n",
            "29 . Flags of Our Fathers\n",
            "30 . Saints and Soldiers\n"
          ]
        }
      ]
    },
    {
      "cell_type": "markdown",
      "source": [
        "# **Top 10 Movie Recommendation System**"
      ],
      "metadata": {
        "id": "eKFJ9AJGAil7"
      }
    },
    {
      "cell_type": "code",
      "source": [
        "Favourite_Movie_Name=input('Enter your favourite movie name:')\n",
        "All_Movies_Title_List=df['Movie_Title'].tolist()\n",
        "Movie_Recommendation=difflib.get_close_matches(Favourite_Movie_Name,All_Movies_Title_List)\n",
        "Close_Match=Movie_Recommendation[0]\n",
        "Index_of_Close_Match_Movie=df[df.Movie_Title==Close_Match]['Movie_ID'].values[0]\n",
        "Recommendation_Score=list(enumerate(Similarity_Score[Index_of_Close_Match_Movie]))\n",
        "Sorted_Similar_Movies=sorted(Recommendation_Score,key=lambda x:x[1],reverse=True)\n",
        "print('Top 10 Movies suggested for you:\\n')\n",
        "i=1\n",
        "for movie in Sorted_Similar_Movies:\n",
        "  index=movie[0]\n",
        "  title_from_index=df[df.index==index]['Movie_Title'].values[0]\n",
        "  if (i<11):\n",
        "    print(i,'.',title_from_index)\n",
        "    i+=1"
      ],
      "metadata": {
        "colab": {
          "base_uri": "https://localhost:8080/"
        },
        "id": "A-yc0SRfAlZW",
        "outputId": "67088ee9-1700-4172-c264-bac7dc4d31ca"
      },
      "execution_count": 74,
      "outputs": [
        {
          "output_type": "stream",
          "name": "stdout",
          "text": [
            "Enter your favourite movie name:avtaar\n",
            "Top 10 Movies suggested for you:\n",
            "\n",
            "1 . Niagara\n",
            "2 . Caravans\n",
            "3 . My Week with Marilyn\n",
            "4 . Brokeback Mountain\n",
            "5 . Harry Brown\n",
            "6 . Night of the Living Dead\n",
            "7 . The Curse of Downers Grove\n",
            "8 . The Boy Next Door\n",
            "9 . Back to the Future\n",
            "10 . The Juror\n"
          ]
        }
      ]
    }
  ]
}